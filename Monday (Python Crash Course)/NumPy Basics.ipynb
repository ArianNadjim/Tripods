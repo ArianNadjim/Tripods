{
 "cells": [
  {
   "cell_type": "markdown",
   "metadata": {},
   "source": [
    "# NumPy Basics\n",
    "\n",
    "Some parts of this tutorial is adapted from [https://numpy.org/doc/stable/user/quickstart.html#quickstart-tutorial]. For more details, please visit the website.\n",
    "\n",
    "NumPy is a Python library that helps us work with n-dimensional arrays (nd arrays). Even though in this program, we may focus primarily on (at most) 2d arrays (a.k.a. matrices), nd arrays show up very frequently in data science. For example, a color picture can be two of as a 3d array, since each pixel requires three numbers (intensities of red, green and blue) to describe its color and there is a 2d array worth of pixels. Similarly, a video could be represented by a 4d array where the fourth dimension would be the time.\n",
    "\n",
    "To use NumPy tools, we first \"import\" it using the following line."
   ]
  },
  {
   "cell_type": "code",
   "execution_count": 72,
   "metadata": {},
   "outputs": [],
   "source": [
    "import numpy as np"
   ]
  },
  {
   "cell_type": "markdown",
   "metadata": {},
   "source": [
    "There are many different ways to instantiate an nd array. Here are a few:\n",
    "  * np.array(yourPythonListHere) converts standard Python lists to nd numpy arrays\n",
    "  * np.zeros(n) returns a 1d array of size n filled with zeros. \n",
    "  * np.eye(n) returns the $n\\times n$ identity matrix.\n",
    "  * np.arange(k) returns a 1d array of integers from 0 to k (excluding k)."
   ]
  },
  {
   "cell_type": "code",
   "execution_count": 159,
   "metadata": {},
   "outputs": [
    {
     "name": "stdout",
     "output_type": "stream",
     "text": [
      "[0 5 1 3 6] \n",
      "\n",
      "[[5 6 1]\n",
      " [2 3 6]] \n",
      "\n",
      "[0. 0. 0. 0. 0.] \n",
      "\n",
      "[[1. 0. 0.]\n",
      " [0. 1. 0.]\n",
      " [0. 0. 1.]] \n",
      "\n",
      "[0 1 2 3 4]\n"
     ]
    }
   ],
   "source": [
    "arr1 = np.array([0,5,1,3,6])\n",
    "print(arr1, '\\n')\n",
    "\n",
    "# '\\n' is a character that represents a new line.\n",
    "# So printing it will leave one space between consecutive print statements.\n",
    "\n",
    "arr2 = np.array([[5,6,1],[2,3,6]])\n",
    "print(arr2, '\\n')\n",
    "\n",
    "arr3 = np.zeros(5)\n",
    "print(arr3, '\\n')\n",
    "\n",
    "arr4 = np.eye(3)\n",
    "print(arr4, '\\n')\n",
    "\n",
    "arr5 = np.arange(5) # there are different variations of this\n",
    "print(arr5)"
   ]
  },
  {
   "cell_type": "markdown",
   "metadata": {},
   "source": [
    "There are variations of these functionalities as well. For example,\n",
    "  * np.zeros((n,m)) will return the $n\\times m$ zero matrix \n",
    "  * np.arange(b, e, d) will return the arithmetic sequence starting at b with common difference of d and ending at e (excluding e)."
   ]
  },
  {
   "cell_type": "code",
   "execution_count": 160,
   "metadata": {},
   "outputs": [
    {
     "name": "stdout",
     "output_type": "stream",
     "text": [
      "[[0. 0. 0. 0. 0.]\n",
      " [0. 0. 0. 0. 0.]] \n",
      "\n",
      "[13 18 23 28 33 38 43 48]\n"
     ]
    }
   ],
   "source": [
    "arr6 = np.zeros((2,5))\n",
    "print(arr6, '\\n')\n",
    "\n",
    "arr7 = np.arange(13, 50, 5)\n",
    "print(arr7)"
   ]
  },
  {
   "cell_type": "markdown",
   "metadata": {},
   "source": [
    "Another function that is very helpful is np.linspace.\n",
    "\n",
    "np.linspace(a,b,c) will give you c numbers from the interval [a,b]."
   ]
  },
  {
   "cell_type": "code",
   "execution_count": 194,
   "metadata": {},
   "outputs": [
    {
     "data": {
      "text/plain": [
       "array([103. , 103.2, 103.4, 103.6, 103.8, 104. , 104.2, 104.4, 104.6,\n",
       "       104.8, 105. ])"
      ]
     },
     "execution_count": 194,
     "metadata": {},
     "output_type": "execute_result"
    }
   ],
   "source": [
    "np.linspace(103, 105, 11)"
   ]
  },
  {
   "cell_type": "markdown",
   "metadata": {},
   "source": [
    "Unlike Python arrays, NumPy arrays have uniform datatypes."
   ]
  },
  {
   "cell_type": "code",
   "execution_count": 183,
   "metadata": {},
   "outputs": [
    {
     "name": "stdout",
     "output_type": "stream",
     "text": [
      "['1' 'True' 'a' '10.9']\n",
      "[<class 'numpy.str_'>, <class 'numpy.str_'>, <class 'numpy.str_'>, <class 'numpy.str_'>]\n"
     ]
    }
   ],
   "source": [
    "arr = np.array([1, True, 'a', 10.9])\n",
    "print(arr)\n",
    "print([type(x) for x in arr])"
   ]
  },
  {
   "cell_type": "markdown",
   "metadata": {},
   "source": [
    "As we can see, all the entries are of the same type a NumPy string.\n",
    "\n",
    "We check the number of axes (dimensions) of a NumPy array using the attribute .ndim.\n",
    "\n",
    "The attribute .shape gives us the dimensions of the array. That is, a tuple of integers indicating the size of the array in each dimension. e.g. if you call this function on an $n\\times m$ matrix, it returns $(n,m)$.\n",
    "\n",
    "Finally, .size returns the number of elements in the array. In other words the product of numbers of .shape."
   ]
  },
  {
   "cell_type": "code",
   "execution_count": 184,
   "metadata": {},
   "outputs": [
    {
     "name": "stdout",
     "output_type": "stream",
     "text": [
      "[ 0  1  2  3  4  5  6  7  8  9 10 11 12 13 14]\n",
      "1\n",
      "(15,)\n",
      "15 \n",
      "\n",
      "[[0. 0. 0. 0. 0.]\n",
      " [0. 0. 0. 0. 0.]]\n",
      "2\n",
      "(2, 5)\n",
      "10\n"
     ]
    }
   ],
   "source": [
    "arr = np.arange(15)\n",
    "print(arr)\n",
    "print(arr.ndim)\n",
    "print(arr.shape)\n",
    "print(arr.size, '\\n')\n",
    "\n",
    "arr = np.zeros((2, 5))\n",
    "print(arr)\n",
    "print(arr.ndim)\n",
    "print(arr.shape)\n",
    "print(arr.size)"
   ]
  },
  {
   "cell_type": "markdown",
   "metadata": {},
   "source": [
    "#### A couple of common mistakes:\n",
    "\n",
    "We should be careful with how we call the methods mentioned above. A couple of common mistakes are shown below. Admittedly, these are small mistakes but you may end up wasting a lot of time, if you don't know where to look. So, you should keep these in mind.\n",
    "\n",
    "  * using np.array(1,2,3) instead of np.array([1,2,3])\n",
    "  * using np.zeros(3,4) instead of np.zeros((3,4))"
   ]
  },
  {
   "cell_type": "code",
   "execution_count": 185,
   "metadata": {},
   "outputs": [
    {
     "ename": "TypeError",
     "evalue": "array() takes from 1 to 2 positional arguments but 3 were given",
     "output_type": "error",
     "traceback": [
      "\u001b[0;31m---------------------------------------------------------------------------\u001b[0m",
      "\u001b[0;31mTypeError\u001b[0m                                 Traceback (most recent call last)",
      "\u001b[0;32m<ipython-input-185-a4d22456da9e>\u001b[0m in \u001b[0;36m<module>\u001b[0;34m\u001b[0m\n\u001b[0;32m----> 1\u001b[0;31m \u001b[0mnp\u001b[0m\u001b[0;34m.\u001b[0m\u001b[0marray\u001b[0m\u001b[0;34m(\u001b[0m\u001b[0;36m1\u001b[0m\u001b[0;34m,\u001b[0m\u001b[0;36m2\u001b[0m\u001b[0;34m,\u001b[0m\u001b[0;36m3\u001b[0m\u001b[0;34m)\u001b[0m\u001b[0;34m\u001b[0m\u001b[0;34m\u001b[0m\u001b[0m\n\u001b[0m",
      "\u001b[0;31mTypeError\u001b[0m: array() takes from 1 to 2 positional arguments but 3 were given"
     ]
    }
   ],
   "source": [
    "np.array(1,2,3)"
   ]
  },
  {
   "cell_type": "code",
   "execution_count": 186,
   "metadata": {},
   "outputs": [
    {
     "ename": "TypeError",
     "evalue": "Cannot interpret '4' as a data type",
     "output_type": "error",
     "traceback": [
      "\u001b[0;31m---------------------------------------------------------------------------\u001b[0m",
      "\u001b[0;31mTypeError\u001b[0m                                 Traceback (most recent call last)",
      "\u001b[0;32m<ipython-input-186-f4e1d508c148>\u001b[0m in \u001b[0;36m<module>\u001b[0;34m\u001b[0m\n\u001b[0;32m----> 1\u001b[0;31m \u001b[0mnp\u001b[0m\u001b[0;34m.\u001b[0m\u001b[0mzeros\u001b[0m\u001b[0;34m(\u001b[0m\u001b[0;36m3\u001b[0m\u001b[0;34m,\u001b[0m\u001b[0;36m4\u001b[0m\u001b[0;34m)\u001b[0m\u001b[0;34m\u001b[0m\u001b[0;34m\u001b[0m\u001b[0m\n\u001b[0m",
      "\u001b[0;31mTypeError\u001b[0m: Cannot interpret '4' as a data type"
     ]
    }
   ],
   "source": [
    "np.zeros(3,4)"
   ]
  },
  {
   "cell_type": "markdown",
   "metadata": {},
   "source": [
    "Once we have an array of certain shape, we can reshape it using .reshape.\n",
    "\n",
    "Let's create a 3d array."
   ]
  },
  {
   "cell_type": "code",
   "execution_count": 195,
   "metadata": {},
   "outputs": [
    {
     "name": "stdout",
     "output_type": "stream",
     "text": [
      "[[[ 0  1]\n",
      "  [ 2  3]]\n",
      "\n",
      " [[ 4  5]\n",
      "  [ 6  7]]\n",
      "\n",
      " [[ 8  9]\n",
      "  [10 11]]]\n"
     ]
    },
    {
     "data": {
      "text/plain": [
       "array([[[ 0,  1],\n",
       "        [ 2,  3]],\n",
       "\n",
       "       [[ 4,  5],\n",
       "        [ 6,  7]],\n",
       "\n",
       "       [[ 8,  9],\n",
       "        [10, 11]]])"
      ]
     },
     "execution_count": 195,
     "metadata": {},
     "output_type": "execute_result"
    }
   ],
   "source": [
    "arr1d = np.arange(12)\n",
    "arr3d = arr1d.reshape((3,2,2))\n",
    "print(arr3d)\n",
    "\n",
    "np.arange(12).reshape((3,2,2))"
   ]
  },
  {
   "cell_type": "code",
   "execution_count": 132,
   "metadata": {},
   "outputs": [
    {
     "name": "stderr",
     "output_type": "stream",
     "text": [
      "Clipping input data to the valid range for imshow with RGB data ([0..1] for floats or [0..255] for integers).\n"
     ]
    },
    {
     "data": {
      "image/png": "[encoded data removed]",
      "text/plain": [
       "<Figure size 432x288 with 1 Axes>"
      ]
     },
     "metadata": {
      "needs_background": "light"
     },
     "output_type": "display_data"
    }
   ],
   "source": [
    "data = np.random.randint(0, 255, (50,50,3))\n",
    "data = np.arange(255*255*3)\n",
    "data = data.reshape((255,255,3))\n",
    "data = np.cos(data/(255*255*3)*3.14)\n",
    "\n",
    "from matplotlib import pyplot as plt\n",
    "plt.imshow(data, interpolation='nearest')\n",
    "plt.show()"
   ]
  },
  {
   "cell_type": "code",
   "execution_count": 70,
   "metadata": {},
   "outputs": [
    {
     "data": {
      "text/plain": [
       "1"
      ]
     },
     "execution_count": 70,
     "metadata": {},
     "output_type": "execute_result"
    }
   ],
   "source": [
    "arr.ndim"
   ]
  },
  {
   "cell_type": "markdown",
   "metadata": {},
   "source": [
    "Even if you are working with low dimensional arrays, using NumPy is beneficial. First, it provides you with many functionality so you don't have to implement things from scratch (for example, matrix multiplication, standard deviation, etc.) Second, the implementations typically utilize parallel programming meaning they run as fast as possible on your computer."
   ]
  },
  {
   "cell_type": "code",
   "execution_count": 68,
   "metadata": {},
   "outputs": [
    {
     "data": {
      "text/plain": [
       "20870.4572118799"
      ]
     },
     "execution_count": 68,
     "metadata": {},
     "output_type": "execute_result"
    }
   ],
   "source": [
    "\n",
    "\n",
    "myArray = np.random.randint(0, 500, 100000)\n",
    "myArray.var()"
   ]
  },
  {
   "cell_type": "code",
   "execution_count": 202,
   "metadata": {},
   "outputs": [
    {
     "name": "stdout",
     "output_type": "stream",
     "text": [
      "24989399\n",
      "0.00594782829284668 s\n"
     ]
    }
   ],
   "source": [
    "import time\n",
    "tic = time.time()\n",
    "print(np.sum(myArray))\n",
    "toc = time.time()\n",
    "print(toc-tic, 's')"
   ]
  },
  {
   "cell_type": "code",
   "execution_count": 203,
   "metadata": {},
   "outputs": [
    {
     "name": "stdout",
     "output_type": "stream",
     "text": [
      "24989399\n",
      "0.054025888442993164 s\n"
     ]
    }
   ],
   "source": [
    "import time\n",
    "tic = time.time()\n",
    "s = 0\n",
    "for i in myArray:\n",
    "    s += i\n",
    "print(s)\n",
    "toc = time.time()\n",
    "print(toc-tic, 's')"
   ]
  },
  {
   "cell_type": "code",
   "execution_count": 43,
   "metadata": {},
   "outputs": [
    {
     "data": {
      "text/plain": [
       "24937394"
      ]
     },
     "execution_count": 43,
     "metadata": {},
     "output_type": "execute_result"
    }
   ],
   "source": [
    "myArray.sum()"
   ]
  },
  {
   "cell_type": "code",
   "execution_count": 44,
   "metadata": {},
   "outputs": [
    {
     "name": "stdout",
     "output_type": "stream",
     "text": [
      "24937394\n",
      "0.0010135173797607422 s\n"
     ]
    }
   ],
   "source": [
    "import time\n",
    "tic = time.time()\n",
    "print(myArray.sum())\n",
    "toc = time.time()\n",
    "print(toc-tic, 's')"
   ]
  },
  {
   "cell_type": "code",
   "execution_count": 204,
   "metadata": {},
   "outputs": [
    {
     "data": {
      "text/plain": [
       "[<matplotlib.lines.Line2D at 0x7f4a2f4b18e0>]"
      ]
     },
     "execution_count": 204,
     "metadata": {},
     "output_type": "execute_result"
    },
    {
     "data": {
      "image/png": "[encoded data removed]",
      "text/plain": [
       "<Figure size 432x288 with 1 Axes>"
      ]
     },
     "metadata": {
      "needs_background": "light"
     },
     "output_type": "display_data"
    }
   ],
   "source": [
    "from matplotlib import pyplot as plt\n",
    "\n",
    "xs = np.linspace(0,2*3.15, 100)\n",
    "\n",
    "plt.plot(np.sin(xs))"
   ]
  },
  {
   "cell_type": "markdown",
   "metadata": {},
   "source": [
    "Copyright (c) 2020 TRIPODS/GradStemForAll 2020 Team"
   ]
  }
 ],
 "metadata": {
  "kernelspec": {
   "display_name": "Python 3",
   "language": "python",
   "name": "python3"
  },
  "language_info": {
   "codemirror_mode": {
    "name": "ipython",
    "version": 3
   },
   "file_extension": ".py",
   "mimetype": "text/x-python",
   "name": "python",
   "nbconvert_exporter": "python",
   "pygments_lexer": "ipython3",
   "version": "3.7.6"
  }
 },
 "nbformat": 4,
 "nbformat_minor": 4
}
