{
 "cells": [
  {
   "cell_type": "code",
   "execution_count": 16,
   "metadata": {
    "scrolled": true
   },
   "outputs": [
    {
     "data": {
      "text/html": [
       "<div>\n",
       "<style scoped>\n",
       "    .dataframe tbody tr th:only-of-type {\n",
       "        vertical-align: middle;\n",
       "    }\n",
       "\n",
       "    .dataframe tbody tr th {\n",
       "        vertical-align: top;\n",
       "    }\n",
       "\n",
       "    .dataframe thead th {\n",
       "        text-align: right;\n",
       "    }\n",
       "</style>\n",
       "<table border=\"1\" class=\"dataframe\">\n",
       "  <thead>\n",
       "    <tr style=\"text-align: right;\">\n",
       "      <th></th>\n",
       "      <th>Agent</th>\n",
       "      <th>Organizer</th>\n",
       "      <th>Instructor</th>\n",
       "      <th>Recitation Instructor</th>\n",
       "      <th>Python Instructor</th>\n",
       "      <th>Python Team G.I.Joe</th>\n",
       "      <th>Python Team Cobra</th>\n",
       "      <th>Mentors</th>\n",
       "    </tr>\n",
       "  </thead>\n",
       "  <tbody>\n",
       "    <tr>\n",
       "      <td>0</td>\n",
       "      <td>Ian Alevy</td>\n",
       "      <td>1</td>\n",
       "      <td>1</td>\n",
       "      <td>0</td>\n",
       "      <td>1</td>\n",
       "      <td>1</td>\n",
       "      <td>0</td>\n",
       "      <td>0</td>\n",
       "    </tr>\n",
       "    <tr>\n",
       "      <td>1</td>\n",
       "      <td>Alex Iosevich</td>\n",
       "      <td>1</td>\n",
       "      <td>1</td>\n",
       "      <td>0</td>\n",
       "      <td>1</td>\n",
       "      <td>0</td>\n",
       "      <td>1</td>\n",
       "      <td>1</td>\n",
       "    </tr>\n",
       "    <tr>\n",
       "      <td>2</td>\n",
       "      <td>Sevak Mkrtchyan</td>\n",
       "      <td>1</td>\n",
       "      <td>1</td>\n",
       "      <td>0</td>\n",
       "      <td>0</td>\n",
       "      <td>0</td>\n",
       "      <td>0</td>\n",
       "      <td>0</td>\n",
       "    </tr>\n",
       "    <tr>\n",
       "      <td>3</td>\n",
       "      <td>Azita Mayeli</td>\n",
       "      <td>1</td>\n",
       "      <td>0</td>\n",
       "      <td>1</td>\n",
       "      <td>1</td>\n",
       "      <td>1</td>\n",
       "      <td>0</td>\n",
       "      <td>1</td>\n",
       "    </tr>\n",
       "  </tbody>\n",
       "</table>\n",
       "</div>"
      ],
      "text/plain": [
       "             Agent  Organizer  Instructor  Recitation Instructor  \\\n",
       "0        Ian Alevy          1           1                      0   \n",
       "1    Alex Iosevich          1           1                      0   \n",
       "2  Sevak Mkrtchyan          1           1                      0   \n",
       "3     Azita Mayeli          1           0                      1   \n",
       "\n",
       "   Python Instructor  Python Team G.I.Joe  Python Team Cobra  Mentors  \n",
       "0                  1                    1                  0        0  \n",
       "1                  1                    0                  1        1  \n",
       "2                  0                    0                  0        0  \n",
       "3                  1                    1                  0        1  "
      ]
     },
     "execution_count": 16,
     "metadata": {},
     "output_type": "execute_result"
    }
   ],
   "source": [
    "import pandas as pd\n",
    "\n",
    "ian_alevy_missions=['Ian Alevy',1,1,0,1,1,0,0]\n",
    "alex_iosevich_missions=['Alex Iosevich',1,1,0,1,0,1,1]\n",
    "sevak_mkrtchyan_missions=['Sevak Mkrtchyan',1,1,0,0,0,0,0]\n",
    "azita_mayeli_missions=['Azita Mayeli',1,0,1,1,1,0,1]\n",
    "\n",
    "data = [ian_alevy_missions, alex_iosevich_missions,sevak_mkrtchyan_missions,azita_mayeli_missions ]\n",
    "\n",
    "# Creates a list needed for the creationg of the dataframe\n",
    "  \n",
    "df = pd.DataFrame(data, columns = ['Agent','Organizer','Instructor','Recitation Instructor','Python Instructor',\n",
    "                                    'Python Team G.I.Joe','Python Team Cobra','Mentors'])\n",
    "\n",
    "# Creates the dataframe\n",
    "\n",
    "df\n",
    "\n",
    "# Sets \"Name\" as the index column \n",
    "\n"
   ]
  },
  {
   "cell_type": "code",
   "execution_count": 7,
   "metadata": {},
   "outputs": [
    {
     "data": {
      "text/plain": [
       "['alevy',\n",
       " 'aten',\n",
       " 'iosevich',\n",
       " 'juvekar',\n",
       " 'lin',\n",
       " 'luo',\n",
       " 'mayeli',\n",
       " 'mkrtchyan',\n",
       " 'nadjimzadeh',\n",
       " 'senger',\n",
       " 'windes',\n",
       " 'yildirim',\n",
       " 'zhai']"
      ]
     },
     "execution_count": 7,
     "metadata": {},
     "output_type": "execute_result"
    }
   ],
   "source": [
    "list_warriors=['mkrtchyan','iosevich','windes','aten','alevy','mayeli','luo','juvekar','lin','nadjimzadeh',\n",
    "               'senger','yildirim','zhai']\n",
    "\n",
    "list_warriors.sort()\n",
    "\n",
    "list_warriors"
   ]
  },
  {
   "cell_type": "code",
   "execution_count": null,
   "metadata": {},
   "outputs": [],
   "source": []
  }
 ],
 "metadata": {
  "kernelspec": {
   "display_name": "Python 3",
   "language": "python",
   "name": "python3"
  },
  "language_info": {
   "codemirror_mode": {
    "name": "ipython",
    "version": 3
   },
   "file_extension": ".py",
   "mimetype": "text/x-python",
   "name": "python",
   "nbconvert_exporter": "python",
   "pygments_lexer": "ipython3",
   "version": "3.7.4"
  }
 },
 "nbformat": 4,
 "nbformat_minor": 2
}
