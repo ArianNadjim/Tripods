{
 "cells": [
  {
   "cell_type": "markdown",
   "metadata": {},
   "source": [
    "# Concentration of the norm for random vectors\n",
    "Based on section 3.1 of Vershynin's 'High Dimensional Probability'\n",
    "\n",
    "Charlotte Aten (charlotte.aten@rochester.edu) 2020\n",
    "\n",
    "Thanks to Sevak Mkrtchyan for suggesting some of the projects in section 3.1 of this notebook."
   ]
  },
  {
   "cell_type": "code",
   "execution_count": null,
   "metadata": {},
   "outputs": [],
   "source": [
    "# Imports\n",
    "import numpy as np\n",
    "from matplotlib import pyplot as plt"
   ]
  },
  {
   "cell_type": "markdown",
   "metadata": {},
   "source": [
    "## 1. Making random vectors\n",
    "\n",
    "Recall that random vectors were first discussed in Theorem 0.0.2 of the Appetizer, which was an approximate form of Caratheodory's theorem. An $n$-dimensional random vector $X=(X_1,\\dots,X_n)$ is a vector whose components $X_1,\\dots,X_n$ are each random variables. Often we consider random vectors whose components are independent and identically distributed (i.i.d.).\n",
    "\n",
    "In order to work with random vectors we're going to need to create examples of them.\n",
    "\n",
    "We first do this by using the distributions implemented in numpy.\n",
    "\n",
    "Later we will use real-world data to produce examples."
   ]
  },
  {
   "cell_type": "code",
   "execution_count": null,
   "metadata": {},
   "outputs": [],
   "source": [
    "print('We first create a random number generator with numpy.\\n')\n",
    "rng = np.random.default_rng()\n",
    "\n",
    "print('We can use this random number generator to make a random vector with 13 components coming from the standard normal distribution with mean 0 and variance 1.\\n')\n",
    "x = rng.standard_normal(13)\n",
    "\n",
    "print('We display the components of this vector.')\n",
    "print(x)\n",
    "print()\n",
    "\n",
    "print('We can also make a random vector of dimension 7 whose components are sampled from the normal distribution with mean 2.3 and variance 1.1.\\n')\n",
    "y = rng.normal(2.3,1.1,7)\n",
    "\n",
    "print('We display the components of this vector.')\n",
    "print(y)\n",
    "print()\n",
    "\n",
    "print('We can sample components for our vectors from other distributions, as well.\\n')\n",
    "print('Here we create and display a random vector of dimension 5 whose components are sampled from the Wald, or Inverse Gaussian, distribution with mean 2.4.')\n",
    "z = rng.wald(2.4,1,5)\n",
    "print(z)"
   ]
  },
  {
   "cell_type": "markdown",
   "metadata": {},
   "source": [
    "### 1.1 Projects, exercises, and comments on making random vectors"
   ]
  },
  {
   "cell_type": "markdown",
   "metadata": {},
   "source": [
    "Exercise 1.1.1: Create a random vector with 21 components coming from the standard normal distribution. Display the components of your vector to make sure you have indeed done this."
   ]
  },
  {
   "cell_type": "code",
   "execution_count": null,
   "metadata": {},
   "outputs": [],
   "source": [
    "# Your code for exercise 1.1.1."
   ]
  },
  {
   "cell_type": "markdown",
   "metadata": {},
   "source": [
    "Exercise 1.1.2: Create and display a random vector with 11 components coming from the normal distribution with mean -2 and variance 1.3."
   ]
  },
  {
   "cell_type": "code",
   "execution_count": null,
   "metadata": {},
   "outputs": [],
   "source": [
    "# Your code for exercise 1.1.2."
   ]
  },
  {
   "cell_type": "markdown",
   "metadata": {},
   "source": [
    "Exercise 1.1.3: Find out what the second parameter to the Wald distribution in the previous example is by using the documentation.\n",
    "\n",
    "Documentation of the distributions available in numpy can be found [here](https://numpy.org/doc/stable/reference/random/generator.html)."
   ]
  },
  {
   "cell_type": "code",
   "execution_count": null,
   "metadata": {},
   "outputs": [],
   "source": [
    "# Your code for exercise 1.1.3."
   ]
  },
  {
   "cell_type": "markdown",
   "metadata": {},
   "source": [
    "Exercise 1.1.4: Create and display a vector whose components are generated according to another distribution available in numpy."
   ]
  },
  {
   "cell_type": "code",
   "execution_count": null,
   "metadata": {},
   "outputs": [],
   "source": [
    "# Your code for exercise 1.1.4."
   ]
  },
  {
   "cell_type": "markdown",
   "metadata": {},
   "source": [
    "Exercise 1.1.5: Create and display a vector $X=(X_1,\\dots,X_{20})$ of dimension 20 whose $i^{\\text{th}}$ component is sampled from the normal distribution of mean $i$ with variance $\\frac{1}{i}$."
   ]
  },
  {
   "cell_type": "code",
   "execution_count": null,
   "metadata": {},
   "outputs": [],
   "source": [
    "# Your code for exercise 1.1.5."
   ]
  },
  {
   "cell_type": "markdown",
   "metadata": {},
   "source": [
    "## 2. A class for random vectors\n",
    "\n",
    "So far our random vectors have been numpy arrays. Let's create a class which represents a random vector and carries some of the methods we would like to use on random vectors.\n",
    "\n",
    "We create a class which will represent our conception of a random vector.\n",
    "\n",
    "There is nothing stopping us from defining a laundry-list of functions which operate on numpy vectors and going from there, but using the object-oriented approach helps keep us organized and distinguish what we add from what already exists in numpy."
   ]
  },
  {
   "cell_type": "code",
   "execution_count": null,
   "metadata": {},
   "outputs": [],
   "source": [
    "class RandomVector:\n",
    "    \"\"\"\n",
    "    A random vector.\n",
    "    \n",
    "    Attributes:\n",
    "        components (numpy.ndarray): The components of the vector.\n",
    "        dim (int): The dimension in which the vector lies.\n",
    "    \"\"\"\n",
    "    \n",
    "    def __init__(self,dim,distribution=lambda dim: np.random.default_rng().standard_normal(dim)):\n",
    "        \"\"\"        \n",
    "        Args:\n",
    "            dim (int): The dimension in which the vector lies.\n",
    "            distribution (function): The distribution(s) according to which the vector is generated.\n",
    "                This function should create a numpy array with `dim` many entries.\n",
    "                The list of available distributions in numpy can be found here:\n",
    "                https://numpy.org/doc/stable/reference/random/generator.html\n",
    "                These distributions can be passed in as pure (lambda) functions.\n",
    "                See examples below.\n",
    "        \"\"\"\n",
    "        \n",
    "        # Demand that `dim` is a natural number.\n",
    "        assert dim>0 and type(dim) is int\n",
    "        self.components = distribution(dim)\n",
    "        # Let the vector keep track of its dimension. (This is the same as its length.)\n",
    "        self.dim = dim\n",
    "\n",
    "    def __repr__(self):\n",
    "        \"\"\"\n",
    "        Make it so that printing the vector returns basic information about it.\n",
    "        In order to see the components of a random vector `x` use `print(x.components)`.\n",
    "        \n",
    "        Returns:\n",
    "            str: The basic information on the vector.\n",
    "        \"\"\"\n",
    "\n",
    "        return 'a {}-dimensional random vector (id: {})'.format(self.dim,id(self))\n",
    "\n",
    "    def mean(self):\n",
    "        \"\"\"\n",
    "        Compute the mean of the random vector by taking the mean of its components.\n",
    "        \n",
    "        Returns:\n",
    "            numpy.float64: The computed mean of the vector.\n",
    "        \"\"\"\n",
    "        \n",
    "        return self.components.mean()\n",
    "    \n",
    "    def norm_squared(self):\n",
    "        \"\"\"\n",
    "        Compute the Euclidean norm squared of the vector, which is the sum of the squares of the entries.\n",
    "        \n",
    "        Returns:\n",
    "            numpy.float64: The square of the norm of the vector.\n",
    "        \"\"\"\n",
    "\n",
    "        return sum(self.components**2)"
   ]
  },
  {
   "cell_type": "code",
   "execution_count": null,
   "metadata": {},
   "outputs": [],
   "source": [
    "print('Examples of the `RandomVector` class.\\n')\n",
    "\n",
    "print('Create a random vector `x` in 10 dimensions.')\n",
    "x = RandomVector(10)\n",
    "print()\n",
    "\n",
    "print('Have `x` give us information about itself.')\n",
    "print(x)\n",
    "print()\n",
    "\n",
    "print('Check the dimension of `x`.')\n",
    "print(x.dim)\n",
    "print()\n",
    "\n",
    "print('View the components of `x`.')\n",
    "print(x.components)\n",
    "print()\n",
    "\n",
    "print('Note that the dimension is the same as the length of the component array.')\n",
    "print(x.dim)\n",
    "print(len(x.components))\n",
    "print()\n",
    "\n",
    "print('Check the mean of `x` as computed from its components.')\n",
    "print(x.mean())\n",
    "print()\n",
    "\n",
    "print('Create another random vector in 10 dimensions.')\n",
    "y = RandomVector(10)\n",
    "print()\n",
    "\n",
    "print('Note that `x` and `y` are distinct.')\n",
    "print(x)\n",
    "print(y)\n",
    "print()\n",
    "\n",
    "print('We can also specify the mean and variance of our random vector.')\n",
    "print('Create a 4-dimensional random vector of mean 7 and variance 1.2.')\n",
    "z = RandomVector(4,lambda dim: rng.normal(7,1.2,dim))\n",
    "print()\n",
    "\n",
    "print('See some basic information on `z`.')\n",
    "print(z)\n",
    "print()\n",
    "\n",
    "print('Show the computed mean of `z`.')\n",
    "print('Note that this is in general distinct from the specified mean.')\n",
    "print(z.mean())\n",
    "print()\n",
    "\n",
    "print('Compute the norm squared of `z`.')\n",
    "print(z.norm_squared())"
   ]
  },
  {
   "cell_type": "markdown",
   "metadata": {},
   "source": [
    "### 2.1 Projects, exercises, and comments on a class for random vectors\n",
    "\n",
    "Now that we have our fancy new class for creating random vectors we can build on it for future projects.\n",
    "\n",
    "\n",
    "\n",
    "\n",
    "\n"
   ]
  },
  {
   "cell_type": "markdown",
   "metadata": {},
   "source": [
    "Exercise 2.1.1: Add a method to RandomVector which computes the variance of the vector directly from its components. (Hint: You may have already written similar code before, which you can reuse.)"
   ]
  },
  {
   "cell_type": "code",
   "execution_count": null,
   "metadata": {},
   "outputs": [],
   "source": [
    "# Your code for exercise 2.1.1.\n",
    "# You can experiment here, but be sure to add your new method to the class defined above and rerun the corresponding cell."
   ]
  },
  {
   "cell_type": "markdown",
   "metadata": {},
   "source": [
    "Exercise 2.1.2: Add a method to RandomVector which computes the $L_p$ norm of the vector for any $p$."
   ]
  },
  {
   "cell_type": "code",
   "execution_count": null,
   "metadata": {},
   "outputs": [],
   "source": [
    "# Your code for exercise 2.1.2."
   ]
  },
  {
   "cell_type": "markdown",
   "metadata": {},
   "source": [
    "Project 2.1.3: In analogy with RandomVector create a RandomMatrix class whose components can either come from inputted data or be sampled from a distribution. Make use of existing methods for matrix algebra in numpy to multiply your RandomMatrices and RandomVectors."
   ]
  },
  {
   "cell_type": "code",
   "execution_count": null,
   "metadata": {},
   "outputs": [],
   "source": [
    "# Your code for project 2.1.3.\n",
    "# You can also create your own notebook in case things get unwieldy here."
   ]
  },
  {
   "cell_type": "markdown",
   "metadata": {},
   "source": [
    "## 3. Concentration of the norm\n",
    "\n",
    "Given a random vector $X$ of dimension $n$ whose entries are independent random variables with zero means and unit variances we are told in section 3.1 of the text that $$\\mathbb{E}\\|X\\|_2^2=n.$$ We write a function to experimentally verify this and see what happens with other types of random vectors."
   ]
  },
  {
   "cell_type": "code",
   "execution_count": null,
   "metadata": {},
   "outputs": [],
   "source": [
    "def square_norm_expectation(m,dim,distribution=lambda dim: np.random.default_rng().standard_normal(dim)):\n",
    "    \"\"\"\n",
    "    Find the computed mean of the norm squared for a random vector.\n",
    "\n",
    "    Args:\n",
    "        m (int): The number of vectors we should use in our test.\n",
    "        dim (int): The dimension of the ambient real vector space.\n",
    "        distribution (str): The distribution according to which the vector is generated.\n",
    "\n",
    "    Returns:\n",
    "        numpy.float64: The approximate expectation of the norm squared of such a random vector.\n",
    "    \"\"\"\n",
    "    \n",
    "    # Create an immutable set of `m` random vectors in the appropriate space.\n",
    "    vectors = frozenset(RandomVector(dim,distribution) for i in range(m))\n",
    "    # Make a tuple out of the norms squared of these vectors.\n",
    "    norms_squared = tuple(x.norm_squared() for x in vectors)\n",
    "    # Compute the average (counting measure expectation) and return it.\n",
    "    return sum(norms_squared)/m"
   ]
  },
  {
   "cell_type": "code",
   "execution_count": null,
   "metadata": {},
   "outputs": [],
   "source": [
    "print('Examples of the `square_norm_expectation` function.\\n')\n",
    "\n",
    "print('Compute the approximate expectation of the norm squared of a random vector with zero means and unit variances from the normal distribution.')\n",
    "print('In this case we use 10000 samples in a 17 dimensional space.')\n",
    "print(square_norm_expectation(1000,17))\n",
    "print()\n",
    "\n",
    "print('We plot the computed expectation obtained from 1000 samples for various choices of `dim` from 1 to 30.')\n",
    "x = np.arange(1,31)\n",
    "y = np.array(tuple(square_norm_expectation(1000,dim) for dim in range(1,31)))\n",
    "plt.title(\"Computed expectation for various dimensions (normal distribution)\") \n",
    "plt.xlabel(\"Dimension\") \n",
    "plt.ylabel(\"Computed expectation\") \n",
    "plt.plot(x,y) \n",
    "plt.show()\n",
    "\n",
    "print('We can also use a different mean, say 10 rather than 0.')\n",
    "x = np.arange(1,31)\n",
    "y = np.array(tuple(square_norm_expectation(1000,dim,lambda dim: rng.normal(10,size=dim)) for dim in range(1,31)))\n",
    "plt.title(\"Computed expectation for various dimensions (normal distribution, mean=10)\") \n",
    "plt.xlabel(\"Dimension\") \n",
    "plt.ylabel(\"Computed expectation\") \n",
    "plt.plot(x,y) \n",
    "plt.show()\n",
    "\n",
    "print('Other distributions also give different results.')\n",
    "x = np.arange(1,31)\n",
    "y = np.array(tuple(square_norm_expectation(1000,dim,lambda dim: rng.wald(1,1,dim)) for dim in range(1,31)))\n",
    "plt.title(\"Computed expectation for various dimensions (Wald distribution)\") \n",
    "plt.xlabel(\"Dimension\") \n",
    "plt.ylabel(\"Computed expectation\") \n",
    "plt.plot(x,y) \n",
    "plt.show()"
   ]
  },
  {
   "cell_type": "markdown",
   "metadata": {},
   "source": [
    "### 3.1 Projects, exercises, and comments on concentration of the norm."
   ]
  },
  {
   "cell_type": "markdown",
   "metadata": {},
   "source": [
    "Exercise 3.1.1: Compute the expectation of the norm squared $$\\|X\\|^2=X_1^2+\\cdots+X_n^2$$ of a random vector $X=(X_1,\\dots,X_n)$ in $n$ dimensions whose components are independent random variables with mean $\\mu$ and variance $\\sigma$. Explain how this formula agrees with our experimental plots above."
   ]
  },
  {
   "cell_type": "code",
   "execution_count": null,
   "metadata": {},
   "outputs": [],
   "source": [
    "# Your code for exercise 3.1.1.\n",
    "# This exercise asks you to perform a calculation and explain how the result fits with our experiments, but you can also implement it as a Python function if you'd like."
   ]
  },
  {
   "cell_type": "markdown",
   "metadata": {},
   "source": [
    "Project 3.1.2: Examine the variance of $\\|X\\|^2$ for a random vector $X$ whose components are i.i.d. random variables. Why is the line in the second example so much strighter?"
   ]
  },
  {
   "cell_type": "code",
   "execution_count": null,
   "metadata": {},
   "outputs": [],
   "source": [
    "# Your code for project 3.1.2."
   ]
  },
  {
   "cell_type": "markdown",
   "metadata": {},
   "source": [
    "Project 3.1.3: Plot random vectors in two dimensions normalized by their length. Look at the distribution of the distances between successive points on the circle."
   ]
  },
  {
   "cell_type": "code",
   "execution_count": null,
   "metadata": {},
   "outputs": [],
   "source": [
    "# Your code for project 3.1.3."
   ]
  },
  {
   "cell_type": "markdown",
   "metadata": {},
   "source": [
    "Copyright (c) 2020 TRIPODS/GradStemForAll 2020 Team"
   ]
  }
 ],
 "metadata": {
  "kernelspec": {
   "display_name": "Python 3",
   "language": "python",
   "name": "python3"
  },
  "language_info": {
   "codemirror_mode": {
    "name": "ipython",
    "version": 3
   },
   "file_extension": ".py",
   "mimetype": "text/x-python",
   "name": "python",
   "nbconvert_exporter": "python",
   "pygments_lexer": "ipython3",
   "version": "3.8.2"
  }
 },
 "nbformat": 4,
 "nbformat_minor": 4
}
