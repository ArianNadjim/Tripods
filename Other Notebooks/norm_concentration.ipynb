{
 "cells": [
  {
   "cell_type": "markdown",
   "metadata": {},
   "source": [
    "# Concentration of the norm for random vectors\n",
    "Based on section 3.1 of Vershynin's 'High Dimensional Probability'\n",
    "\n",
    "Charlotte Aten (charlotte.aten@rochester.edu) 2020\n",
    "\n",
    "Thanks to Sevak Mkrtchyan for suggesting some of the projects in section 3.1 of this notebook."
   ]
  },
  {
   "cell_type": "code",
   "execution_count": null,
   "metadata": {},
   "outputs": [],
   "source": [
    "# Imports\n",
    "import numpy as np\n",
    "from matplotlib import pyplot as plt\n",
    "import pandas as pd\n",
    "from sklearn.preprocessing import StandardScaler"
   ]
  },
  {
   "cell_type": "markdown",
   "metadata": {},
   "source": [
    "## 1. Making random vectors\n",
    "\n",
    "Recall that random vectors were first discussed in Theorem 0.0.2 of the Appetizer, which was an approximate form of Caratheodory's theorem. An $n$-dimensional random vector $X=(X_1,\\dots,X_n)$ is a vector whose components $X_1,\\dots,X_n$ are each random variables. Often we consider random vectors whose components are independent and identically distributed (i.i.d.).\n",
    "\n",
    "In order to work with random vectors we're going to need to create examples of them.\n",
    "\n",
    "We first do this by using the distributions implemented in numpy.\n",
    "\n",
    "Later we will use real-world data to produce examples."
   ]
  },
  {
   "cell_type": "code",
   "execution_count": null,
   "metadata": {},
   "outputs": [],
   "source": [
    "print('We first create a random number generator with numpy.\\n')\n",
    "rng = np.random.default_rng()\n",
    "\n",
    "print('We can use this random number generator to make a random vector with 13 components coming from the standard normal distribution with mean 0 and variance 1.\\n')\n",
    "x = rng.standard_normal(13)\n",
    "\n",
    "print('We display the components of this vector.')\n",
    "print(x)\n",
    "print()\n",
    "\n",
    "print('We can also make a random vector of dimension 7 whose components are sampled from the normal distribution with mean 2.3 and variance 1.1.\\n')\n",
    "y = rng.normal(2.3,1.1,7)\n",
    "\n",
    "print('We display the components of this vector.')\n",
    "print(y)\n",
    "print()\n",
    "\n",
    "print('We can sample components for our vectors from other distributions, as well.\\n')\n",
    "print('Here we create and display a random vector of dimension 5 whose components are sampled from the Wald, or Inverse Gaussian, distribution with mean 2.4.')\n",
    "z = rng.wald(2.4,1,5)\n",
    "print(z)"
   ]
  },
  {
   "cell_type": "markdown",
   "metadata": {},
   "source": [
    "### 1.1 Projects, exercises, and comments on making random vectors"
   ]
  },
  {
   "cell_type": "markdown",
   "metadata": {},
   "source": [
    "Exercise 1.1.1: Create a random vector with 21 components coming from the standard normal distribution. Display the components of your vector to make sure you have indeed done this."
   ]
  },
  {
   "cell_type": "code",
   "execution_count": null,
   "metadata": {},
   "outputs": [],
   "source": [
    "# Your code for exercise 1.1.1."
   ]
  },
  {
   "cell_type": "markdown",
   "metadata": {},
   "source": [
    "Exercise 1.1.2: Create and display a random vector with 11 components coming from the normal distribution with mean -2 and variance 1.3."
   ]
  },
  {
   "cell_type": "code",
   "execution_count": null,
   "metadata": {},
   "outputs": [],
   "source": [
    "# Your code for exercise 1.1.2."
   ]
  },
  {
   "cell_type": "markdown",
   "metadata": {},
   "source": [
    "Exercise 1.1.3: Find out what the second parameter to the Wald distribution in the previous example is by using the documentation.\n",
    "\n",
    "Documentation of the distributions available in numpy can be found [here](https://numpy.org/doc/stable/reference/random/generator.html)."
   ]
  },
  {
   "cell_type": "code",
   "execution_count": null,
   "metadata": {},
   "outputs": [],
   "source": [
    "# Your code for exercise 1.1.3."
   ]
  },
  {
   "cell_type": "markdown",
   "metadata": {},
   "source": [
    "Exercise 1.1.4: Create and display a vector whose components are generated according to another distribution available in numpy."
   ]
  },
  {
   "cell_type": "code",
   "execution_count": null,
   "metadata": {},
   "outputs": [],
   "source": [
    "# Your code for exercise 1.1.4."
   ]
  },
  {
   "cell_type": "markdown",
   "metadata": {},
   "source": [
    "Exercise 1.1.5: Create and display a vector $X=(X_1,\\dots,X_{20})$ of dimension 20 whose $i^{\\text{th}}$ component is sampled from the normal distribution of mean $i$ with variance $\\frac{1}{i}$."
   ]
  },
  {
   "cell_type": "code",
   "execution_count": null,
   "metadata": {},
   "outputs": [],
   "source": [
    "# Your code for exercise 1.1.5."
   ]
  },
  {
   "cell_type": "markdown",
   "metadata": {},
   "source": [
    "## 2. A class for random vectors\n",
    "\n",
    "So far our random vectors have been numpy arrays. Let's create a class which represents a random vector and carries some of the methods we would like to use on random vectors.\n",
    "\n",
    "We create a class which will represent our conception of a random vector.\n",
    "\n",
    "There is nothing stopping us from defining a laundry-list of functions which operate on numpy vectors and going from there, but using the object-oriented approach helps keep us organized and distinguish what we add from what already exists in numpy."
   ]
  },
  {
   "cell_type": "code",
   "execution_count": null,
   "metadata": {},
   "outputs": [],
   "source": [
    "class RandomVector:\n",
    "    \"\"\"\n",
    "    A random vector.\n",
    "    \n",
    "    Attributes:\n",
    "        components (numpy.ndarray): The components of the vector.\n",
    "        dim (int): The dimension in which the vector lies.\n",
    "    \"\"\"\n",
    "    \n",
    "    def __init__(self,dim,distribution=lambda dim: np.random.default_rng().standard_normal(dim)):\n",
    "        \"\"\"        \n",
    "        Args:\n",
    "            dim (int): The dimension in which the vector lies.\n",
    "            distribution (function): The distribution(s) according to which the vector is generated.\n",
    "                This function should create a numpy array with `dim` many entries.\n",
    "                The list of available distributions in numpy can be found here:\n",
    "                https://numpy.org/doc/stable/reference/random/generator.html\n",
    "                These distributions can be passed in as pure (lambda) functions.\n",
    "                See examples below.\n",
    "        \"\"\"\n",
    "        \n",
    "        # Demand that `dim` is a natural number.\n",
    "        assert dim>0 and type(dim) is int\n",
    "        self.components = distribution(dim)\n",
    "        # Let the vector keep track of its dimension. (This is the same as its length.)\n",
    "        self.dim = dim\n",
    "\n",
    "    def __repr__(self):\n",
    "        \"\"\"\n",
    "        Make it so that printing the vector returns basic information about it.\n",
    "        In order to see the components of a random vector `x` use `print(x.components)`.\n",
    "        \n",
    "        Returns:\n",
    "            str: The basic information on the vector.\n",
    "        \"\"\"\n",
    "\n",
    "        return 'a {}-dimensional random vector (id: {})'.format(self.dim,id(self))\n",
    "\n",
    "    def mean(self):\n",
    "        \"\"\"\n",
    "        Compute the mean of the random vector by taking the mean of its components.\n",
    "        \n",
    "        Returns:\n",
    "            numpy.float64: The computed mean of the vector.\n",
    "        \"\"\"\n",
    "        \n",
    "        return self.components.mean()\n",
    "    \n",
    "    def norm_squared(self):\n",
    "        \"\"\"\n",
    "        Compute the Euclidean norm squared of the vector, which is the sum of the squares of the entries.\n",
    "        \n",
    "        Returns:\n",
    "            numpy.float64: The square of the norm of the vector.\n",
    "        \"\"\"\n",
    "\n",
    "        return sum(self.components**2)"
   ]
  },
  {
   "cell_type": "code",
   "execution_count": null,
   "metadata": {},
   "outputs": [],
   "source": [
    "print('Examples of the `RandomVector` class.\\n')\n",
    "\n",
    "print('Create a random vector `x` in 10 dimensions.')\n",
    "x = RandomVector(10)\n",
    "print()\n",
    "\n",
    "print('Have `x` give us information about itself.')\n",
    "print(x)\n",
    "print()\n",
    "\n",
    "print('Check the dimension of `x`.')\n",
    "print(x.dim)\n",
    "print()\n",
    "\n",
    "print('View the components of `x`.')\n",
    "print(x.components)\n",
    "print()\n",
    "\n",
    "print('Note that the dimension is the same as the length of the component array.')\n",
    "print(x.dim)\n",
    "print(len(x.components))\n",
    "print()\n",
    "\n",
    "print('Check the mean of `x` as computed from its components.')\n",
    "print(x.mean())\n",
    "print()\n",
    "\n",
    "print('Create another random vector in 10 dimensions.')\n",
    "y = RandomVector(10)\n",
    "print()\n",
    "\n",
    "print('Note that `x` and `y` are distinct.')\n",
    "print(x)\n",
    "print(y)\n",
    "print()\n",
    "\n",
    "print('We can also specify the mean and variance of our random vector.')\n",
    "print('Create a 4-dimensional random vector of mean 7 and variance 1.2.')\n",
    "z = RandomVector(4,lambda dim: rng.normal(7,1.2,dim))\n",
    "print()\n",
    "\n",
    "print('See some basic information on `z`.')\n",
    "print(z)\n",
    "print()\n",
    "\n",
    "print('Show the computed mean of `z`.')\n",
    "print('Note that this is in general distinct from the specified mean.')\n",
    "print(z.mean())\n",
    "print()\n",
    "\n",
    "print('Compute the norm squared of `z`.')\n",
    "print(z.norm_squared())"
   ]
  },
  {
   "cell_type": "markdown",
   "metadata": {},
   "source": [
    "### 2.1 Projects, exercises, and comments on a class for random vectors\n",
    "\n",
    "Now that we have our fancy new class for creating random vectors we can build on it for future projects.\n",
    "\n",
    "\n",
    "\n",
    "\n",
    "\n"
   ]
  },
  {
   "cell_type": "markdown",
   "metadata": {},
   "source": [
    "Exercise 2.1.1: Add a method to RandomVector which computes the variance of the vector directly from its components. (Hint: You may have already written similar code before, which you can reuse.)"
   ]
  },
  {
   "cell_type": "code",
   "execution_count": null,
   "metadata": {},
   "outputs": [],
   "source": [
    "# Your code for exercise 2.1.1.\n",
    "# You can experiment here, but be sure to add your new method to the class defined above and rerun the corresponding cell."
   ]
  },
  {
   "cell_type": "markdown",
   "metadata": {},
   "source": [
    "Exercise 2.1.2: Add a method to RandomVector which computes the $L_p$ norm of the vector for any $p$."
   ]
  },
  {
   "cell_type": "code",
   "execution_count": null,
   "metadata": {},
   "outputs": [],
   "source": [
    "# Your code for exercise 2.1.2."
   ]
  },
  {
   "cell_type": "markdown",
   "metadata": {},
   "source": [
    "Project 2.1.3: In analogy with RandomVector create a RandomMatrix class whose components can either come from inputted data or be sampled from a distribution. Make use of existing methods for matrix algebra in numpy to multiply your RandomMatrices and RandomVectors."
   ]
  },
  {
   "cell_type": "code",
   "execution_count": null,
   "metadata": {},
   "outputs": [],
   "source": [
    "# Your code for project 2.1.3.\n",
    "# You can also create your own notebook in case things get unwieldy here."
   ]
  },
  {
   "cell_type": "markdown",
   "metadata": {},
   "source": [
    "## 3. Concentration of the norm\n",
    "\n",
    "Given a random vector $X$ of dimension $n$ whose entries are independent random variables with zero means and unit variances we are told in section 3.1 of the text that $$\\mathbb{E}\\|X\\|_2^2=n.$$ We write a function to experimentally verify this and see what happens with other types of random vectors."
   ]
  },
  {
   "cell_type": "code",
   "execution_count": null,
   "metadata": {},
   "outputs": [],
   "source": [
    "def square_norm_expectation(m,dim,distribution=lambda dim: np.random.default_rng().standard_normal(dim)):\n",
    "    \"\"\"\n",
    "    Find the computed mean of the norm squared for a random vector.\n",
    "\n",
    "    Args:\n",
    "        m (int): The number of vectors we should use in our test.\n",
    "        dim (int): The dimension of the ambient real vector space.\n",
    "        distribution (function): The distribution according to which the vector is generated.\n",
    "\n",
    "    Returns:\n",
    "        numpy.float64: The approximate expectation of the norm squared of such a random vector.\n",
    "    \"\"\"\n",
    "    \n",
    "    # Create an immutable set of `m` random vectors in the appropriate space.\n",
    "    vectors = frozenset(RandomVector(dim,distribution) for i in range(m))\n",
    "    # Make a tuple out of the norms squared of these vectors.\n",
    "    norms_squared = tuple(x.norm_squared() for x in vectors)\n",
    "    # Compute the average (counting measure expectation) and return it.\n",
    "    return sum(norms_squared)/m"
   ]
  },
  {
   "cell_type": "code",
   "execution_count": null,
   "metadata": {},
   "outputs": [],
   "source": [
    "print('Examples of the `square_norm_expectation` function.\\n')\n",
    "\n",
    "print('Compute the approximate expectation of the norm squared of a random vector with zero means and unit variances from the normal distribution.')\n",
    "print('In this case we use 10000 samples in a 17 dimensional space.')\n",
    "print(square_norm_expectation(1000,17))\n",
    "print()\n",
    "\n",
    "print('We plot the computed expectation obtained from 1000 samples for various choices of `dim` from 1 to 30.')\n",
    "x = np.arange(1,31)\n",
    "y = np.array(tuple(square_norm_expectation(1000,dim) for dim in range(1,31)))\n",
    "plt.title(\"Computed expectation for various dimensions (normal distribution)\") \n",
    "plt.xlabel(\"Dimension\") \n",
    "plt.ylabel(\"Computed expectation\") \n",
    "plt.plot(x,y) \n",
    "plt.show()\n",
    "\n",
    "print('We can also use a different mean, say 10 rather than 0.')\n",
    "x = np.arange(1,31)\n",
    "y = np.array(tuple(square_norm_expectation(1000,dim,lambda dim: rng.normal(10,size=dim)) for dim in range(1,31)))\n",
    "plt.title(\"Computed expectation for various dimensions (normal distribution, mean=10)\")\n",
    "plt.xlabel(\"Dimension\")\n",
    "plt.ylabel(\"Computed expectation\")\n",
    "plt.plot(x,y)\n",
    "plt.show()\n",
    "\n",
    "print('Other distributions also give different results.')\n",
    "x = np.arange(1,31)\n",
    "y = np.array(tuple(square_norm_expectation(1000,dim,lambda dim: rng.wald(1,1,dim)) for dim in range(1,31)))\n",
    "plt.title(\"Computed expectation for various dimensions (Wald distribution)\")\n",
    "plt.xlabel(\"Dimension\")\n",
    "plt.ylabel(\"Computed expectation\")\n",
    "plt.plot(x,y)\n",
    "plt.show()"
   ]
  },
  {
   "cell_type": "markdown",
   "metadata": {},
   "source": [
    "### 3.1 Projects, exercises, and comments on concentration of the norm."
   ]
  },
  {
   "cell_type": "markdown",
   "metadata": {},
   "source": [
    "Exercise 3.1.1: Compute the expectation of the norm squared $$\\|X\\|^2=X_1^2+\\cdots+X_n^2$$ of a random vector $X=(X_1,\\dots,X_n)$ in $n$ dimensions whose components are independent random variables with mean $\\mu$ and variance $\\sigma$. Explain how this formula agrees with our experimental plots above."
   ]
  },
  {
   "cell_type": "code",
   "execution_count": null,
   "metadata": {},
   "outputs": [],
   "source": [
    "# Your code for exercise 3.1.1.\n",
    "# This exercise asks you to perform a calculation and explain how the result fits with our experiments, but you can also implement it as a Python function if you'd like."
   ]
  },
  {
   "cell_type": "markdown",
   "metadata": {},
   "source": [
    "Project 3.1.2: Examine the variance of $\\|X\\|^2$ for a random vector $X$ whose components are i.i.d. random variables. Why is the line in the second example so much straighter?"
   ]
  },
  {
   "cell_type": "code",
   "execution_count": null,
   "metadata": {},
   "outputs": [],
   "source": [
    "# Your code for project 3.1.2."
   ]
  },
  {
   "cell_type": "markdown",
   "metadata": {},
   "source": [
    "Project 3.1.3: Plot random vectors in two dimensions normalized by their length. Look at the distribution of the distances between successive points on the circle."
   ]
  },
  {
   "cell_type": "code",
   "execution_count": null,
   "metadata": {},
   "outputs": [],
   "source": [
    "# Your code for project 3.1.3."
   ]
  },
  {
   "cell_type": "markdown",
   "metadata": {},
   "source": [
    "## 4 Real-world data and RandomVector"
   ]
  },
  {
   "cell_type": "markdown",
   "metadata": {},
   "source": [
    "As alluded to previously, we can also create a RandomVector from real-world data. We can then use our RandomVector class to study this data just as we did with the vectors we got from the random number generator in numpy.\n",
    "\n",
    "Let's take a look at the quantity of various nutrients present in the Mystic River in Massachusetts, as recorded by the [Massachusetts Water Resources Authority](http://www.mwra.state.ma.us/index.html). This organization's publicly available data can be found [here](http://www.mwra.state.ma.us/harbor/html/wq_data.htm), but please be sure to let them know if you use it for anything substantial so the government researchers who collected it can be apprised."
   ]
  },
  {
   "cell_type": "code",
   "execution_count": null,
   "metadata": {},
   "outputs": [],
   "source": [
    "# Use the `read_excel` method in pandas to create a dataframe from the Mystic River nutrient data.\n",
    "# This is a little different from the earthquake example we did on Sunday because the data is in an Excel file.\n",
    "# Remember not to load data like this too many times automatically, since it will act like a denial of service attack on the data provider.\n",
    "# We need to specify the sheet within the Excel file that we want pandas to look at with `sheet_name`.\n",
    "# We also need to tell pandas to skip the first few rows, which contain other information.\n",
    "mystic_data = pd.read_excel('http://www.mwra.state.ma.us/harbor/graphic/mr_nutrients.xlsx',sheet_name='Nutrients-Mystic all yrs',skiprows=range(4))"
   ]
  },
  {
   "cell_type": "code",
   "execution_count": null,
   "metadata": {},
   "outputs": [],
   "source": [
    "# Examine the resulting dataframe.\n",
    "mystic_data"
   ]
  },
  {
   "cell_type": "markdown",
   "metadata": {},
   "source": [
    "As is often the case, we need to preprocess this raw data a little bit.\n",
    "\n",
    "Let's only look at the mouth of the Mystic River and use only those measurements of the levels of ammonium, nitrate or nitrite, phosphate, chlorophyll A, and phaeophytin which were taken at the bottom of the river."
   ]
  },
  {
   "cell_type": "code",
   "execution_count": null,
   "metadata": {},
   "outputs": [],
   "source": [
    "# Create a new dataframe consisting only of those rows for measurements at the bottom and mouth of the river.\n",
    "mystic_df = mystic_data.loc[(mystic_data['Subregion']=='MYSTIC MOUTH') & (mystic_data['Surface or Bottom']=='B')]\n",
    "# Restrict this dataframe to only those columns pertaining to the five nutrients previously indicated.\n",
    "mystic_df = mystic_df[['Ammonium (uM)','Nitrate+nitrite (uM)','Phosphate (uM)','Chlorophyll a (ug/L)','Phaeophytin (ug/L)']]\n",
    "# Throw out any rows where some of those five nutrients were not measured.\n",
    "mystic_df = mystic_df.dropna()\n",
    "# Display the resulting dataframe.\n",
    "mystic_df"
   ]
  },
  {
   "cell_type": "markdown",
   "metadata": {},
   "source": [
    "We want to treat each column in this dataframe as a (sample of a) random vector in $\\mathbb{R}^5$.\n",
    "\n",
    "In order to do this we want to write a function which takes a dataframe as input and outputs a collection of RandomVectors. This will be made simpler if we have a clean way of making a RandomVector from a specified array in numpy. That is, by default a RandomVector wants to be created by telling to what its dimension should be and how it should generate its components. If those components are just specified in advance, the resulting function we pass in is a constant, creating an unnecessarily messy-looking construct. We now sweep this under the rug using a subclass."
   ]
  },
  {
   "cell_type": "code",
   "execution_count": null,
   "metadata": {},
   "outputs": [],
   "source": [
    "class DataVector(RandomVector):\n",
    "    \"\"\"\n",
    "    A random vector generated by given data rather than a Python function.\n",
    "\n",
    "    Attributes:\n",
    "        components (numpy.ndarray): The components of the vector.\n",
    "        dim (int): The dimension in which the vector lies.\n",
    "    \"\"\"\n",
    "\n",
    "    def __init__(self,components):\n",
    "        \"\"\"\n",
    "        Args:\n",
    "            components (iterable): The components of the vector.\n",
    "        \"\"\"\n",
    "        \n",
    "        # Cast `components` to a numpy array if it isn't already one.\n",
    "        components = np.array(components)\n",
    "        # Make `self` into a RandomVector with the appropriate dimension and components.\n",
    "        RandomVector.__init__(self,len(components),lambda dim: components)"
   ]
  },
  {
   "cell_type": "code",
   "execution_count": null,
   "metadata": {},
   "outputs": [],
   "source": [
    "print('Examples of the `DataVector` class.\\n')\n",
    "\n",
    "print('Create a vector `x` with components [2,1,4] and print its basic information and components.')\n",
    "x = DataVector([2,1,4])\n",
    "print(x)\n",
    "print(x.components)\n",
    "print()\n",
    "\n",
    "print('Note that `x` inherits all the methods of RandomVector.')\n",
    "print(x.mean())\n",
    "print(x.norm_squared())"
   ]
  },
  {
   "cell_type": "markdown",
   "metadata": {},
   "source": [
    "Now we are ready to write a function which turns a dataframe into a collection of RandomVectors."
   ]
  },
  {
   "cell_type": "code",
   "execution_count": null,
   "metadata": {},
   "outputs": [],
   "source": [
    "def make_vectors_from_dataframe(df):\n",
    "    \"\"\"\n",
    "    Create a collection of random vectors from a given dataframe.\n",
    "    Each row of the dataframe becomes the array of components for a RandomVector.\n",
    "    The supplied dataframe should contain only numerical entries.\n",
    "\n",
    "    Args:\n",
    "        df (pandas.core.frame.DataFrame): The dataframe to process.\n",
    "\n",
    "    Returns:\n",
    "        frozenset of DataVector: The set of vectors so generated.\n",
    "    \"\"\"\n",
    "\n",
    "    return frozenset(DataVector(df.loc[key].array) for key in df.index)"
   ]
  },
  {
   "cell_type": "code",
   "execution_count": null,
   "metadata": {},
   "outputs": [],
   "source": [
    "# Create a collection of RandomVectors from our processed Mystic River dataframe.\n",
    "mystic_vectors = make_vectors_from_dataframe(mystic_df)\n",
    "# Compute the average norm squared of these vectors.\n",
    "print(sum(x.norm_squared() for x in mystic_vectors)/len(mystic_vectors))"
   ]
  },
  {
   "cell_type": "markdown",
   "metadata": {},
   "source": [
    "We can use the StandardScalar preprocessing function from [scikit-learn](https://scikit-learn.org/stable/index.html) in order to subtract of means and normalize by variances in each column of our dataset.\n",
    "\n",
    "Taking the average norm squared of the resulting vectors gives us a quantity very close to 5, agreeing with our earlier calculations."
   ]
  },
  {
   "cell_type": "code",
   "execution_count": null,
   "metadata": {},
   "outputs": [],
   "source": [
    "# Make a new dataframe by using StandardScalar to give each column zero mean and unit variance.\n",
    "mystic_normalized = pd.DataFrame(StandardScaler().fit_transform(mystic_df))\n",
    "# Make this dataframe into a collection of RandomVectors.\n",
    "mystic_normalized_vectors = make_vectors_from_dataframe(mystic_normalized)\n",
    "# Compute the average norm squared of these vectors.\n",
    "print(sum(x.norm_squared() for x in mystic_normalized_vectors)/len(mystic_normalized_vectors))"
   ]
  },
  {
   "cell_type": "markdown",
   "metadata": {},
   "source": [
    "### 4.1 Projects, exercises, and comments on real-world data and RandomVector."
   ]
  },
  {
   "cell_type": "markdown",
   "metadata": {},
   "source": [
    "Exercise 4.1.1: If the components of these nutrient data vectors were sampled from distribution with identical means and variances we would expect our formula from exercise 3.1.1 to hold. Compute the means and variances of the components of these vectors to determine whether or not this is the case. (Hint: A single line of code will answer this.)"
   ]
  },
  {
   "cell_type": "code",
   "execution_count": null,
   "metadata": {},
   "outputs": [],
   "source": [
    "# Your code for exercise 4.1.1."
   ]
  },
  {
   "cell_type": "markdown",
   "metadata": {},
   "source": [
    "Exercise 4.1.2: Use numpy to compute the covariance and correlation matrices of the nutrient data vectors. Can you explain those correlations which are strongest? (Or do you have a (bio)chemist friend who can?) How does using the normalized rather than unnormalized vectors change the resulting values?"
   ]
  },
  {
   "cell_type": "code",
   "execution_count": null,
   "metadata": {},
   "outputs": [],
   "source": [
    "# Your code for exercise 4.1.2."
   ]
  },
  {
   "cell_type": "markdown",
   "metadata": {},
   "source": [
    "Exercise 4.1.3: Create a histogram of the norm squared for the nutrient data vectors and a histogram of the norm squared for a collection of vectors generated with independent components. Compare the results and explain the similarities or differences."
   ]
  },
  {
   "cell_type": "code",
   "execution_count": null,
   "metadata": {},
   "outputs": [],
   "source": [
    "# Your code for exercise 4.1.3."
   ]
  },
  {
   "cell_type": "markdown",
   "metadata": {},
   "source": [
    "Project 4.1.4: Choose your own data set and produce a collection of DataVectors from it. See if you can modify the DataVector class so that it doesn't create a new object when it is given an invalid argument for its components."
   ]
  },
  {
   "cell_type": "code",
   "execution_count": null,
   "metadata": {},
   "outputs": [],
   "source": [
    "# Your code for project 4.1.4."
   ]
  },
  {
   "cell_type": "markdown",
   "metadata": {},
   "source": [
    "Copyright (c) 2020 TRIPODS/GradStemForAll 2020 Team"
   ]
  }
 ],
 "metadata": {
  "kernelspec": {
   "display_name": "Python 3",
   "language": "python",
   "name": "python3"
  },
  "language_info": {
   "codemirror_mode": {
    "name": "ipython",
    "version": 3
   },
   "file_extension": ".py",
   "mimetype": "text/x-python",
   "name": "python",
   "nbconvert_exporter": "python",
   "pygments_lexer": "ipython3",
   "version": "3.8.2"
  }
 },
 "nbformat": 4,
 "nbformat_minor": 4
}
