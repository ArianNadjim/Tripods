{
 "cells": [
  {
   "cell_type": "markdown",
   "metadata": {},
   "source": [
    "# Concentration of the norm for random vectors\n",
    "Based on section 3.1 of Vershynin's 'High Dimensional Probability'\n",
    "\n",
    "Charlotte Aten (charlotte.aten@rochester.edu) 2020\n",
    "\n",
    "Thanks to Sevak Mkrtchyan for suggesting some of the projects in section 3.1 of this notebook."
   ]
  },
  {
   "cell_type": "code",
   "execution_count": 30,
   "metadata": {},
   "outputs": [],
   "source": [
    "# Imports\n",
    "import numpy as np\n",
    "from matplotlib import pyplot as plt"
   ]
  },
  {
   "cell_type": "markdown",
   "metadata": {},
   "source": [
    "## 1. Making random vectors\n",
    "\n",
    "In order to work with random vectors we're going to need to create examples of them.\n",
    "\n",
    "We first do this by using the distributions implemented in numpy.\n",
    "\n",
    "Later we will use real-world data to produce examples."
   ]
  },
  {
   "cell_type": "code",
   "execution_count": 15,
   "metadata": {},
   "outputs": [
    {
     "name": "stdout",
     "output_type": "stream",
     "text": [
      "We first create a random number generator with numpy.\n",
      "\n",
      "We can use this random number generator to make a random vector with 13 components coming from the standard normal distribution with mean 0 and variance 1.\n",
      "\n",
      "We display the components of this vector.\n",
      "[ 0.02665068  0.81638845  0.91021252 -0.6717217  -0.55340911  1.09445412\n",
      "  0.21593961 -0.23691689  0.85683831  0.80678899  1.05738337  0.39350835\n",
      "  0.96532737]\n",
      "\n",
      "We can also make a random vector of dimension 7 whose components are sampled from the normal distribution with mean 2.3 and variance 1.1.\n",
      "\n",
      "We display the components of this vector.\n",
      "[2.47983352 1.83302933 3.40827548 0.07455127 0.98069831 1.93916104\n",
      " 1.91668912]\n",
      "\n",
      "We can sample components for our vectors from other distributions, as well.\n",
      "\n",
      "Here we create and display a random vector of dimension 5 whose components are sampled from the Wald, or Inverse Gaussian, distribution with mean 2.4.\n",
      "[1.47264434 0.50012352 0.69528298 0.52127109 0.67189622]\n"
     ]
    }
   ],
   "source": [
    "print('We first create a random number generator with numpy.\\n')\n",
    "rng = np.random.default_rng()\n",
    "\n",
    "print('We can use this random number generator to make a random vector with 13 components coming from the standard normal distribution with mean 0 and variance 1.\\n')\n",
    "x = rng.standard_normal(13)\n",
    "\n",
    "print('We display the components of this vector.')\n",
    "print(x)\n",
    "print()\n",
    "\n",
    "print('We can also make a random vector of dimension 7 whose components are sampled from the normal distribution with mean 2.3 and variance 1.1.\\n')\n",
    "y = rng.normal(2.3,1.1,7)\n",
    "\n",
    "print('We display the components of this vector.')\n",
    "print(y)\n",
    "print()\n",
    "\n",
    "print('We can sample components for our vectors from other distributions, as well.\\n')\n",
    "print('Here we create and display a random vector of dimension 5 whose components are sampled from the Wald, or Inverse Gaussian, distribution with mean 2.4.')\n",
    "z = rng.wald(2.4,1,5)\n",
    "print(z)"
   ]
  },
  {
   "cell_type": "markdown",
   "metadata": {},
   "source": [
    "### 1.1 Projects, exercises, and comments on making random vectors\n",
    "\n",
    "Exercise: Create a random vector with 21 components coming from the standard normal distribution.\n",
    "\n",
    "Exercise: Create a random vector with 11 components coming from the normal distribution with mean -2 and variance 1.3.\n",
    "\n",
    "Documentation of the distributions available in numpy can be found [here](https://numpy.org/doc/stable/reference/random/generator.html).\n",
    "\n",
    "Exercise: Find out what the second parameter to the Wald distribution in the previous example is by using the documentation.\n",
    "\n",
    "Exercise: Create and display a vector whose components are generated according to another distribution available in numpy.\n",
    "\n",
    "So far our random vectors have been numpy arrays. Let's create a class which represents a random vector and carries some of the methods we would like to use on random vectors."
   ]
  },
  {
   "cell_type": "markdown",
   "metadata": {},
   "source": [
    "## 2. A class for random vectors\n",
    "\n",
    "We create a class which will represent our conception of a random vector.\n",
    "\n",
    "There is nothing stopping us from defining a laundry-list of functions which operate on numpy vectors and going from there, but using the object-oriented approach helps keep us organized and distinguish what we add from what already exists in numpy."
   ]
  },
  {
   "cell_type": "code",
   "execution_count": 22,
   "metadata": {},
   "outputs": [],
   "source": [
    "class RandomVector:\n",
    "    \"\"\"\n",
    "    A random vector.\n",
    "    \n",
    "    Attributes:\n",
    "        components (numpy.ndarray): The components of the vector.\n",
    "        dim (int): The dimension in which the vector lies.\n",
    "    \"\"\"\n",
    "    \n",
    "    def __init__(self,dim,distribution=lambda dim: np.random.default_rng().standard_normal(dim)):\n",
    "        \"\"\"        \n",
    "        Args:\n",
    "            dim (int): The dimension in which the vector lies.\n",
    "            distribution (function): The distribution according to which the vector is generated.\n",
    "                This function should create a numpy array with `dim` many entries.\n",
    "                The list of available distributions in numpy can be found here:\n",
    "                https://numpy.org/doc/stable/reference/random/generator.html\n",
    "                These distributions can be passed in as pure (lambda) functions.\n",
    "                See examples below.\n",
    "        \"\"\"\n",
    "        \n",
    "        # Demand that `dim` is a natural number.\n",
    "        assert dim>0 and type(dim) is int\n",
    "        self.components = distribution(dim)\n",
    "        # Let the vector keep track of its dimension. (This is the same as its length.)\n",
    "        self.dim = dim\n",
    "\n",
    "    def __repr__(self):\n",
    "        \"\"\"\n",
    "        Make it so that printing the vector returns basic information about it.\n",
    "        In order to see the components of a random vector `x` use `print(x.components)`.\n",
    "        \n",
    "        Returns:\n",
    "            str: The basic information on the vector.\n",
    "        \"\"\"\n",
    "\n",
    "        return 'a {}-dimensional random vector (id: {})'.format(self.dim,id(self))\n",
    "\n",
    "    def mean(self):\n",
    "        \"\"\"\n",
    "        Compute the mean of the random vector by taking the mean of its components.\n",
    "        \n",
    "        Returns:\n",
    "            numpy.float64: The computed mean of the vector.\n",
    "        \"\"\"\n",
    "        \n",
    "        return self.components.mean()\n",
    "    \n",
    "    def norm_squared(self):\n",
    "        \"\"\"\n",
    "        Compute the Euclidean norm squared of the vector, which is the sum of the squares of the entries.\n",
    "        \n",
    "        Returns:\n",
    "            numpy.float64: The square of the norm of the vector.\n",
    "        \"\"\"\n",
    "\n",
    "        return sum(t**2 for t in self.components)"
   ]
  },
  {
   "cell_type": "code",
   "execution_count": 23,
   "metadata": {},
   "outputs": [
    {
     "name": "stdout",
     "output_type": "stream",
     "text": [
      "Examples of the `RandomVector` class.\n",
      "\n",
      "Create a random vector `x` in 10 dimensions.\n",
      "\n",
      "Have `x` give us information about itself.\n",
      "a 10-dimensional random vector (id: 140096270474784)\n",
      "\n",
      "Check the dimension of `x`.\n",
      "10\n",
      "\n",
      "View the components of `x`.\n",
      "[-0.43178233 -0.12170968  1.39755446 -0.5193011  -0.85309362  1.01814916\n",
      " -0.12719281 -0.26610793  1.30165307 -0.27858438]\n",
      "\n",
      "Note that the dimension is the same as the length of the component array.\n",
      "10\n",
      "10\n",
      "\n",
      "Check the mean of `x` as computed from its components.\n",
      "0.11195848413392788\n",
      "\n",
      "Create another random vector in 10 dimensions.\n",
      "\n",
      "Note that `x` and `y` are distinct.\n",
      "a 10-dimensional random vector (id: 140096270474784)\n",
      "a 10-dimensional random vector (id: 140096270473104)\n",
      "\n",
      "We can also specify the mean and variance of our random vector.\n",
      "Create a 4-dimensional random vector of mean 7 and variance 1.2.\n",
      "\n",
      "See some basic information on `z`.\n",
      "a 4-dimensional random vector (id: 140096270422896)\n",
      "\n",
      "Show the computed mean of `z`.\n",
      "Note that this is in general distinct from the specified mean.\n",
      "6.9009906752824195\n",
      "\n",
      "Compute the norm squared of `z`.\n",
      "195.2520466124122\n"
     ]
    }
   ],
   "source": [
    "print('Examples of the `RandomVector` class.\\n')\n",
    "\n",
    "print('Create a random vector `x` in 10 dimensions.')\n",
    "x = RandomVector(10)\n",
    "print()\n",
    "\n",
    "print('Have `x` give us information about itself.')\n",
    "print(x)\n",
    "print()\n",
    "\n",
    "print('Check the dimension of `x`.')\n",
    "print(x.dim)\n",
    "print()\n",
    "\n",
    "print('View the components of `x`.')\n",
    "print(x.components)\n",
    "print()\n",
    "\n",
    "print('Note that the dimension is the same as the length of the component array.')\n",
    "print(x.dim)\n",
    "print(len(x.components))\n",
    "print()\n",
    "\n",
    "print('Check the mean of `x` as computed from its components.')\n",
    "print(x.mean())\n",
    "print()\n",
    "\n",
    "print('Create another random vector in 10 dimensions.')\n",
    "y = RandomVector(10)\n",
    "print()\n",
    "\n",
    "print('Note that `x` and `y` are distinct.')\n",
    "print(x)\n",
    "print(y)\n",
    "print()\n",
    "\n",
    "print('We can also specify the mean and variance of our random vector.')\n",
    "print('Create a 4-dimensional random vector of mean 7 and variance 1.2.')\n",
    "z = RandomVector(4,lambda dim: rng.normal(7,1.2,dim))\n",
    "print()\n",
    "\n",
    "print('See some basic information on `z`.')\n",
    "print(z)\n",
    "print()\n",
    "\n",
    "print('Show the computed mean of `z`.')\n",
    "print('Note that this is in general distinct from the specified mean.')\n",
    "print(z.mean())\n",
    "print()\n",
    "\n",
    "print('Compute the norm squared of `z`.')\n",
    "print(z.norm_squared())"
   ]
  },
  {
   "cell_type": "markdown",
   "metadata": {},
   "source": [
    "### 2.1 Projects, exercises, and comments on a class for random vectors\n",
    "\n",
    "Now that we have our fancy new class for creating random vectors we can build on it for future projects.\n",
    "\n",
    "Exercise: Add a method to RandomVector which computes the variance of the vector directly from its components.\n",
    "\n",
    "Exercise: Add a method to RandomVector which computes the L_p norm of the vector for any p.\n",
    "\n",
    "Project: In analogy with RandomVector create a RandomMatrix class whose components can either come from inputted data or be sampled from a distribution. Make use of existing methods for matrix algebra in numpy to multiply your RandomMatrices and RandomVectors."
   ]
  },
  {
   "cell_type": "markdown",
   "metadata": {},
   "source": [
    "## 3. Concentration of the norm"
   ]
  },
  {
   "cell_type": "code",
   "execution_count": 31,
   "metadata": {},
   "outputs": [],
   "source": [
    "def square_norm_expectation(m,dim,distribution=lambda dim: np.random.default_rng().standard_normal(dim)):\n",
    "    \"\"\"\n",
    "    Given a random vector of dimension `dim` whose entries are random variables with zero means and unit variances we are told that the expected value of the norm squared is `dim`.\n",
    "    This function tests this claim.\n",
    "\n",
    "    Args:\n",
    "        m (int): The number of vectors we should use in our test.\n",
    "        dim (int): The dimension of the ambient real vector space.\n",
    "        distribution (str): The distribution according to which the vector is generated.\n",
    "\n",
    "    Returns:\n",
    "        numpy.float64: The approximate expectation of the norm squared of such a random vector.\n",
    "    \"\"\"\n",
    "    \n",
    "    # Create an immutable set of `m` random vectors in the appropriate space.\n",
    "    vectors = frozenset(RandomVector(dim,distribution) for i in range(m))\n",
    "    # Make a tuple out of the norms squared of these vectors.\n",
    "    norms_squared = tuple(x.norm_squared() for x in vectors)\n",
    "    # Compute the average (counting measure expectation) and return it.\n",
    "    return sum(norms_squared)/m"
   ]
  },
  {
   "cell_type": "code",
   "execution_count": 32,
   "metadata": {},
   "outputs": [
    {
     "name": "stdout",
     "output_type": "stream",
     "text": [
      "Examples of the `square_norm_expectation` function.\n",
      "\n",
      "Compute the approximate expectation of the norm squared of a random vector with zero means and unit variances from the normal distribution.\n",
      "In this case we use 10000 samples in a 17 dimensional space.\n",
      "17.17254450446937\n",
      "\n",
      "We plot the computed expectation obtained from 1000 samples for various choices of `dim` from 1 to 30.\n"
     ]
    },
    {
     "data": {
      "image/png": "[encoded data removed]",
      "text/plain": [
       "<Figure size 432x288 with 1 Axes>"
      ]
     },
     "metadata": {
      "needs_background": "light"
     },
     "output_type": "display_data"
    },
    {
     "name": "stdout",
     "output_type": "stream",
     "text": [
      "We can also use a different mean, say 10 rather than 0.\n"
     ]
    },
    {
     "data": {
      "image/png": "[encoded data removed]",
      "text/plain": [
       "<Figure size 432x288 with 1 Axes>"
      ]
     },
     "metadata": {
      "needs_background": "light"
     },
     "output_type": "display_data"
    },
    {
     "name": "stdout",
     "output_type": "stream",
     "text": [
      "Other distributions also give different results.\n"
     ]
    },
    {
     "data": {
      "image/png": "[encoded data removed]",
      "text/plain": [
       "<Figure size 432x288 with 1 Axes>"
      ]
     },
     "metadata": {
      "needs_background": "light"
     },
     "output_type": "display_data"
    }
   ],
   "source": [
    "print('Examples of the `square_norm_expectation` function.\\n')\n",
    "\n",
    "print('Compute the approximate expectation of the norm squared of a random vector with zero means and unit variances from the normal distribution.')\n",
    "print('In this case we use 10000 samples in a 17 dimensional space.')\n",
    "print(square_norm_expectation(1000,17))\n",
    "print()\n",
    "\n",
    "print('We plot the computed expectation obtained from 1000 samples for various choices of `dim` from 1 to 30.')\n",
    "x = np.arange(1,31)\n",
    "y = np.array(tuple(square_norm_expectation(1000,dim) for dim in range(1,31)))\n",
    "plt.title(\"Computed expectation for various dimensions (normal distribution)\") \n",
    "plt.xlabel(\"Dimension\") \n",
    "plt.ylabel(\"Computed expectation\") \n",
    "plt.plot(x,y) \n",
    "plt.show()\n",
    "\n",
    "print('We can also use a different mean, say 10 rather than 0.')\n",
    "x = np.arange(1,31)\n",
    "y = np.array(tuple(square_norm_expectation(1000,dim,lambda dim: rng.normal(10,size=dim)) for dim in range(1,31)))\n",
    "plt.title(\"Computed expectation for various dimensions (normal distribution, mean=10)\") \n",
    "plt.xlabel(\"Dimension\") \n",
    "plt.ylabel(\"Computed expectation\") \n",
    "plt.plot(x,y) \n",
    "plt.show()\n",
    "\n",
    "print('Other distributions also give different results.')\n",
    "x = np.arange(1,31)\n",
    "y = np.array(tuple(square_norm_expectation(1000,dim,lambda dim: rng.wald(1,1,dim)) for dim in range(1,31)))\n",
    "plt.title(\"Computed expectation for various dimensions (Wald distribution)\") \n",
    "plt.xlabel(\"Dimension\") \n",
    "plt.ylabel(\"Computed expectation\") \n",
    "plt.plot(x,y) \n",
    "plt.show()"
   ]
  },
  {
   "cell_type": "markdown",
   "metadata": {},
   "source": [
    "### 3.1 Projects, exercises, and comments on concentration of the norm.\n",
    "\n",
    "Exercise: Compute the expectation of the norm squared $$||X||^2=X_1^2+\\cdots+X_n^2$$ of a random vector $X=(X_1,\\dots,X_n)$ in $n$ dimensions whose components are random variables with mean $\\mu$ and variance $\\sigma$. Explain how this formula agrees with our experimental plots above.\n",
    "\n",
    "Project: Explain the variance of the square norm expectation. Why is the line in the second example so much strighter?\n",
    "\n",
    "Project: Normalize the square norm of a random vector by its dimension and compute the standard deviation of this as the dimension goes to infinity.\n",
    "\n",
    "Project: Plot random vectors in two dimensions normalized by their length. Look at the distribution of the distances between successive points on the circle."
   ]
  },
  {
   "cell_type": "markdown",
   "metadata": {},
   "source": [
    "Copyright (c) 2020 TRIPODS/GradStemForAll 2020 Team"
   ]
  }
 ],
 "metadata": {
  "kernelspec": {
   "display_name": "Python 3",
   "language": "python",
   "name": "python3"
  },
  "language_info": {
   "codemirror_mode": {
    "name": "ipython",
    "version": 3
   },
   "file_extension": ".py",
   "mimetype": "text/x-python",
   "name": "python",
   "nbconvert_exporter": "python",
   "pygments_lexer": "ipython3",
   "version": "3.8.2"
  }
 },
 "nbformat": 4,
 "nbformat_minor": 4
}
