{
 "cells": [
  {
   "cell_type": "code",
   "execution_count": null,
   "metadata": {},
   "outputs": [],
   "source": [
    "# THIS PROGRAM GENERATES ALL THE PRIMES UP TO A SPECIFIED NUMBER\n",
    "\n",
    "import math\n",
    "import numpy as np\n",
    "\n",
    "N=eval(input(\"Enter a positive integer: \"))\n",
    "\n",
    "prime = {x for x in range(2, N) if all(x % y != 0 for y in range(2,int(math.sqrt(x))+1))}\n",
    "\n",
    "# This is an example of a list comprehension technique. \n",
    "\n",
    "prime, len(prime)"
   ]
  },
  {
   "cell_type": "code",
   "execution_count": 1,
   "metadata": {
    "collapsed": true
   },
   "outputs": [
    {
     "name": "stdout",
     "output_type": "stream",
     "text": [
      "Enter the size of the set: 5\n",
      "Enter the size of the subset: 3\n",
      "The answer you seek is:  10\n"
     ]
    }
   ],
   "source": [
    "# THIS PROGRAM COUNTS THE NUMBER OF SUBSETS OF A GIVEN SIZE OF A FINITE SET OF A GIVEN SIZE\n",
    "\n",
    "import math\n",
    "import numpy as np \n",
    "\n",
    "def pascalfunction(A):\n",
    "    S=[]\n",
    "    S.append(1)\n",
    "    \n",
    "    for k in range(1,len(A)):\n",
    "        S.append(A[k-1]+A[k])\n",
    "        \n",
    "    S.append(1)\n",
    "    \n",
    "    return S\n",
    "\n",
    "n=eval(input(\"Enter the size of the set: \"))\n",
    "k=eval(input(\"Enter the size of the subset: \"))\n",
    "\n",
    "\n",
    "A=[1]\n",
    "\n",
    "for m in range(1,n+1):\n",
    "    B=pascaluglymf(A)\n",
    "    A=B \n",
    "    \n",
    "print(\"The answer you seek is: \", A[k])"
   ]
  },
  {
   "cell_type": "code",
   "execution_count": null,
   "metadata": {},
   "outputs": [],
   "source": [
    "import numpy as np\n",
    "\n",
    "def pascalfunction(A):\n",
    "    S=[]\n",
    "    S.append(1)\n",
    "    \n",
    "    for k in range(1,len(A)):\n",
    "        S.append(A[k-1]+A[k])\n",
    "        \n",
    "    S.append(1)\n",
    "    \n",
    "    return S"
   ]
  },
  {
   "cell_type": "code",
   "execution_count": null,
   "metadata": {},
   "outputs": [],
   "source": [
    "A=[1]\n",
    "\n",
    "for m in range(1,n+1):\n",
    "    B=pascaluglymf(A)\n",
    "    print(B)\n",
    "    A=B "
   ]
  },
  {
   "cell_type": "markdown",
   "metadata": {},
   "source": [
    "Copyright (c) 2020 TRIPODS/GradStemForAll 2020 Team"
   ]
  }
 ],
 "metadata": {
  "kernelspec": {
   "display_name": "Python 3",
   "language": "python",
   "name": "python3"
  },
  "language_info": {
   "codemirror_mode": {
    "name": "ipython",
    "version": 3
   },
   "file_extension": ".py",
   "mimetype": "text/x-python",
   "name": "python",
   "nbconvert_exporter": "python",
   "pygments_lexer": "ipython3",
   "version": "3.7.6"
  }
 },
 "nbformat": 4,
 "nbformat_minor": 2
}
