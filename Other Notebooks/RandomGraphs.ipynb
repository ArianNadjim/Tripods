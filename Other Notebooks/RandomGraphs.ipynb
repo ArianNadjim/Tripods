{
 "cells": [
  {
   "cell_type": "code",
   "execution_count": 60,
   "metadata": {},
   "outputs": [],
   "source": [
    "import numpy as np\n",
    "import matplotlib.pyplot as plt\n",
    "\n",
    "def randomCoordinate(low = 0, high = 1):\n",
    "    \"\"\"\n",
    "    This function returns a random float between low and high.\n",
    "    Results are sampled from a uniform distribution over the interval [low, high).\n",
    "    \"\"\"\n",
    "    rng = high - low\n",
    "    rndCoor = np.random.random() * rng\n",
    "    rndCoor += low\n",
    "    return rndCoor\n",
    "\n",
    "def randomCoordinates2D(low = 0, high = 1):\n",
    "    x = randomCoordinate(low, high)\n",
    "    y = randomCoordinate(low, high)\n",
    "    return (x, y)\n",
    "\n",
    "class Vertex2D:\n",
    "    \"\"\"\n",
    "    Instances of this class represent vertices of a planar graph.\n",
    "    \"\"\"\n",
    "    def __init__(self, x, y):\n",
    "        self.x = x\n",
    "        self.y = y\n",
    "\n",
    "class PlanarGraph:\n",
    "    \n",
    "    def __init__(self, vertices, edges):\n",
    "        self.vertices = vertices\n",
    "        self.edges = edges\n",
    "    \n",
    "    def numVertices(self):\n",
    "        return len(self.vertices)\n",
    "    \n",
    "    def getDegrees(self):\n",
    "        \n",
    "        degrees = [0] * self.numVertices() # creates a list of 0s\n",
    "        \n",
    "        for edge in self.edges:\n",
    "            i, j = edge\n",
    "            degrees[i] += 1\n",
    "            degrees[j] += 1\n",
    "        \n",
    "        return degrees\n",
    "        \n",
    "\n",
    "def createListOfRandomVertices2D(n):\n",
    "    \n",
    "    vertices = []\n",
    "    \n",
    "    for i in range(n):\n",
    "        x, y = randomCoordinates2D()\n",
    "        vertex = Vertex2D(x, y)\n",
    "        vertices.append(vertex)\n",
    "    \n",
    "    return vertices\n",
    "\n",
    "def createRandomGraph(n, p):\n",
    "    vertices = createListOfRandomVertices2D(n)\n",
    "    edges = []\n",
    "    \n",
    "    # we want to add an edge between every pair of\n",
    "    # vertices with probability p\n",
    "    for i in range(len(vertices)):\n",
    "        for j in range(i+1, len(vertices)):\n",
    "            if np.random.random() < p:\n",
    "                edges.append((i, j))\n",
    "    \n",
    "    graph = PlanarGraph(vertices, edges)\n",
    "    \n",
    "    return graph\n",
    "\n",
    "def plotGraph(graph):\n",
    "    \n",
    "    vertices = graph.vertices\n",
    "    xCoords = [vertex.x for vertex in vertices]\n",
    "    yCoords = [vertex.y for vertex in vertices]\n",
    "    plt.plot(xCoords, yCoords, 'ro')\n",
    "    \n",
    "    edges = graph.edges\n",
    "    for edge in edges:\n",
    "        i, j = edge\n",
    "        xCoordsOfEdge = [xCoords[i], xCoords[j]]\n",
    "        yCoordsOfEdge = [yCoords[i], yCoords[j]]\n",
    "        plt.plot(xCoordsOfEdge, yCoordsOfEdge)\n",
    "    \n",
    "    plt.show()\n",
    "\n",
    "def plotHistogramOfDegrees(graph):\n",
    "    \n",
    "    degrees = graph.getDegrees()\n",
    "    n = graph.numVertices()\n",
    "    \n",
    "    plt.hist(degrees, bins = n, range = (0, n))\n",
    "    \n",
    "    plt.show()\n"
   ]
  },
  {
   "cell_type": "code",
   "execution_count": 61,
   "metadata": {},
   "outputs": [
    {
     "data": {
      "image/png": "[encoded data removed]",
      "text/plain": [
       "<Figure size 432x288 with 1 Axes>"
      ]
     },
     "metadata": {
      "needs_background": "light"
     },
     "output_type": "display_data"
    },
    {
     "data": {
      "image/png": "[encoded data removed]",
      "text/plain": [
       "<Figure size 432x288 with 1 Axes>"
      ]
     },
     "metadata": {
      "needs_background": "light"
     },
     "output_type": "display_data"
    }
   ],
   "source": [
    "n = 10\n",
    "p = 0.3\n",
    "\n",
    "graph = createRandomGraph(n, p)\n",
    "\n",
    "# for large values of n plotting the graph may become meaningless\n",
    "# and it can take a long time, so it is better to comment it out\n",
    "plotGraph(graph)\n",
    "plotHistogramOfDegrees(graph)"
   ]
  },
  {
   "cell_type": "code",
   "execution_count": null,
   "metadata": {},
   "outputs": [],
   "source": []
  }
 ],
 "metadata": {
  "kernelspec": {
   "display_name": "Python 3",
   "language": "python",
   "name": "python3"
  },
  "language_info": {
   "codemirror_mode": {
    "name": "ipython",
    "version": 3
   },
   "file_extension": ".py",
   "mimetype": "text/x-python",
   "name": "python",
   "nbconvert_exporter": "python",
   "pygments_lexer": "ipython3",
   "version": "3.7.6"
  }
 },
 "nbformat": 4,
 "nbformat_minor": 4
}
