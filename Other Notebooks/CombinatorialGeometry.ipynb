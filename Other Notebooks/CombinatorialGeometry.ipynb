{
 "cells": [
  {
   "cell_type": "code",
   "execution_count": 8,
   "metadata": {},
   "outputs": [],
   "source": [
    "# WE DEFINE A CLASS OF POINTS IN THE PLANE \n",
    "\n",
    "# https://www.youtube.com/watch?v=AsafkCAJpJ0 IS A QUICK TUTORIAL ON CREATING CLASSES\n",
    "\n",
    "import matplotlib.pyplot as plt \n",
    "import numpy as np\n",
    "import math\n",
    "\n",
    "class point ():\n",
    "    def __init__(self, x, y):\n",
    "        self.x = x\n",
    "        self.y = y\n",
    "        \n",
    "    def __repr__(self):\n",
    "        return str([self.x, self.y])\n",
    "    \n"
   ]
  },
  {
   "cell_type": "code",
   "execution_count": 9,
   "metadata": {},
   "outputs": [],
   "source": [
    "# EXAMPLE\n",
    "\n",
    "A=point(1.2,5.7)\n",
    "\n",
    "\n",
    "    "
   ]
  },
  {
   "cell_type": "markdown",
   "metadata": {},
   "source": [
    "# PROJECT: \n",
    "\n",
    "Define a class of points in three dimensions. Furthermore, define a class of points in \n",
    "n dimensions where n is a given positive integer. "
   ]
  },
  {
   "cell_type": "code",
   "execution_count": 10,
   "metadata": {},
   "outputs": [],
   "source": [
    "# ADD YOUR CODE HERE. PLEASE FEEL FREE TO ADD MORE CELLS IF YOU NEED THEM. "
   ]
  },
  {
   "cell_type": "code",
   "execution_count": 36,
   "metadata": {},
   "outputs": [],
   "source": [
    "# WE DEFINE A LINE SEGMENT CONSISTING OF TWO POINTS \n",
    "\n",
    "class lineseg():\n",
    "\n",
    "    def __init__ (self, p1, p2):\n",
    "        if not isinstance(p1, point):\n",
    "            print(p1, \"is not a point!\")\n",
    "            exit()\n",
    "        if not isinstance(p2, point): \n",
    "            print(p2, \"is not a point!\")\n",
    "            exit()\n",
    "        self.point1=p1\n",
    "        self.point2=p2\n",
    "    \n",
    "    def dx(self):\n",
    "        return (self.point2.x-self.point1.x)\n",
    "    def dy(self):\n",
    "        return (self.point2.y-self.point1.y)\n",
    "    def length(self):\n",
    "        return (self.dx()**2 + self.dy()**2)**.5\n",
    "    def __repr__ (self):\n",
    "        return str([self.point1, self.point2])\n",
    "    \n",
    "\n",
    "        "
   ]
  },
  {
   "cell_type": "code",
   "execution_count": 43,
   "metadata": {
    "collapsed": true
   },
   "outputs": [
    {
     "data": {
      "text/plain": [
       "12.36931687685298"
      ]
     },
     "execution_count": 43,
     "metadata": {},
     "output_type": "execute_result"
    }
   ],
   "source": [
    "# EXAMPLE\n",
    "\n",
    "B=point(12,-3)\n",
    "L=lineseg(A,B)\n",
    "L.length()"
   ]
  },
  {
   "cell_type": "code",
   "execution_count": 74,
   "metadata": {},
   "outputs": [],
   "source": [
    "# We define a class of triangles in the plane \n",
    "\n",
    "class triangle():\n",
    "\n",
    "    def __init__ (self, p1, p2, p3):\n",
    "        if not isinstance(p1, point):\n",
    "            print(p1, \"is not a point!\")\n",
    "            exit()\n",
    "        if not isinstance(p2, point): \n",
    "            print(p2, \"is not a point!\")\n",
    "            exit()\n",
    "        if not isinstance(p3, point): \n",
    "            print(p3, \"is not a point!\")\n",
    "            exit()\n",
    "        self.point1=p1\n",
    "        self.point2=p2\n",
    "        self.point3=p3\n",
    "        \n",
    "    def perimeter(self):\n",
    "            return lineseg(self.point1, self.point2).length()+lineseg(self.point2, self.point3).length()+lineseg(self.point3, self.point1).length()\n",
    "     \n",
    "    def area(self):\n",
    "        return abs((lineseg(self.point1, self.point2).dx()*lineseg(self.point1, self.point3).dy()-lineseg(self.point1, self.point2).dy()*lineseg(self.point1, self.point3).dx())/2)\n",
    "    \n",
    "    def __repr__ (self):\n",
    "        return str([self.point1, self.point2, self.point3])            "
   ]
  },
  {
   "cell_type": "code",
   "execution_count": 75,
   "metadata": {},
   "outputs": [
    {
     "data": {
      "text/plain": [
       "([[0, 0], [1, 0], [0, 4]], 2.0, 9.123105625617661)"
      ]
     },
     "execution_count": 75,
     "metadata": {},
     "output_type": "execute_result"
    }
   ],
   "source": [
    "# An example of the triangle class and its properties \n",
    "\n",
    "A=point(0,0)\n",
    "B=point(1,0)\n",
    "C=point(0,4)\n",
    "\n",
    "T=triangle(A,B,C)\n",
    "\n",
    "T, T.area(), T.perimeter()\n",
    "\n"
   ]
  },
  {
   "cell_type": "markdown",
   "metadata": {},
   "source": [
    "# PROJECT: \n",
    "\n",
    "Define the class of pyramids in ${\\Bbb R}^3$. Write a function that gives its surface area and its volume. "
   ]
  },
  {
   "cell_type": "code",
   "execution_count": null,
   "metadata": {},
   "outputs": [],
   "source": [
    "# ADD YOUR CODE HERE. PLEASE FEEL FREE TO ADD MORE CELLS IF YOU NEED THEM. "
   ]
  },
  {
   "cell_type": "markdown",
   "metadata": {},
   "source": [
    "# PROJECT: \n",
    "\n",
    "Define a class of linesegments (and the corresponding functions dx,dy,dz, length) in three dimensions. "
   ]
  },
  {
   "cell_type": "code",
   "execution_count": 13,
   "metadata": {},
   "outputs": [],
   "source": [
    "# ADD YOUR CODE HERE. PLEASE FEEL FREE TO ADD MORE CELLS IF YOU NEED THEM. "
   ]
  },
  {
   "cell_type": "code",
   "execution_count": 14,
   "metadata": {},
   "outputs": [],
   "source": [
    "# WE DEFINE A FUNCTION THAT RETURNS TRUE ONLY IF THE POINTS C,D ARE ON THE SAME SIDE OF A LINE DETERMINED BY THE \n",
    "# POINTS A AND B. \n",
    "\n",
    "def SameSide(A,B,C,D):\n",
    "    AB=lineseg(A,B)\n",
    "    AC=lineseg(A,C)\n",
    "    AD=lineseg(A,D)\n",
    "    M1=AC.dx() * AB.dy() -AB.dx() * AC.dy()\n",
    "    M2=AD.dx() * AB.dy() -AB.dx() * AD.dy()\n",
    "    return (M1*M2>0)"
   ]
  },
  {
   "cell_type": "code",
   "execution_count": 15,
   "metadata": {},
   "outputs": [
    {
     "data": {
      "text/plain": [
       "False"
      ]
     },
     "execution_count": 15,
     "metadata": {},
     "output_type": "execute_result"
    }
   ],
   "source": [
    "# EXAMPLE \n",
    "\n",
    "A=point(0,0)\n",
    "B=point(5,5)\n",
    "C=point(5,0)\n",
    "D=point(0,5)\n",
    "\n",
    "SameSide(A,B,C,D)"
   ]
  },
  {
   "cell_type": "markdown",
   "metadata": {},
   "source": [
    "# PROJECT: \n",
    "\n",
    "Prove mathematically that the function SameSide does what it is supposed to. Write a function SameSide3d(P1,P2,P3,C,D) where P1,P2,P3,C,D are points in 3-space, P1,P2,P3 determine a plane (if the are collinear)\n",
    "have the program print the statement that the points are collinear and quit) and the function returns TRUE only if \n",
    "C and D are on the side of the plane determined by P1,P2 and P3. "
   ]
  },
  {
   "cell_type": "code",
   "execution_count": 16,
   "metadata": {},
   "outputs": [],
   "source": [
    "# ADD YOUR CODE HERE. PLEASE FEEL FREE TO ADD MORE CELLS IF YOU NEED THEM. "
   ]
  },
  {
   "cell_type": "code",
   "execution_count": 17,
   "metadata": {},
   "outputs": [
    {
     "data": {
      "text/plain": [
       "[<matplotlib.lines.Line2D at 0x122142a10>]"
      ]
     },
     "execution_count": 17,
     "metadata": {},
     "output_type": "execute_result"
    },
    {
     "data": {
      "image/png": "[encoded data removed]",
      "text/plain": [
       "<Figure size 432x288 with 1 Axes>"
      ]
     },
     "metadata": {
      "needs_background": "light"
     },
     "output_type": "display_data"
    }
   ],
   "source": [
    "# VISUALIZATION + EXAMPLE \n",
    "\n",
    "A=point(1,.5)\n",
    "B=point(2,1)\n",
    "C=point(5,.1)\n",
    "D=point(.1,1)\n",
    "E=point(2,.2)\n",
    "\n",
    "X=[A.x,B.x,C.x,D.x,E.x]\n",
    "\n",
    "Y=[A.y,B.y,C.y,D.y,E.y]\n",
    "\n",
    "Sx=[A.x,B.x]\n",
    "Sy=[A.y,B.y]\n",
    "\n",
    "plt.scatter(X,Y)\n",
    "plt.annotate('A', xy=(A.x+.1,A.y-.05))\n",
    "plt.annotate('B', xy=(B.x+.1,B.y-.05))\n",
    "plt.annotate('C', xy=(C.x+.1,C.y-.05), color='red')\n",
    "plt.annotate('D', xy=(D.x+.1,D.y-.05), color='black')\n",
    "plt.annotate('E', xy=(E.x+.1,E.y-.05), color='red')\n",
    "plt.plot(Sx,Sy, color='purple')\n",
    "\n",
    "\n",
    "\n",
    "\n",
    "\n",
    "\n"
   ]
  },
  {
   "cell_type": "code",
   "execution_count": 18,
   "metadata": {},
   "outputs": [
    {
     "data": {
      "text/plain": [
       "(False, True)"
      ]
     },
     "execution_count": 18,
     "metadata": {},
     "output_type": "execute_result"
    }
   ],
   "source": [
    "SameSide(A,B,C,D), SameSide(A,B,C,E)"
   ]
  },
  {
   "cell_type": "markdown",
   "metadata": {
    "collapsed": true
   },
   "source": [
    "# PROJECT: \n",
    "\n",
    "Work out a similar visualization in 3d with respect to a plane. "
   ]
  },
  {
   "cell_type": "code",
   "execution_count": 19,
   "metadata": {},
   "outputs": [],
   "source": [
    "# ADD YOUR CODE HERE. PLEASE FEEL FREE TO ADD MORE CELLS IF YOU NEED THEM. "
   ]
  },
  {
   "cell_type": "code",
   "execution_count": 20,
   "metadata": {},
   "outputs": [],
   "source": [
    "# We are going to determine if a given point lies on a line determined by a given pair of points, In order to insure \n",
    "# numerical stability, we check whether the point is very close to the line, not necessarily on the line. \n",
    "\n",
    "def OnLine(A, B, C):\n",
    "    AB=lineseg(A, B)\n",
    "    AC=lineseg(A, C)\n",
    "    if abs(AC.dx()*AB.dy()-AB.dx()*AC.dy())<1.0E-10:\n",
    "        return True\n",
    "    return False"
   ]
  },
  {
   "cell_type": "markdown",
   "metadata": {},
   "source": [
    "# PROJECT: \n",
    "\n",
    "Define and test a similar function in higher dimension. The line can be replaced by a $k$-dimensional plane. Also, \n",
    "prove that the OnLine function above does what it is supposed to. "
   ]
  },
  {
   "cell_type": "code",
   "execution_count": 21,
   "metadata": {},
   "outputs": [],
   "source": [
    "# ADD YOUR CODE HERE. PLEASE FEEL FREE TO ADD MORE CELLS IF YOU NEED THEM. "
   ]
  },
  {
   "cell_type": "code",
   "execution_count": 22,
   "metadata": {},
   "outputs": [],
   "source": [
    "# We are going to determine if a given point lies between two given points. \n",
    "\n",
    "def Between(A, B, C): \n",
    "    if C==A or C==B: \n",
    "        return True \n",
    "    if OnLine(A, B, C):\n",
    "        minx=min(A.x,B.x)\n",
    "        maxx=max(A.x,B.x)\n",
    "        miny=min(A.y,B.y)\n",
    "        maxy=max(A.y,B.y)\n",
    "        if (minx <= C.x <= maxx) and (miny <= C.y <= maxy):\n",
    "            return True\n",
    "    return False\n",
    "\n"
   ]
  },
  {
   "cell_type": "code",
   "execution_count": 23,
   "metadata": {},
   "outputs": [
    {
     "data": {
      "text/plain": [
       "True"
      ]
     },
     "execution_count": 23,
     "metadata": {},
     "output_type": "execute_result"
    }
   ],
   "source": [
    "A=point(0,0)\n",
    "B=point(2,2)\n",
    "C=point(1,1)\n",
    "OnLine(A, B, C)"
   ]
  },
  {
   "cell_type": "markdown",
   "metadata": {},
   "source": [
    "# PROJECT: \n",
    "\n",
    "Write an analogous function in three dimensions. Also, in three dimensions, write a function InsideTriangle \n",
    "which determines whether a point D in ${\\Bbb R}^3$ is inside the triangle determined by points A,B,C. "
   ]
  },
  {
   "cell_type": "markdown",
   "metadata": {},
   "source": [
    "# PROJECT (*): \n",
    "\n",
    "Looking ahead a bit, here is a more elaborate project that we do not have quite enough machinery for yet. Consider a \n",
    "collection of $n$ points and $m$ lines in ${\\Bbb R}^2$. An incidence is a pair $(P,L)$ where $P$ is a point in our \n",
    "collection of points, $L$ is a line in our collection of lines, and $P$ lies on $L$. Let $I(P,L)$ denote the total \n",
    "number of incidences determined by our points and our lines. Write a program that allows one to input $n$ points and \n",
    "$m$ lines, and then computes the total number of incidences. "
   ]
  },
  {
   "cell_type": "code",
   "execution_count": 24,
   "metadata": {},
   "outputs": [],
   "source": [
    "# ADD YOUR CODE HERE. PLEASE FEEL FREE TO ADD MORE CELLS IF YOU NEED THEM. "
   ]
  },
  {
   "cell_type": "code",
   "execution_count": 28,
   "metadata": {},
   "outputs": [],
   "source": [
    "# We are now going to determine whether two given lines intersect, where each line is determined by two given points.\n",
    "\n",
    "def LineIntersect(A,B,C,D):\n",
    "    if not SameSide(A,B,C,D):\n",
    "        return True\n",
    "    elif not SameSide(C,D,A,B):\n",
    "        return True \n",
    "    else:\n",
    "        return False \n",
    "    return False \n",
    "\n"
   ]
  },
  {
   "cell_type": "code",
   "execution_count": 29,
   "metadata": {},
   "outputs": [
    {
     "data": {
      "text/plain": [
       "True"
      ]
     },
     "execution_count": 29,
     "metadata": {},
     "output_type": "execute_result"
    }
   ],
   "source": [
    "# Example of the use of LineIntersect \n",
    "\n",
    "A=point(0,0)\n",
    "B=point(1,0)\n",
    "C=point(1,1)\n",
    "D=point(1,-1)\n",
    "LineIntersect(A,B,C,D)\n"
   ]
  },
  {
   "cell_type": "markdown",
   "metadata": {},
   "source": [
    "# PROJECT: \n",
    "\n",
    "Create a function that determines whether two given line segments given by their endpoints intersect. Note that this \n",
    "is considerably more annoying than what we just did above. "
   ]
  },
  {
   "cell_type": "code",
   "execution_count": 26,
   "metadata": {},
   "outputs": [],
   "source": [
    "# ADD YOUR CODE HERE. PLEASE FEEL FREE TO ADD MORE CELLS IF YOU NEED THEM. "
   ]
  },
  {
   "cell_type": "code",
   "execution_count": 27,
   "metadata": {},
   "outputs": [
    {
     "data": {
      "image/png": "[encoded data removed]",
      "text/plain": [
       "<Figure size 432x288 with 1 Axes>"
      ]
     },
     "metadata": {
      "needs_background": "light"
     },
     "output_type": "display_data"
    }
   ],
   "source": [
    "# We are now going to generate the convex hull of a set of points \n",
    "\n",
    "from scipy.spatial import *\n",
    "import matplotlib.pyplot as plot\n",
    "pts=np.random.rand(1000,2) # generates 50 random 2-vectors \n",
    "H=ConvexHull(pts) # generates the convex hull of these points\n",
    "p=convex_hull_plot_2d(H) # plots this convex hull "
   ]
  },
  {
   "cell_type": "code",
   "execution_count": 149,
   "metadata": {},
   "outputs": [
    {
     "data": {
      "text/plain": [
       "(44, 2)"
      ]
     },
     "execution_count": 149,
     "metadata": {},
     "output_type": "execute_result"
    }
   ],
   "source": [
    "# We are going to find the vertices on the boundary of the convex hull above and compute their number \n",
    "\n",
    "boundaryvertices=pts[H.vertices] # finds the boundary vertices \n",
    "\n",
    "boundaryvertices.shape # lists the boundary vertices and the shape of the corresponding array "
   ]
  },
  {
   "cell_type": "markdown",
   "metadata": {},
   "source": [
    "# PROJECT: \n",
    "\n",
    "Suppose that you generate $n$ random $2$-vectors and compute the convex hull. How many bounadry points do you expect\n",
    "to end up with? First, experiment with this computationally, generate some data. Then formulate a hypothesis and try \n",
    "to prove it. "
   ]
  },
  {
   "cell_type": "code",
   "execution_count": null,
   "metadata": {},
   "outputs": [],
   "source": [
    "# ADD YOUR CODE HERE. PLEASE FEEL FREE TO ADD MORE CELLS IF YOU NEED THEM. "
   ]
  },
  {
   "cell_type": "code",
   "execution_count": 99,
   "metadata": {},
   "outputs": [
    {
     "data": {
      "image/png": "[encoded data removed]",
      "text/plain": [
       "<Figure size 432x288 with 1 Axes>"
      ]
     },
     "metadata": {
      "needs_background": "light"
     },
     "output_type": "display_data"
    }
   ],
   "source": [
    "# A simple example of a convex hull \n",
    "\n",
    "A=point(0,0)\n",
    "B=point(1,1)\n",
    "C=point(1,0)\n",
    "triangle=np.array([[A.x,A.y],[B.x,B.y],[C.x,C.y]])\n",
    "T=ConvexHull(triangle)\n",
    "p_T=convex_hull_plot_2d(T)"
   ]
  },
  {
   "cell_type": "markdown",
   "metadata": {},
   "source": [
    "# PROJECT: \n",
    "\n",
    "Write a program that checks if a given point is inside the convex hull of a given set of points. First do this in the \n",
    "plane and then generalize to higher dimensions. "
   ]
  },
  {
   "cell_type": "code",
   "execution_count": 124,
   "metadata": {
    "collapsed": true
   },
   "outputs": [
    {
     "data": {
      "text/plain": [
       "array([[1, 1],\n",
       "       [0, 0],\n",
       "       [1, 0]])"
      ]
     },
     "execution_count": 124,
     "metadata": {},
     "output_type": "execute_result"
    }
   ],
   "source": [
    "# ADD YOUR CODE HERE. PLEASE FEEL FREE TO ADD MORE CELLS IF YOU NEED THEM. "
   ]
  },
  {
   "cell_type": "code",
   "execution_count": 125,
   "metadata": {
    "collapsed": true
   },
   "outputs": [
    {
     "data": {
      "text/plain": [
       "array([[1, 0],\n",
       "       [2, 0],\n",
       "       [2, 1]], dtype=int32)"
      ]
     },
     "execution_count": 125,
     "metadata": {},
     "output_type": "execute_result"
    }
   ],
   "source": []
  },
  {
   "cell_type": "code",
   "execution_count": null,
   "metadata": {},
   "outputs": [],
   "source": []
  }
 ],
 "metadata": {
  "kernelspec": {
   "display_name": "Python 3",
   "language": "python",
   "name": "python3"
  },
  "language_info": {
   "codemirror_mode": {
    "name": "ipython",
    "version": 3
   },
   "file_extension": ".py",
   "mimetype": "text/x-python",
   "name": "python",
   "nbconvert_exporter": "python",
   "pygments_lexer": "ipython3",
   "version": "3.7.4"
  }
 },
 "nbformat": 4,
 "nbformat_minor": 2
}
