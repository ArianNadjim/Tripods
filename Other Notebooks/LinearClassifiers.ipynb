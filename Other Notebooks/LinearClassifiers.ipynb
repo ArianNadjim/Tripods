{
 "cells": [
  {
   "cell_type": "code",
   "execution_count": 129,
   "metadata": {},
   "outputs": [],
   "source": [
    "import math\n",
    "import numpy as np\n",
    "import random as rand\n",
    "import matplotlib.pyplot as plt\n",
    "import pandas"
   ]
  },
  {
   "cell_type": "code",
   "execution_count": 137,
   "metadata": {},
   "outputs": [],
   "source": [
    "class LinearClassifier:\n",
    "    def __init__(self, nrinputs):\n",
    "        self.weights = np.zeros(nrinputs)\n",
    "        self.ninputs = nrinputs\n",
    "    \n",
    "    # Threshold the given value using this LinearClassifier's threshold function.\n",
    "    def threshold(self, z):\n",
    "        pass\n",
    "    \n",
    "    # Update the weights of the classifier using the given inputs, output,\n",
    "    # and learning rate alpha.\n",
    "    def update(self, ins, outs, alpha):\n",
    "        pass\n",
    "    \n",
    "    # Evaluate the given input vector using this classifier and return the output.\n",
    "    def evaluate(self, in_vect):\n",
    "        return self.threshold(np.dot(self.weights, in_vect))\n",
    "    \n",
    "    # Train the classifier on given examples with a constant learning rate alpha.\n",
    "    # The examples should be a list of tuples of inputs (np arryas) and outputs (doubles)\n",
    "    def train(self, examples, nsteps, alpha):\n",
    "        training_errors = []\n",
    "        training_errors.append(self.squaredErrorPerSample(examples))\n",
    "        n = len(examples)\n",
    "        for i in range(nsteps):\n",
    "            j = rand.randint(0,n-1)\n",
    "            ex = examples[j]\n",
    "            self.update(ex[0], ex[1], alpha)\n",
    "            training_errors.append(self.squaredErrorPerSample(examples))\n",
    "        return training_errors\n",
    "    \n",
    "    def squaredErrorPerSample(self, examples):\n",
    "        s = 0.0\n",
    "        for ex in examples:\n",
    "            result = self.evaluate(ex[0])\n",
    "            error = ex[1] - result\n",
    "            s += error * error\n",
    "        return s / len(examples)"
   ]
  },
  {
   "cell_type": "code",
   "execution_count": 138,
   "metadata": {},
   "outputs": [],
   "source": [
    "class PerceptronClassifier(LinearClassifier):\n",
    "    def threshold(self, z):\n",
    "        return 0 if z < 0 else 1\n",
    "    \n",
    "    # Use the perceptron learning rule:\n",
    "    # w_i = w_i + alpha * (y - thresh(w.x)) * x_i\n",
    "    # where w = weight vector, x = input vector\n",
    "    def update(self, ins, out, alpha):\n",
    "        h_w = self.threshold(np.dot(self.weights, ins))\n",
    "        for i in range(self.ninputs):\n",
    "            self.weights[i] = self.weights[i] + alpha * (out - h_w) * ins[i]"
   ]
  },
  {
   "cell_type": "code",
   "execution_count": 148,
   "metadata": {},
   "outputs": [],
   "source": [
    "def perceptronTest(steps, alpha, ninputs, file):\n",
    "    data = pandas.read_csv(file)\n",
    "    examples = [(np.array(l[:ninputs]), l[ninputs]) for l in data.values]\n",
    "    classifier = PerceptronClassifier(ninputs)\n",
    "    error_before = classifier.squaredErrorPerSample(examples)\n",
    "    print(\"Pre Training: \" + str(error_before))\n",
    "    training_errors = classifier.train(examples, steps, alpha)\n",
    "    error_after = classifier.squaredErrorPerSample(examples)\n",
    "    print(\"Post Training: \" + str(error_after))\n",
    "    plt.figure()\n",
    "    plt.plot(training_errors)\n",
    "    plt.show()\n"
   ]
  },
  {
   "cell_type": "code",
   "execution_count": 154,
   "metadata": {},
   "outputs": [
    {
     "name": "stdout",
     "output_type": "stream",
     "text": [
      "Pre Training: 0.5352112676056338\n",
      "Post Training: 0.08450704225352113\n"
     ]
    },
    {
     "data": {
      "image/png": "[encoded data removed]",
      "text/plain": [
       "<Figure size 432x288 with 1 Axes>"
      ]
     },
     "metadata": {
      "needs_background": "light"
     },
     "output_type": "display_data"
    }
   ],
   "source": [
    "perceptronTest(10000, 0.1, 2, 'earthquake-noisy.data.txt')"
   ]
  },
  {
   "cell_type": "code",
   "execution_count": 150,
   "metadata": {},
   "outputs": [],
   "source": [
    "class LogisticClassifier(LinearClassifier):\n",
    "    # Soft threshold function\n",
    "    def threshold(self, z):\n",
    "        return 1 / (1 + math.exp(-z))\n",
    "    \n",
    "    # Use the perceptron learning rule:\n",
    "    # h_w = thresh(w.x)\n",
    "    # w_i = w_i + alpha * (y - h_w) * h_w * (1 - h_w) * x_i\n",
    "    # where w = weight vector, x = input vector, y = output\n",
    "    def update(self, ins, out, alpha):\n",
    "        h_w = self.threshold(np.dot(self.weights, ins))\n",
    "        for i in range(self.ninputs):\n",
    "            self.weights[i] = self.weights[i] + alpha * (out - h_w) * h_w * (1 - h_w) * ins[i]"
   ]
  },
  {
   "cell_type": "code",
   "execution_count": 151,
   "metadata": {},
   "outputs": [],
   "source": [
    "def logisticTest(steps, alpha, ninputs, file):\n",
    "    data = pandas.read_csv(file)\n",
    "    examples = [(np.array(l[:ninputs]), l[ninputs]) for l in data.values]\n",
    "    classifier = LogisticClassifier(ninputs)\n",
    "    error_before = classifier.squaredErrorPerSample(examples)\n",
    "    print(\"Pre Training: \" + str(error_before))\n",
    "    training_errors = classifier.train(examples, steps, alpha)\n",
    "    error_after = classifier.squaredErrorPerSample(examples)\n",
    "    print(\"Post Training: \" + str(error_after))\n",
    "    plt.figure()\n",
    "    plt.plot(training_errors)\n",
    "    plt.show()\n",
    "\n"
   ]
  },
  {
   "cell_type": "code",
   "execution_count": 157,
   "metadata": {},
   "outputs": [
    {
     "name": "stdout",
     "output_type": "stream",
     "text": [
      "Pre Training: 0.25\n",
      "Post Training: 0.06776923228337567\n"
     ]
    },
    {
     "data": {
      "image/png": "[encoded data removed]",
      "text/plain": [
       "<Figure size 432x288 with 1 Axes>"
      ]
     },
     "metadata": {
      "needs_background": "light"
     },
     "output_type": "display_data"
    }
   ],
   "source": [
    "logisticTest(10000, 0.2, 2, 'earthquake-noisy.data.txt')"
   ]
  },
  {
   "cell_type": "markdown",
   "metadata": {},
   "source": [
    "Copyright (c) 2020 TRIPODS/GradStemForAll 2020 Team"
   ]
  }
 ],
 "metadata": {
  "kernelspec": {
   "display_name": "Python 3",
   "language": "python",
   "name": "python3"
  },
  "language_info": {
   "codemirror_mode": {
    "name": "ipython",
    "version": 3
   },
   "file_extension": ".py",
   "mimetype": "text/x-python",
   "name": "python",
   "nbconvert_exporter": "python",
   "pygments_lexer": "ipython3",
   "version": "3.7.6"
  }
 },
 "nbformat": 4,
 "nbformat_minor": 4
}
