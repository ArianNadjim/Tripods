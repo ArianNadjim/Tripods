{
 "cells": [
  {
   "cell_type": "code",
   "execution_count": 2,
   "metadata": {
    "collapsed": true
   },
   "outputs": [
    {
     "data": {
      "text/plain": [
       "array([[1., 0., 0., 0., 0., 0., 0., 0., 0., 0.],\n",
       "       [0., 1., 0., 0., 0., 0., 0., 0., 0., 0.],\n",
       "       [0., 0., 1., 0., 0., 0., 0., 0., 0., 0.],\n",
       "       [0., 0., 0., 1., 0., 0., 0., 0., 0., 0.],\n",
       "       [0., 0., 0., 0., 1., 0., 0., 0., 0., 0.],\n",
       "       [0., 0., 0., 0., 0., 1., 0., 0., 0., 0.],\n",
       "       [0., 0., 0., 0., 0., 0., 1., 0., 0., 0.],\n",
       "       [0., 0., 0., 0., 0., 0., 0., 1., 0., 0.],\n",
       "       [0., 0., 0., 0., 0., 0., 0., 0., 1., 0.],\n",
       "       [0., 0., 0., 0., 0., 0., 0., 0., 0., 1.]])"
      ]
     },
     "execution_count": 2,
     "metadata": {},
     "output_type": "execute_result"
    }
   ],
   "source": [
    "import numpy as np\n",
    "\n",
    "np.eye(10)\n",
    "\n",
    "# generates a 10 by 10 identity matrix "
   ]
  },
  {
   "cell_type": "code",
   "execution_count": 32,
   "metadata": {},
   "outputs": [
    {
     "data": {
      "text/plain": [
       "array([[ 0.76347269, -0.05186618, -1.99533486],\n",
       "       [ 2.20976895,  1.05320078,  0.59709356]])"
      ]
     },
     "execution_count": 32,
     "metadata": {},
     "output_type": "execute_result"
    }
   ],
   "source": [
    "import numpy as np \n",
    "\n",
    "np.random.random()\n",
    "\n",
    "# Generates a random real number in [0,1] (uniform distribution)\n",
    "\n",
    "x=np.random.random((2,3))\n",
    "\n",
    "x\n",
    "\n",
    "# Generates a random 2 by 3 matrix with entries in [0,1]\n",
    "\n",
    "np.random.randn()\n",
    "\n",
    "# Generates random real numbers in accordance with the Gaussian distribution \n",
    "\n",
    "np.random.randn(2,3)\n",
    "\n",
    "# Generates a 2 by 3 random matrix in accordance with the Gaussian distribution. Note the difference in syntax with \n",
    "# the uniform case. "
   ]
  },
  {
   "cell_type": "code",
   "execution_count": 55,
   "metadata": {},
   "outputs": [
    {
     "data": {
      "text/plain": [
       "array([[ 1.01841435,  0.01580427,  0.01808406],\n",
       "       [ 0.01580427,  0.96385554, -0.01482662],\n",
       "       [ 0.01808406, -0.01482662,  1.02184433]])"
      ]
     },
     "execution_count": 55,
     "metadata": {},
     "output_type": "execute_result"
    }
   ],
   "source": [
    "# Statistics of random distributions \n",
    "\n",
    "R=np.random.randn(10000)\n",
    "\n",
    "# Generates 10000 random real numbers in accordance with Gauss distribution. \n",
    "\n",
    "R.mean()\n",
    "\n",
    "# Computes the mean of R. It should be close to 0. \n",
    "\n",
    "R.std()\n",
    "\n",
    "# Compuutes the standard deviation of R. \n",
    "\n",
    "R.var()\n",
    "\n",
    "# Computes the variance of R. \n",
    "\n",
    "S=np.random.randn(10000,3)\n",
    "\n",
    "# Generates 10000 random 3-vectors in accordance with the Gaussian distribution \n",
    "\n",
    "S.mean(axis=0)\n",
    "\n",
    "# Computes the mean of each of the three columns. \n",
    "\n",
    "S.mean(axis=1)\n",
    "\n",
    "# computes the mean across each row. \n",
    "\n",
    "np.cov(S.T)\n",
    "\n",
    "# Computes the covariance matrix (note the need to take a transpose)\n",
    "\n",
    "np.cov(S, rowvar=False)\n",
    "\n",
    "# Accomplishes the same thing. "
   ]
  },
  {
   "cell_type": "code",
   "execution_count": 76,
   "metadata": {},
   "outputs": [
    {
     "data": {
      "text/plain": [
       "array([[4, 5],\n",
       "       [5, 3]])"
      ]
     },
     "execution_count": 76,
     "metadata": {},
     "output_type": "execute_result"
    }
   ],
   "source": [
    "# Random integers \n",
    "\n",
    "np.random.randint(10)\n",
    "\n",
    "# Generates a random integer between 0 and 10 (inclusive)\n",
    "\n",
    "np.random.randint(-10,10)\n",
    "\n",
    "# Generates a random integer between -10 and 10\n",
    "\n",
    "np.random.randint(1,10,3)\n",
    "\n",
    "# Generateas a random integer 3-vector with entries between 1 and 10. \n",
    "\n",
    "np.random.randint(0,10, size=(3,3))\n",
    "\n",
    "# Generates a random 3 by 3 integer matrix with entries between 0 and 10 (inclusive)\n",
    "\n",
    "X=[x for x in range(1,6)]\n",
    "A=np.array(X)\n",
    "\n",
    "np.random.choice(A, size=(2,2), p=[.2,.2,.3,.1,.2])\n",
    "\n",
    "# This will require an in-depth discussion. This randomly selects a 2 by 2 matrix with entries in a given \n",
    "# array where each point in the array is chosen with some probability. "
   ]
  },
  {
   "cell_type": "code",
   "execution_count": null,
   "metadata": {},
   "outputs": [],
   "source": []
  }
 ],
 "metadata": {
  "kernelspec": {
   "display_name": "Python 3",
   "language": "python",
   "name": "python3"
  },
  "language_info": {
   "codemirror_mode": {
    "name": "ipython",
    "version": 3
   },
   "file_extension": ".py",
   "mimetype": "text/x-python",
   "name": "python",
   "nbconvert_exporter": "python",
   "pygments_lexer": "ipython3",
   "version": "3.7.4"
  }
 },
 "nbformat": 4,
 "nbformat_minor": 2
}
