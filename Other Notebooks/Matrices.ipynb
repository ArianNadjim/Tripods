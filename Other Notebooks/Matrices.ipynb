{
 "cells": [
  {
   "cell_type": "code",
   "execution_count": 23,
   "metadata": {},
   "outputs": [
    {
     "data": {
      "text/plain": [
       "array([[  1,   2,   5],\n",
       "       [ -1,   2,   7],\n",
       "       [  3,   4, -10]])"
      ]
     },
     "execution_count": 23,
     "metadata": {},
     "output_type": "execute_result"
    }
   ],
   "source": [
    "# entering a matrix. Note that to run this cell, you must click on \"Run\" above. \n",
    "\n",
    "import numpy as np \n",
    "\n",
    "# numpy is the package needed to work with matrices in python effectively \n",
    "\n",
    "M=np.array([[1,2,5],[-1,2,7],[3,4,-10]])\n",
    "\n",
    "# illustrates the syntax needed to input a matrix \n",
    "\n",
    "L=np.array([[1,0,0],[0,1,0],[0,0,1]])\n",
    "\n",
    "# the 3 by 3 identity matrix \n",
    "\n",
    "X=M.dot(L)\n",
    "\n",
    "X\n",
    "\n",
    "# This multiplies two matrices together. Until you \"call\" K, python will not tell you what K is, so you must type: \n",
    "\n",
    "K \n",
    "\n",
    "# This will display K. If you comment out K, python will compute K=M*L, but will not display it. \n",
    "\n",
    "M+L\n",
    "\n",
    "# This adds M and L.  \n",
    "\n",
    "\n",
    "\n",
    "\n",
    "\n"
   ]
  },
  {
   "cell_type": "code",
   "execution_count": 11,
   "metadata": {},
   "outputs": [
    {
     "data": {
      "text/plain": [
       "(array([1, 0, 0]), 0)"
      ]
     },
     "execution_count": 11,
     "metadata": {},
     "output_type": "execute_result"
    }
   ],
   "source": [
    "# identifying elements of a matrix \n",
    "\n",
    "L=np.array([[1,0,0],[0,1,0],[0,0,1]])\n",
    "\n",
    "# this is one of the matrices from above\n",
    "\n",
    "L[0] \n",
    "\n",
    "# This will display the first row of the matrix L. Note that python counts from 0, not 1. \n",
    "\n",
    "L[0][1]\n",
    "\n",
    "# This displays the second element of the first row. Once again, python begins its counter from 0, not 1. Note that\n",
    "# if run this cell, python will execute the last operation listed, namely L[0][1]. If you want them both displyed, \n",
    "# you can do the following: \n",
    "\n",
    "a=L[0]\n",
    "\n",
    "b=L[0][1]\n",
    "\n",
    "a,b"
   ]
  },
  {
   "cell_type": "code",
   "execution_count": 13,
   "metadata": {
    "collapsed": true
   },
   "outputs": [
    {
     "data": {
      "text/plain": [
       "array([  5,   7, -10])"
      ]
     },
     "execution_count": 13,
     "metadata": {},
     "output_type": "execute_result"
    }
   ],
   "source": [
    "# identifying elements of a matrix (continued)\n",
    "\n",
    "M=np.array([[1,2,5],[-1,2,7],[3,4,-10]]) \n",
    "\n",
    "# This is one of the matrixes from above. \n",
    "\n",
    "M[:,0]\n",
    "\n",
    "# This displays the first column \n",
    "\n",
    "M[:,2]\n",
    "\n",
    "# This displayes the third column \n",
    "\n",
    "\n",
    "\n"
   ]
  },
  {
   "cell_type": "code",
   "execution_count": 2,
   "metadata": {
    "collapsed": true
   },
   "outputs": [
    {
     "data": {
      "text/plain": [
       "array([[ 1.00000000e+00, -4.44089210e-16, -1.22124533e-15],\n",
       "       [-2.77555756e-17,  1.00000000e+00,  2.77555756e-16],\n",
       "       [ 2.08166817e-17,  2.77555756e-17,  1.00000000e+00]])"
      ]
     },
     "execution_count": 2,
     "metadata": {},
     "output_type": "execute_result"
    }
   ],
   "source": [
    "import numpy as np\n",
    "\n",
    "# elementary operations on matrices\n",
    "\n",
    "M=np.array([[1,2,5],[-1,2,7],[3,4,-10]]) \n",
    "\n",
    "M.T\n",
    "\n",
    "# This takes a transpose of M\n",
    "\n",
    "np.exp(M)\n",
    "\n",
    "# This exponentiates every element of M \n",
    "\n",
    "M**2\n",
    "\n",
    "# This squares every element of M. This DOES NOT multiply M by itself. \n",
    "\n",
    "(M.T)**2\n",
    "\n",
    "# The process works quie well along with the transpose operation. \n",
    "\n",
    "np.linalg.det(M)\n",
    "\n",
    "# Computes the determinant of M. \n",
    "\n",
    "U=np.array([[1,2,5],[-1,2,7],[3,4,-10]]) \n",
    "\n",
    "V=np.linalg.inv(U)\n",
    "\n",
    "# Computes the inverse of M\n",
    "\n",
    "#K=[[0,0,0],[1,2,3],[-1,0,1]]\n",
    "\n",
    "#np.linalg.inv(K)\n",
    "\n",
    "# You get an error message because the matrix is singular \n",
    "\n",
    "V.dot(U)\n",
    "\n",
    "# Checks the inverse operations. Note that you do not quite get the identity matrix because of small errors that \n",
    "# accumulate!! \n",
    "\n"
   ]
  },
  {
   "cell_type": "code",
   "execution_count": 25,
   "metadata": {},
   "outputs": [
    {
     "data": {
      "text/plain": [
       "3"
      ]
     },
     "execution_count": 25,
     "metadata": {},
     "output_type": "execute_result"
    }
   ],
   "source": [
    "U=np.array([[1,2,5],[-1,2,7],[3,4,-10]]) \n",
    "\n",
    "U.shape[0]"
   ]
  },
  {
   "cell_type": "code",
   "execution_count": 6,
   "metadata": {},
   "outputs": [
    {
     "data": {
      "text/plain": [
       "-7"
      ]
     },
     "execution_count": 6,
     "metadata": {},
     "output_type": "execute_result"
    }
   ],
   "source": [
    "import numpy as np\n",
    "\n",
    "# trace function\n",
    "\n",
    "U=np.array([[1,2,5],[-1,2,7],[3,4,-10]]) \n",
    "\n",
    "U[0][0]+U[1][1]+U[2][2]\n",
    "\n",
    "# computes the trace of a matrix \n",
    "\n",
    "np.diag(U)\n",
    "\n",
    "# Extracts the diagonal \n",
    "\n",
    "np.diag(U).sum()\n",
    "\n",
    "# Sums up the elements of the diagonal, yielding the trace. \n",
    "\n",
    "\n"
   ]
  },
  {
   "cell_type": "code",
   "execution_count": 2,
   "metadata": {
    "collapsed": true
   },
   "outputs": [
    {
     "name": "stdout",
     "output_type": "stream",
     "text": [
      "The eigenvalues are:  [1. 1.]\n",
      "The eigenvectors are:  [[1. 0.]\n",
      " [0. 1.]]\n"
     ]
    }
   ],
   "source": [
    "import numpy as np\n",
    "\n",
    "# Eigenvalues and eigenvectors \n",
    "\n",
    "A=np.array([[1,0],[0,1]])\n",
    "\n",
    "np.linalg.eig(A)\n",
    "\n",
    "# Computes the eigenvalues and eigenvectors of A. \n",
    "\n",
    "Values, Vectors=np.linalg.eig(A)\n",
    "\n",
    "print(\"The eigenvalues are: \", Values)\n",
    "\n",
    "print(\"The eigenvectors are: \", Vectors)\n",
    "\n",
    "# This way we separate the eigenvalues and eigenvectors are display them in a clear fashion. "
   ]
  },
  {
   "cell_type": "code",
   "execution_count": 5,
   "metadata": {},
   "outputs": [
    {
     "data": {
      "text/plain": [
       "True"
      ]
     },
     "execution_count": 5,
     "metadata": {},
     "output_type": "execute_result"
    }
   ],
   "source": [
    "# Checking if two vectors (or matrice)\n",
    "\n",
    "a=np.array([1,2])\n",
    "b=np.array([1,2+2**(-100)])\n",
    "np.allclose(a,b)"
   ]
  },
  {
   "cell_type": "markdown",
   "metadata": {},
   "source": [
    "Copyright (c) 2020 TRIPODS/GradStemForAll 2020 Team"
   ]
  }
 ],
 "metadata": {
  "kernelspec": {
   "display_name": "Python 3",
   "language": "python",
   "name": "python3"
  },
  "language_info": {
   "codemirror_mode": {
    "name": "ipython",
    "version": 3
   },
   "file_extension": ".py",
   "mimetype": "text/x-python",
   "name": "python",
   "nbconvert_exporter": "python",
   "pygments_lexer": "ipython3",
   "version": "3.7.6"
  }
 },
 "nbformat": 4,
 "nbformat_minor": 2
}
