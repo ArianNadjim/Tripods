{
 "cells": [
  {
   "cell_type": "code",
   "execution_count": null,
   "metadata": {},
   "outputs": [],
   "source": [
    "print('Hello world!')"
   ]
  },
  {
   "cell_type": "code",
   "execution_count": null,
   "metadata": {},
   "outputs": [],
   "source": [
    "x = 21\n",
    "print(x)\n",
    "y = 2*x\n",
    "print(y)"
   ]
  },
  {
   "cell_type": "code",
   "execution_count": null,
   "metadata": {},
   "outputs": [],
   "source": [
    "# This line will be kept secret from the computer.\n",
    "# Such lines are called comments.\n",
    "# Use comments to explain what you are doing.\n",
    "# Think of them as post-it notes to your future self, or others.\n",
    "\n",
    "# This print function just prints out whatever is in single quotes.\n",
    "print('Nothing to see here... *cough cough cough*')"
   ]
  },
  {
   "cell_type": "code",
   "execution_count": null,
   "metadata": {},
   "outputs": [],
   "source": [
    "# Get a number from the user, and put it into the variable x.\n",
    "# The eval function takes the input and converts it into a number.\n",
    "# The input function prints a line of explanation, and spits out the input.\n",
    "x = eval(input('Please enter a number: '))\n",
    "\n",
    "# Print out the square of the number... if they entered a number...\n",
    "# Notice that we had two inputs to this function: the text in single quotes,\n",
    "# and some math involving the variable x. The asterisk is used to multiply.\n",
    "print('The square of your number is:', x*x)"
   ]
  },
  {
   "cell_type": "code",
   "execution_count": null,
   "metadata": {},
   "outputs": [],
   "source": [
    "# This little code snippet has some basic branching.\n",
    "\n",
    "# Get a number from the user.\n",
    "num = eval(input('Give me a natural number between 1 and 9: '))\n",
    "\n",
    "# Output a different special message based on how the input compares to 5.\n",
    "# The following is a sequence of \"if statements.\"\n",
    "# There are a few key features to notice here.\n",
    "# First, we have whatever our comparison is, with a double equals sign for equality.\n",
    "# Then we have a colon, and a new line\n",
    "# Finally, we have indented the code that will be run if the condition is met.\n",
    "# This indentation is VERY IMPORTANT!\n",
    "# If your code is not properly indented, it may not run correctly, if at all.\n",
    "if num > 5:\n",
    "    print('Your number was bigger than five!')\n",
    "if num < 5:\n",
    "    print('Your number was smaller than five!')\n",
    "if num == 5:\n",
    "    print('Your number was five!')"
   ]
  },
  {
   "cell_type": "code",
   "execution_count": null,
   "metadata": {},
   "outputs": [],
   "source": [
    "\"\"\" If we want to include a whole block of comments,\n",
    "sometimes it's best to use these triple double quotes,\n",
    "so you don't have to put a # on each line.\n",
    "\n",
    "Aside from that, the purpose of this section is to \n",
    "introduce basic looping.\"\"\"\n",
    "\n",
    "# A simple \"for\" loop\n",
    "# The word \"for\" indicates a loop.\n",
    "# The variable i will be the index.\n",
    "# The range function can be used to do a lot of things, but here it gives us\n",
    "# a set to iterate over. We also need a colon, and to indent the looped code.\n",
    "# This will print some fairly repetitive text.\n",
    "for i in range(4):\n",
    "    print('Here is the output of the iteration with index', i, 'of the for loop.')\n",
    "    print('Looping sure is fun!')\n",
    "\n",
    "# Now that we're done with the loop, we stop indenting.\n",
    "print('This line is not repeated in the loop.')"
   ]
  },
  {
   "cell_type": "code",
   "execution_count": null,
   "metadata": {},
   "outputs": [],
   "source": [
    "\"\"\" Here are some basic math commands. \"\"\"\n",
    "\n",
    "# Adding (+), subtracting (-), multiplication (*), and division (/)\n",
    "print('(10+3-1)/(2*3)) =', (10+3-1)/(2*3))\n",
    "\n",
    "# Exponentiation (**)\n",
    "print('4 to the power of 5 =', 4**5)\n",
    "\n",
    "# Integer division (//)\n",
    "print('15 divided by 4, ignoring the remainder, is', 15//4)\n",
    "\n",
    "# Modulo, or getting the remainder and ignoring the quotient\n",
    "print('The remainder of 15 divided by 4 is', 15%4)"
   ]
  },
  {
   "cell_type": "code",
   "execution_count": null,
   "metadata": {},
   "outputs": [],
   "source": []
  }
 ],
 "metadata": {
  "kernelspec": {
   "display_name": "Python 3",
   "language": "python",
   "name": "python3"
  },
  "language_info": {
   "codemirror_mode": {
    "name": "ipython",
    "version": 3
   },
   "file_extension": ".py",
   "mimetype": "text/x-python",
   "name": "python",
   "nbconvert_exporter": "python",
   "pygments_lexer": "ipython3",
   "version": "3.7.6"
  }
 },
 "nbformat": 4,
 "nbformat_minor": 4
}
