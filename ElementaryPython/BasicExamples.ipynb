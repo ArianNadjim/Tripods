{
 "cells": [
  {
   "cell_type": "code",
   "execution_count": null,
   "metadata": {},
   "outputs": [],
   "source": [
    "print('Hello world!')"
   ]
  },
  {
   "cell_type": "code",
   "execution_count": null,
   "metadata": {},
   "outputs": [],
   "source": [
    "x = 21\n",
    "print(x)\n",
    "y = 2*x\n",
    "print(y)"
   ]
  },
  {
   "cell_type": "code",
   "execution_count": null,
   "metadata": {},
   "outputs": [],
   "source": [
    "# This line will be kept secret from the computer.\n",
    "# Such lines are called comments.\n",
    "# Use comments to explain what you are doing.\n",
    "# Think of them as post-it notes to your future self, or others.\n",
    "\n",
    "# This print function just prints out whatever is in single quotes.\n",
    "print('Nothing to see here... *cough cough cough*')"
   ]
  },
  {
   "cell_type": "code",
   "execution_count": null,
   "metadata": {},
   "outputs": [],
   "source": [
    "# Get a number from the user, and put it into the variable x.\n",
    "# The eval function takes the input and converts it into a number.\n",
    "# The input function prints a line of explanation, and spits out the input.\n",
    "x = eval(input('Please enter a number: '))\n",
    "\n",
    "# Print out the square of the number... if they entered a number...\n",
    "# Notice that we had two inputs to this function: the text in single quotes,\n",
    "# and some math involving the variable x. The asterisk is used to multiply.\n",
    "print('The square of your number is:', x*x)"
   ]
  },
  {
   "cell_type": "code",
   "execution_count": null,
   "metadata": {},
   "outputs": [],
   "source": [
    "# This little code snippet has some basic branching.\n",
    "\n",
    "# Get a number from the user.\n",
    "num = eval(input('Give me a natural number between 1 and 9: '))\n",
    "\n",
    "# Output a different special message based on how the input compares to 5.\n",
    "# The following is a sequence of \"if statements.\"\n",
    "# There are a few key features to notice here.\n",
    "# First, we have whatever our comparison is, with a double equals sign for equality.\n",
    "# Then we have a colon, and a new line\n",
    "# Finally, we have indented the code that will be run if the condition is met.\n",
    "# This indentation is VERY IMPORTANT!\n",
    "# If your code is not properly indented, it may not run correctly, if at all.\n",
    "if num > 5:\n",
    "    print('Your number was bigger than five!')\n",
    "if num < 5:\n",
    "    print('Your number was smaller than five!')\n",
    "if num == 5:\n",
    "    print('Your number was five!')"
   ]
  },
  {
   "cell_type": "code",
   "execution_count": null,
   "metadata": {},
   "outputs": [],
   "source": [
    "\"\"\" If we want to include a whole block of comments,\n",
    "sometimes it's best to use these triple double quotes,\n",
    "so you don't have to put a # on each line.\n",
    "\n",
    "Aside from that, the purpose of this section is to \n",
    "introduce basic looping.\"\"\"\n",
    "\n",
    "# A simple \"for\" loop\n",
    "# The word \"for\" indicates a loop.\n",
    "# The variable i will be the index.\n",
    "# The range function can be used to do a lot of things, but here it gives us\n",
    "# a set to iterate over. We also need a colon, and to indent the looped code.\n",
    "# This will print some fairly repetitive text.\n",
    "for i in range(4):\n",
    "    print('Here is the output of the iteration with index', i, 'of the for loop.')\n",
    "    print('Looping sure is fun!')\n",
    "\n",
    "# Now that we're done with the loop, we stop indenting.\n",
    "print('This line is not repeated in the loop.')"
   ]
  },
  {
   "cell_type": "code",
   "execution_count": null,
   "metadata": {},
   "outputs": [],
   "source": [
    "\"\"\" Here are some basic math commands. \"\"\"\n",
    "\n",
    "# Adding (+), subtracting (-), multiplication (*), and division (/)\n",
    "print('(10+3-1)/(2*3)) =', (10+3-1)/(2*3))\n",
    "\n",
    "# Exponentiation (**)\n",
    "print('4 to the power of 5 =', 4**5)\n",
    "\n",
    "# Integer division (//)\n",
    "print('15 divided by 4, ignoring the remainder, is', 15//4)\n",
    "\n",
    "# Modulo, or getting the remainder and ignoring the quotient\n",
    "print('The remainder of 15 divided by 4 is', 15%4)"
   ]
  },
  {
   "cell_type": "code",
   "execution_count": 17,
   "metadata": {},
   "outputs": [
    {
     "name": "stdout",
     "output_type": "stream",
     "text": [
      "My list has 6 elements.\n",
      "4\n",
      "8\n",
      "15\n",
      "16\n",
      "23\n",
      "42\n",
      "The sum of all of the elements is 108\n",
      "The element with the index 0 is: 4\n",
      "The element with the index 1 is: 8\n",
      "The element with the index 2 is: 15\n",
      "The element with the index 3 is: 16\n",
      "The element with the index 4 is: 23\n",
      "The element with the index 5 is: 42\n",
      "The original list is: [4, 8, 15, 16, 23, 42]\n",
      "The list is with a new element is: [4, 8, 15, 16, 23, 42, 65]\n",
      "The list with the fifth element (index 4) removed is: [4, 8, 15, 16, 42, 65]\n",
      "The list with 42 removed is: [4, 8, 15, 16, 65]\n"
     ]
    }
   ],
   "source": [
    "\"\"\" Now let's suppose that you want to keep track of a number of similar quantities.\n",
    "For example, suppose you want a list of numbers. We can store this several different ways. \"\"\"\n",
    "\n",
    "# This is called a list.\n",
    "myList = [4, 8, 15, 16, 23, 42]\n",
    "\n",
    "# This tells us how long our list is.\n",
    "print(\"My list has\", len(myList),\"elements.\")\n",
    "\n",
    "# This prints out all of the elements of the list.\n",
    "for i in myList:\n",
    "    print(i)\n",
    "\n",
    "# This totals up all the elements of the list.\n",
    "total = 0\n",
    "for i in myList:\n",
    "    total = total + i\n",
    "print(\"The sum of all of the elements is\", total)\n",
    "\n",
    "# I can index specific elements in a list like this.\n",
    "# Keep in mind that the index of the first element is 0.\n",
    "for i in range(len(myList)):\n",
    "    print(\"The element with the index\", i,\"is:\",myList[i])\n",
    "\n",
    "# Finally, I can add and remove elements from the list.\n",
    "print(\"The original list is:\", myList)\n",
    "myList.append(65)\n",
    "print(\"The list is with a new element is:\", myList)\n",
    "myList.pop(4)\n",
    "print(\"The list with the fifth element (index 4) removed is:\", myList)\n",
    "myList.remove(42)\n",
    "print(\"The list with 42 removed is:\", myList)\n"
   ]
  },
  {
   "cell_type": "code",
   "execution_count": 30,
   "metadata": {},
   "outputs": [
    {
     "name": "stdout",
     "output_type": "stream",
     "text": [
      "New function. Who dis?\n",
      "You gave me an input of 4\n",
      "You gave me an input of -12\n",
      "You gave me an input of salamander\n",
      "You gave me an input of ['Dave', 29, 'CHALLENGING!', 67.2, 'Spooorts!!1']\n",
      "7 + 1 = 8\n"
     ]
    }
   ],
   "source": [
    "\"\"\" If we're going to be repeating a particular task,\n",
    "sometimes it's worthwhile to define our own function.\"\"\"\n",
    "\n",
    "# We write the keyword def, then a function name followed by parentheses and a colon.\n",
    "# The code of our new function follows indented below.\n",
    "def myFunction():\n",
    "    print(\"New function. Who dis?\")\n",
    "\n",
    "# Now we can use our function later on.\n",
    "myFunction()\n",
    "\n",
    "# Often times, we want the function to take input.\n",
    "# To do that, we put the input list (called arguments, or args) in the parentheses.\n",
    "\n",
    "def anotherFunction(number):\n",
    "    print(\"You gave me an input of\", number)\n",
    "    \n",
    "# Let's call this amazing new wonderous function.\n",
    "anotherFunction(4)\n",
    "anotherFunction(-12)\n",
    "\n",
    "# Notice that despite the fact that I called the input \"number\"\n",
    "# python will let me pass in other types of data...\n",
    "anotherFunction(\"salamander\")\n",
    "inputList=[\"Dave\", 29, \"CHALLENGING!\", 67.2, \"Spooorts!!1\"]\n",
    "anotherFunction(inputList)\n",
    "\n",
    "# Finally, we sometimes want functions to output data for later use.\n",
    "def incrimentFunction(num):\n",
    "    return num+1\n",
    "\n",
    "# Let's see this function in action!\n",
    "print(\"7 + 1 =\",incrimentFunction(7))"
   ]
  }
 ],
 "metadata": {
  "kernelspec": {
   "display_name": "Python 3",
   "language": "python",
   "name": "python3"
  },
  "language_info": {
   "codemirror_mode": {
    "name": "ipython",
    "version": 3
   },
   "file_extension": ".py",
   "mimetype": "text/x-python",
   "name": "python",
   "nbconvert_exporter": "python",
   "pygments_lexer": "ipython3",
   "version": "3.7.6"
  }
 },
 "nbformat": 4,
 "nbformat_minor": 4
}
