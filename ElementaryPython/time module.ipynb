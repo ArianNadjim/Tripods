{
 "cells": [
  {
   "cell_type": "code",
   "execution_count": 19,
   "metadata": {},
   "outputs": [
    {
     "name": "stdout",
     "output_type": "stream",
     "text": [
      "1594131957.0\n",
      "Tue Jul  7 10:25:57 2020\n"
     ]
    }
   ],
   "source": [
    "import time \n",
    "\n",
    "# The number of seconds since the beginning of time\n",
    "\n",
    "time.time()\n",
    "\n",
    "# Time and date right now \n",
    "\n",
    "time.ctime(1594131442.187444)\n",
    "\n",
    "# Time and date right now in a different format\n",
    "\n",
    "time.localtime()\n",
    "\n",
    "# Still returns the number of second since the beginning of time \n",
    "\n",
    "a=time.localtime()\n",
    "b=time.mktime(a)\n",
    "print(b)\n",
    "\n",
    "# Uses a to return local time in a reasonable format\n",
    "\n",
    "c=time.asctime(a)\n",
    "print(c)\n",
    "\n"
   ]
  },
  {
   "cell_type": "code",
   "execution_count": 10,
   "metadata": {
    "collapsed": true
   },
   "outputs": [
    {
     "data": {
      "text/plain": [
       "1594131758.965111"
      ]
     },
     "execution_count": 10,
     "metadata": {},
     "output_type": "execute_result"
    }
   ],
   "source": []
  },
  {
   "cell_type": "code",
   "execution_count": null,
   "metadata": {},
   "outputs": [],
   "source": []
  }
 ],
 "metadata": {
  "kernelspec": {
   "display_name": "Python 3",
   "language": "python",
   "name": "python3"
  },
  "language_info": {
   "codemirror_mode": {
    "name": "ipython",
    "version": 3
   },
   "file_extension": ".py",
   "mimetype": "text/x-python",
   "name": "python",
   "nbconvert_exporter": "python",
   "pygments_lexer": "ipython3",
   "version": "3.7.4"
  }
 },
 "nbformat": 4,
 "nbformat_minor": 2
}
