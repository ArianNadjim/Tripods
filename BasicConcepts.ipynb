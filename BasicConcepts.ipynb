{
 "cells": [
  {
   "cell_type": "code",
   "execution_count": 156,
   "metadata": {
    "collapsed": true
   },
   "outputs": [],
   "source": [
    "import numpy as np\n",
    "import scipy.stats"
   ]
  },
  {
   "cell_type": "markdown",
   "metadata": {},
   "source": [
    "Implement basic probability concepts for random variables of various distributions (mean, variance, L_p norm, covariance)"
   ]
  },
  {
   "cell_type": "markdown",
   "metadata": {},
   "source": [
    "I. Normal Distribution"
   ]
  },
  {
   "cell_type": "code",
   "execution_count": 194,
   "metadata": {},
   "outputs": [
    {
     "name": "stdout",
     "output_type": "stream",
     "text": [
      "[ 0.71766628  1.10740402  1.51835073 -0.02241346 -0.23634159  0.9946374\n",
      " -0.22834492  1.45660728  0.08772058  1.32614504 -2.2440173  -0.519985\n",
      "  0.47802962  0.53307528 -0.42249049 -1.19492438 -1.68665846  0.42986169\n",
      " -0.20341079  0.17946266  0.38775923  0.93423199 -1.69897645 -0.44289532\n",
      "  0.17525638 -1.25521169  1.00693698  0.75029857 -0.37313003  0.72609735\n",
      "  0.18568003  1.06499742  2.16285669  1.6917077   1.24543738  0.31175796\n",
      " -0.50983365 -0.9941878  -3.60355749  1.48631732 -0.00961469  0.57609367\n",
      " -0.68282047 -0.28364228  2.81091833 -0.9435521  -0.18071856 -2.06716149\n",
      "  0.01092944 -0.78472049]\n"
     ]
    }
   ],
   "source": [
    "#Draw 50 samples from a random variable of normal distribution with mean = 0 and standard deviation = 1:\n",
    "sample_normal = np.random.normal(0,1,50)\n",
    "print(sample_normal)"
   ]
  },
  {
   "cell_type": "markdown",
   "metadata": {},
   "source": [
    "1) Implement basic probability concepts for samples drawn from the standard normal distribution using numpy functions:"
   ]
  },
  {
   "cell_type": "code",
   "execution_count": 203,
   "metadata": {},
   "outputs": [
    {
     "data": {
      "text/plain": [
       "0.075352562859296146"
      ]
     },
     "execution_count": 203,
     "metadata": {},
     "output_type": "execute_result"
    }
   ],
   "source": [
    "#Compute sample mean of sample_normal using numpy:\n",
    "np.mean(sample_normal)"
   ]
  },
  {
   "cell_type": "markdown",
   "metadata": {},
   "source": [
    "Questions: \n",
    "\n",
    "1)Why is it reasonable to use sample mean for the estimation of the mean of the random variable? Hint: Law of large numbers.\n",
    "\n",
    "2)Intuitively, the larger number of samples, the more accurate the sample mean is as an estimation for the mean of the given random variable. Can you quantify the \"accuracy\"?\n",
    "For example, assume that the given random variable has variance bounded by 2, how many samples are needed for the estimation error to be within 0.01 with probability 0.9? Hint: Chebyshev's inequality. (**)"
   ]
  },
  {
   "cell_type": "code",
   "execution_count": 195,
   "metadata": {},
   "outputs": [
    {
     "data": {
      "text/plain": [
       "1.400494565442884"
      ]
     },
     "execution_count": 195,
     "metadata": {},
     "output_type": "execute_result"
    }
   ],
   "source": [
    "#Compute sample variance of sample_normal using numpy:\n",
    "np.var(sample_normal, ddof = 1)"
   ]
  },
  {
   "cell_type": "markdown",
   "metadata": {},
   "source": [
    "Question: What does \"ddof\" value represent for?"
   ]
  },
  {
   "cell_type": "markdown",
   "metadata": {},
   "source": [
    "2) Implement basic probability concepts for samples drawn from the standard normal distribution using self-defined functions:"
   ]
  },
  {
   "cell_type": "code",
   "execution_count": 196,
   "metadata": {
    "collapsed": true
   },
   "outputs": [],
   "source": [
    "#Compute sample mean of a sample:\n",
    "def mean(ar):\n",
    "    return np.sum(ar)/len(ar)"
   ]
  },
  {
   "cell_type": "code",
   "execution_count": 220,
   "metadata": {
    "collapsed": true
   },
   "outputs": [],
   "source": [
    "#Compute sample variance of a sample:\n",
    "def variance(ar):\n",
    "    mean = np.sum(ar)/len(ar)\n",
    "    ar_demean = ar-mean\n",
    "    ar_demean_squared = np.square(ar_demean)\n",
    "    return np.sum(ar_demean_squared)/(len(ar)-1)"
   ]
  },
  {
   "cell_type": "markdown",
   "metadata": {},
   "source": [
    "Question: To compute the sample variance, why is the denominator in the last step is (the number of the sample - 1), instead of (the number of the sample)? Hint: Bessel correction."
   ]
  },
  {
   "cell_type": "code",
   "execution_count": 198,
   "metadata": {
    "collapsed": true
   },
   "outputs": [],
   "source": [
    "#Compute L^p norm of a sample:\n",
    "def L_p(ar,p):\n",
    "    ar_abs_power_p = np.power(np.abs(ar),p)\n",
    "    return (np.sum(ar_abs_power_p)/len(ar))**(1/p)"
   ]
  },
  {
   "cell_type": "code",
   "execution_count": 199,
   "metadata": {
    "collapsed": true
   },
   "outputs": [],
   "source": [
    "#Compute L^infinity norm of a sample:\n",
    "def L_infinity(ar):\n",
    "    ar_abs = np.abs(ar)\n",
    "    return np.max(ar_abs)"
   ]
  },
  {
   "cell_type": "code",
   "execution_count": 200,
   "metadata": {
    "collapsed": true
   },
   "outputs": [],
   "source": [
    "#Compute covariance of two input samples:\n",
    "def cov(x,y):\n",
    "    if len(x) == len(y):\n",
    "        mean_x = np.mean(x)\n",
    "        mean_y = np.mean(y)\n",
    "        return np.sum((x - mean_x)*(y-mean_y))/(len(x)-1)\n",
    "    else:\n",
    "        print('The lengths of the two input vectors do not match.')"
   ]
  },
  {
   "cell_type": "markdown",
   "metadata": {},
   "source": [
    "Question: Why is the denominator in the last step is (the number of the sample - 1), instead of (the number of the sample)?"
   ]
  },
  {
   "cell_type": "code",
   "execution_count": 202,
   "metadata": {},
   "outputs": [
    {
     "name": "stdout",
     "output_type": "stream",
     "text": [
      "0.0753525628593\n"
     ]
    }
   ],
   "source": [
    "#Use the self-defined function to compute sample mean:\n",
    "print(mean(sample_normal))"
   ]
  },
  {
   "cell_type": "code",
   "execution_count": 221,
   "metadata": {},
   "outputs": [
    {
     "name": "stdout",
     "output_type": "stream",
     "text": [
      "1.40049456544\n"
     ]
    }
   ],
   "source": [
    "#Use the self-defined function to compute sample variance:\n",
    "print(variance(sample_normal))"
   ]
  },
  {
   "cell_type": "code",
   "execution_count": 207,
   "metadata": {},
   "outputs": [
    {
     "name": "stdout",
     "output_type": "stream",
     "text": [
      "1.41991993661\n"
     ]
    }
   ],
   "source": [
    "#Use the self-defined function to compute L^3 norm of the sample:\n",
    "print(L_p(sample_normal-mean(sample_normal),3))"
   ]
  },
  {
   "cell_type": "code",
   "execution_count": 206,
   "metadata": {},
   "outputs": [
    {
     "name": "stdout",
     "output_type": "stream",
     "text": [
      "3.60355748749\n"
     ]
    }
   ],
   "source": [
    "#Use the self-defined function to compute L^infinity norm of the sample:\n",
    "print(L_infinity(sample_normal))"
   ]
  },
  {
   "cell_type": "code",
   "execution_count": null,
   "metadata": {
    "collapsed": true
   },
   "outputs": [],
   "source": [
    "#Use the self-defined function to compute the covariance of two samples:\n",
    "sample_1 = sample_normal[1:11]\n",
    "sample_2 = sample_normal[11:21]\n",
    "print(cov(sample_1,sample_2))"
   ]
  },
  {
   "cell_type": "markdown",
   "metadata": {},
   "source": [
    "II. Bernoulli Distribution"
   ]
  },
  {
   "cell_type": "code",
   "execution_count": 210,
   "metadata": {},
   "outputs": [
    {
     "name": "stdout",
     "output_type": "stream",
     "text": [
      "[1 1 0 0 1 1 0 1 1 0 1 1 1 0 0 1 1 0 0 1 0 1 1 1 0 0 0 0 1 1 0 0 0 0 1 1 1\n",
      " 0 1 0 0 0 1 0 0 1 1 0 0 0]\n"
     ]
    }
   ],
   "source": [
    "#Draw 50 samples from a random variable of Bernoulli distribution taking values 1 and -1 with probablity 1/2:\n",
    "sample_bernoulli = np.random.binomial(1,1/2,50)\n",
    "print(sample_bernoulli)"
   ]
  },
  {
   "cell_type": "code",
   "execution_count": 217,
   "metadata": {},
   "outputs": [
    {
     "name": "stdout",
     "output_type": "stream",
     "text": [
      "0.48\n",
      "0.48\n"
     ]
    }
   ],
   "source": [
    "#Compute sample mean of sample_bernoulli using numpy and self_defined function:\n",
    "print(np.mean(sample_bernoulli))\n",
    "print(mean(sample_bernoulli))"
   ]
  },
  {
   "cell_type": "markdown",
   "metadata": {},
   "source": [
    "Question: \n",
    "Can you quantify the accuracy of the sample mean as estimations for the mean of the random variable in this case? Does the same estimate (**) hold? Is there any better estimate available in this case? Hint: Hoeffding’s inequality.  "
   ]
  },
  {
   "cell_type": "code",
   "execution_count": 222,
   "metadata": {},
   "outputs": [
    {
     "name": "stdout",
     "output_type": "stream",
     "text": [
      "0.254693877551\n",
      "0.254693877551\n"
     ]
    }
   ],
   "source": [
    "#Compute sample variance of sample_bernoulli using numpy and self_defined function:\n",
    "print(np.var(sample_bernoulli,ddof = 1))\n",
    "print(variance(sample_bernoulli))"
   ]
  },
  {
   "cell_type": "code",
   "execution_count": 223,
   "metadata": {},
   "outputs": [
    {
     "name": "stdout",
     "output_type": "stream",
     "text": [
      "1.77778303014\n"
     ]
    }
   ],
   "source": [
    "#Use the self-defined function to compute L^4 norm of the sample:\n",
    "print(L_p(sample_normal-mean(sample_bernoulli),4))"
   ]
  },
  {
   "cell_type": "code",
   "execution_count": 224,
   "metadata": {},
   "outputs": [
    {
     "name": "stdout",
     "output_type": "stream",
     "text": [
      "1\n"
     ]
    }
   ],
   "source": [
    "#Use the self-defined function to compute L^infinity norm of the sample:\n",
    "print(L_infinity(sample_bernoulli))"
   ]
  },
  {
   "cell_type": "code",
   "execution_count": 226,
   "metadata": {},
   "outputs": [
    {
     "name": "stdout",
     "output_type": "stream",
     "text": [
      "-0.0672514619883\n"
     ]
    }
   ],
   "source": [
    "#Use the self-defined function to compute the covariance of two samples:\n",
    "sample_1 = sample_bernoulli[1:20]\n",
    "sample_2 = sample_bernoulli[21:40]\n",
    "print(cov(sample_1,sample_2))"
   ]
  },
  {
   "cell_type": "code",
   "execution_count": null,
   "metadata": {
    "collapsed": true
   },
   "outputs": [],
   "source": []
  }
 ],
 "metadata": {
  "kernelspec": {
   "display_name": "Python 3",
   "language": "python",
   "name": "python3"
  },
  "language_info": {
   "codemirror_mode": {
    "name": "ipython",
    "version": 3
   },
   "file_extension": ".py",
   "mimetype": "text/x-python",
   "name": "python",
   "nbconvert_exporter": "python",
   "pygments_lexer": "ipython3",
   "version": "3.6.3"
  }
 },
 "nbformat": 4,
 "nbformat_minor": 2
}
