{
 "cells": [
  {
   "cell_type": "markdown",
   "metadata": {},
   "source": [
    "# Basic python examples\n",
    "\n",
    "This is a python notebook. Each little rectangle is called a cell. You can run the code in each individual cell by clicking on it to select it and hitting 'Run,' which is presumably located somewhere near the top and middle of this window. This is a markdown cell, so there's no code to run. Try running the code in the next cell."
   ]
  },
  {
   "cell_type": "code",
   "execution_count": 1,
   "metadata": {},
   "outputs": [
    {
     "name": "stdout",
     "output_type": "stream",
     "text": [
      "Hello world!\n"
     ]
    }
   ],
   "source": [
    "print('Hello world!')"
   ]
  },
  {
   "cell_type": "markdown",
   "metadata": {},
   "source": [
    "So the print() command just prints out whatever it's told to print out in its little output area. You can modify the text in between the single quotes to make the computer say all sorts of zany things, like \"Hi planet!\" In the next example, we'll start doing some basic arithmetic. You'll see that the asterisk (\\*) is used for multiplication. Try running the code in the next cell."
   ]
  },
  {
   "cell_type": "code",
   "execution_count": 2,
   "metadata": {},
   "outputs": [
    {
     "name": "stdout",
     "output_type": "stream",
     "text": [
      "21\n",
      "42\n"
     ]
    }
   ],
   "source": [
    "x = 21\n",
    "print(x)\n",
    "y = 2*x\n",
    "print(y)"
   ]
  },
  {
   "cell_type": "markdown",
   "metadata": {},
   "source": [
    "One thing to keep in mind is that a single = is an assignment operator, which means it is telling the thing on the left to take the value of the thing on the right. Later, we'll see == which is used to test if things are equal without changing their values. The next cell will introduce comments, which are little messages we put in code. They might seem superfluous at first, but they're really useful, as you'll learn if you program more than just a little bit."
   ]
  },
  {
   "cell_type": "code",
   "execution_count": 3,
   "metadata": {},
   "outputs": [
    {
     "name": "stdout",
     "output_type": "stream",
     "text": [
      "Nothing to see here... *cough cough cough*\n"
     ]
    }
   ],
   "source": [
    "# This line will be kept secret from the computer.\n",
    "# Such lines are called comments.\n",
    "# Use comments to explain what you are doing.\n",
    "# Think of them as post-it notes to your future self, or others.\n",
    "\n",
    "# This print function just prints out whatever is in single quotes.\n",
    "print('Nothing to see here... *cough cough cough*')"
   ]
  },
  {
   "cell_type": "markdown",
   "metadata": {},
   "source": [
    "Now you try it. In the next code cell, follow the comments and try to write a line of code that does what the comments suggest."
   ]
  },
  {
   "cell_type": "code",
   "execution_count": null,
   "metadata": {},
   "outputs": [],
   "source": [
    "# Write a single line of code that will output \"Here I am!\" to the user using the print command.\n",
    "# Don't forget to use parentheses and single quotes!\n",
    "\n"
   ]
  },
  {
   "cell_type": "markdown",
   "metadata": {},
   "source": [
    "Now, putting the data values into the code directly is frequently a good way to start testing things, but often times we want to modify input from the user. So in the next cell, you'll see a simple example of how to get input while the program is running. You might want to play around a bit and see what happens if you input something that is not a number. There are ways to deal with such errors, but we won't worry about those just yet."
   ]
  },
  {
   "cell_type": "code",
   "execution_count": 5,
   "metadata": {},
   "outputs": [
    {
     "name": "stdout",
     "output_type": "stream",
     "text": [
      "Please enter a number: g\n"
     ]
    },
    {
     "ename": "NameError",
     "evalue": "name 'g' is not defined",
     "output_type": "error",
     "traceback": [
      "\u001b[1;31m---------------------------------------------------------------------------\u001b[0m",
      "\u001b[1;31mNameError\u001b[0m                                 Traceback (most recent call last)",
      "\u001b[1;32m<ipython-input-5-4442e423913f>\u001b[0m in \u001b[0;36m<module>\u001b[1;34m\u001b[0m\n\u001b[0;32m      2\u001b[0m \u001b[1;31m# The eval function takes the input and converts it into a number.\u001b[0m\u001b[1;33m\u001b[0m\u001b[1;33m\u001b[0m\u001b[1;33m\u001b[0m\u001b[0m\n\u001b[0;32m      3\u001b[0m \u001b[1;31m# The input function prints a line of explanation, and spits out the input.\u001b[0m\u001b[1;33m\u001b[0m\u001b[1;33m\u001b[0m\u001b[1;33m\u001b[0m\u001b[0m\n\u001b[1;32m----> 4\u001b[1;33m \u001b[0mx\u001b[0m \u001b[1;33m=\u001b[0m \u001b[0meval\u001b[0m\u001b[1;33m(\u001b[0m\u001b[0minput\u001b[0m\u001b[1;33m(\u001b[0m\u001b[1;34m'Please enter a number: '\u001b[0m\u001b[1;33m)\u001b[0m\u001b[1;33m)\u001b[0m\u001b[1;33m\u001b[0m\u001b[1;33m\u001b[0m\u001b[0m\n\u001b[0m\u001b[0;32m      5\u001b[0m \u001b[1;33m\u001b[0m\u001b[0m\n\u001b[0;32m      6\u001b[0m \u001b[1;31m# Print out the square of the number... if they entered a number...\u001b[0m\u001b[1;33m\u001b[0m\u001b[1;33m\u001b[0m\u001b[1;33m\u001b[0m\u001b[0m\n",
      "\u001b[1;32m<string>\u001b[0m in \u001b[0;36m<module>\u001b[1;34m\u001b[0m\n",
      "\u001b[1;31mNameError\u001b[0m: name 'g' is not defined"
     ]
    }
   ],
   "source": [
    "# Get a number from the user, and put it into the variable x.\n",
    "# The eval function takes the input and converts it into a number.\n",
    "# The input function prints a line of explanation, and spits out the input.\n",
    "x = eval(input('Please enter a number: '))\n",
    "\n",
    "# Print out the square of the number... if they entered a number...\n",
    "# Notice that we had two inputs to this function: the text in single quotes,\n",
    "# and some math involving the variable x. Remember the asterisk is used to multiply.\n",
    "print('The square of your number is:', x*x)"
   ]
  },
  {
   "cell_type": "markdown",
   "metadata": {},
   "source": [
    "Now you try it. Edit the code below so that the program asks the user type in a word, then prints the word out below with a nice message. Since we are just spitting out the characters that the user typed, and not interpreting the input as a number, we don't need an eval()."
   ]
  },
  {
   "cell_type": "code",
   "execution_count": null,
   "metadata": {},
   "outputs": [],
   "source": [
    "# Start with an input command that prompts the user for a word.\n",
    "x = input('text ')\n",
    "\n",
    "# Then have the program output a nice message saying, \"You typed the word: \" and showing their word.\n",
    "print(' ',x)"
   ]
  },
  {
   "cell_type": "markdown",
   "metadata": {},
   "source": [
    "Now we begin branching. This allows us to have a single chunk of code that does a number of different things. In the cell below, we demonstrate branching using if. There are other branching commands, but if is a good starting point."
   ]
  },
  {
   "cell_type": "code",
   "execution_count": 6,
   "metadata": {},
   "outputs": [
    {
     "name": "stdout",
     "output_type": "stream",
     "text": [
      "Give me a natural number between 1 and 9: 11\n",
      "Your number was bigger than five!\n"
     ]
    }
   ],
   "source": [
    "# This little code snippet has some basic branching.\n",
    "\n",
    "# Get a number from the user.\n",
    "num = eval(input('Give me a natural number between 1 and 9: '))\n",
    "\n",
    "# Output a different special message based on how the input compares to 5.\n",
    "# The following is a sequence of \"if statements.\"\n",
    "# There are a few key features to notice here.\n",
    "# First, we have whatever our comparison is, with a double equals sign for equality.\n",
    "# Then we have a colon, and a new line\n",
    "# Finally, we have indented the code that will be run if the condition is met.\n",
    "# This indentation is VERY IMPORTANT!\n",
    "# If your code is not properly indented, it may not run correctly, if at all.\n",
    "if num > 5:\n",
    "    print('Your number was bigger than five!')\n",
    "if num < 5:\n",
    "    print('Your number was smaller than five!')\n",
    "if num == 5:\n",
    "    print('Your number was five!')"
   ]
  },
  {
   "cell_type": "markdown",
   "metadata": {},
   "source": [
    "Now you try. Notice the indenting. This is one of the things that is absolutely crucial in python. It's especially troublesome if you copy code from somewhere else, and a tab is coded as a different number of spaces or something. Modify the code below to ask the user to guess the secret number between 1 and 9. Of course, the secret number is 7. Output a message about whether or not they guessed the right number. We use != to mean \"not equal.\" Also notice that we used a backslash to output a single quote."
   ]
  },
  {
   "cell_type": "code",
   "execution_count": null,
   "metadata": {},
   "outputs": [],
   "source": [
    "# We start by asking the user for input.\n",
    "num = eval(input(' '))\n",
    "\n",
    "# Now we need some if statements.\n",
    "# Here is where we output the message for the wrong number.\n",
    "if num != 7:\n",
    "    print('That\\'s not the secret number!')\n",
    "    \n",
    "# You write the code for if the user inputs 7."
   ]
  },
  {
   "cell_type": "markdown",
   "metadata": {},
   "source": [
    "Here we show how to include blocks of comments. The triple double quotes start and end a block to be commented out. These are especially useful when you have multiple files involved in a programming project. We also demonstrate looping using the for command below."
   ]
  },
  {
   "cell_type": "code",
   "execution_count": 7,
   "metadata": {},
   "outputs": [
    {
     "name": "stdout",
     "output_type": "stream",
     "text": [
      "Here is the output of the iteration with index 0 of the for loop.\n",
      "Looping sure is fun!\n",
      "Here is the output of the iteration with index 1 of the for loop.\n",
      "Looping sure is fun!\n",
      "Here is the output of the iteration with index 2 of the for loop.\n",
      "Looping sure is fun!\n",
      "Here is the output of the iteration with index 3 of the for loop.\n",
      "Looping sure is fun!\n",
      "This line is not repeated in the loop.\n"
     ]
    }
   ],
   "source": [
    "\"\"\" If we want to include a whole block of comments,\n",
    "sometimes it's best to use these triple double quotes,\n",
    "so you don't have to put a # on each line.\n",
    "\n",
    "Aside from that, the purpose of this section is to \n",
    "introduce basic looping.\"\"\"\n",
    "\n",
    "# A simple \"for\" loop\n",
    "# The word \"for\" indicates a loop.\n",
    "# The variable i will be the index.\n",
    "# The range function can be used to do a lot of things, but here it gives us\n",
    "# a set to iterate over. We also need a colon, and to indent the looped code.\n",
    "# This will print some fairly repetitive text.\n",
    "for i in range(4):\n",
    "    print('Here is the output of the iteration with index', i, 'of the for loop.')\n",
    "    print('Looping sure is fun!')\n",
    "\n",
    "# Now that we're done with the loop, we stop indenting.\n",
    "print('This line is not repeated in the loop.')"
   ]
  },
  {
   "cell_type": "markdown",
   "metadata": {},
   "source": [
    "Try to write your own simple for loop that prints a word or phrase multiple times."
   ]
  },
  {
   "cell_type": "code",
   "execution_count": null,
   "metadata": {},
   "outputs": [],
   "source": [
    "# Put your for loop below. Pay attention to your indentation!\n"
   ]
  },
  {
   "cell_type": "markdown",
   "metadata": {},
   "source": [
    "Here are some basic arithmetic commands. If you want to use more complicated math operations, you might end up using something called numpy. But for the basics, we'll start here."
   ]
  },
  {
   "cell_type": "code",
   "execution_count": null,
   "metadata": {},
   "outputs": [],
   "source": [
    "\"\"\" Here are some basic math commands. \"\"\"\n",
    "\n",
    "# Adding (+), subtracting (-), multiplication (*), and division (/)\n",
    "print('(10+3-1)/(2*3)) =', (10+3-1)/(2*3))\n",
    "\n",
    "# Exponentiation (**) Note that ^ does something different.\n",
    "print('4 to the power of 5 =', 4**5)\n",
    "\n",
    "# Integer division (//)\n",
    "print('15 divided by 4, ignoring the remainder, is', 15//4)\n",
    "\n",
    "# Modulo, or getting the remainder and ignoring the quotient\n",
    "print('The remainder of 15 divided by 4 is', 15%4)"
   ]
  },
  {
   "cell_type": "markdown",
   "metadata": {},
   "source": [
    "Modify the simple code below so that it converts Fahrenheit to Celsius. Take the input in degrees Fahrenheit, subtract 32, then multiply by 5 and divide by 9. That will be the answer you output."
   ]
  },
  {
   "cell_type": "code",
   "execution_count": null,
   "metadata": {},
   "outputs": [],
   "source": [
    "# We'll start by asking for input, as usual.\n",
    "f = eval(input('Input a temperature in degrees Fahrenheit: '))\n",
    "\n",
    "# Modify the formula here so that c is the equivalent temperature in Celsius\n",
    "c = f\n",
    "\n",
    "# Finally, print out the correct answer.\n",
    "print('The equivalent temperature in Celsius is:', c)"
   ]
  },
  {
   "cell_type": "markdown",
   "metadata": {},
   "source": [
    "Often times we want to manipulate a bunch of similar variables, and have them organized. One of the many ways to accomplish this is with a data structure called a list."
   ]
  },
  {
   "cell_type": "code",
   "execution_count": 14,
   "metadata": {},
   "outputs": [
    {
     "name": "stdout",
     "output_type": "stream",
     "text": [
      "My list has 6 elements.\n",
      "4\n",
      "8\n",
      "15\n",
      "16\n",
      "23\n",
      "42\n",
      "The sum of all of the elements is 108\n",
      "The element with the index 0 is: 4\n",
      "The element with the index 1 is: 8\n",
      "The element with the index 2 is: 15\n",
      "The element with the index 3 is: 16\n",
      "The element with the index 4 is: 23\n",
      "The element with the index 5 is: 42\n",
      "The second and third elements are: [15, 16]\n",
      "The second to last element is: 23\n",
      "Here's twice each element of the list: [8, 16, 30, 32, 46, 84]\n",
      "The original list is: [4, 8, 15, 16, 23, 42]\n",
      "The list is with a new element is: [4, 8, 15, 16, 23, 42, 65]\n",
      "The list with the fifth element (index 4) removed is: [4, 8, 15, 16, 42, 65]\n",
      "The list with 42 removed is: [4, 8, 15, 16, 65]\n"
     ]
    }
   ],
   "source": [
    "\"\"\" Now let's suppose that you want to keep track of a number of similar quantities.\n",
    "For example, suppose you want a list of numbers. We can store this several different ways. \"\"\"\n",
    "\n",
    "# This is called a list.\n",
    "myList = [4, 8, 15, 16, 23, 42]\n",
    "\n",
    "# This tells us how long our list is.\n",
    "print(\"My list has\", len(myList),\"elements.\")\n",
    "\n",
    "# This prints out all of the elements of the list.\n",
    "for i in myList:\n",
    "    print(i)\n",
    "\n",
    "# This totals up all the elements of the list.\n",
    "total = 0\n",
    "for i in myList:\n",
    "    total = total + i\n",
    "print(\"The sum of all of the elements is\", total)\n",
    "\n",
    "# I can index specific elements in a list like this.\n",
    "# Keep in mind that the index of the first element is 0.\n",
    "for i in range(len(myList)):\n",
    "    print(\"The element with the index\", i,\"is:\",myList[i])\n",
    "    \n",
    "# We can also access particular ranges in our list with :\n",
    "# Think of the colon as an ellipsis (...)\n",
    "# This will list the elements with indices from 2 up to 4, EXCLUDING 4\n",
    "print('The second and third elements are:', myList[2:4])\n",
    "\n",
    "# We can index from the end of the list using negative indices.\n",
    "# The index -1 corresponds to the last element, so what will -2 give us?\n",
    "print('The second to last element is:', myList[-2])\n",
    "\n",
    "# The following is called a list comprehension.\n",
    "# It allows us to access all of the elements in a list in one line.\n",
    "# Also, when we want to use some special characters, we can include the text in double quotes.\n",
    "print(\"Here's twice each element of the list:\",[2*x for x in myList])\n",
    "\n",
    "# Finally, I can add and remove elements from the list.\n",
    "print(\"The original list is:\", myList)\n",
    "myList.append(65)\n",
    "print(\"The list is with a new element is:\", myList)\n",
    "myList.pop(4)\n",
    "print(\"The list with the fifth element (index 4) removed is:\", myList)\n",
    "myList.remove(42)\n",
    "print(\"The list with 42 removed is:\", myList)\n"
   ]
  },
  {
   "cell_type": "markdown",
   "metadata": {},
   "source": [
    "Modify the code below so that you create an empty list, then put four entries into it. Print the list. Then, prompt the user to add a fifth entry, then a sixth entry, and print the list. Finally, remove the first two entries from the list, and print it a final time."
   ]
  },
  {
   "cell_type": "code",
   "execution_count": 9,
   "metadata": {},
   "outputs": [
    {
     "name": "stdout",
     "output_type": "stream",
     "text": [
      "['north', 'south']\n",
      " asdf\n",
      "['south', 'asdf']\n"
     ]
    }
   ],
   "source": [
    "# Here we create an empty list.\n",
    "myList = []\n",
    "\n",
    "# Now we'll add two things to the list.\n",
    "# Modify the code to add two more.\n",
    "myList.append('north')\n",
    "myList.append('south')\n",
    "\n",
    "# After adding all four items to the list, we'll print it.\n",
    "print(myList)\n",
    "\n",
    "# Get input from the user, and append their input to the list.\n",
    "# Modify the code to get and add another item.\n",
    "firstNewItem = input(' ')\n",
    "myList.append(firstNewItem)\n",
    "\n",
    "# Put a line of code here that will print the list with all six items.\n",
    "\n",
    "# Here we remove the first item from the list.\n",
    "# Add a line of code so that it also removes the second.\n",
    "myList.remove('north')\n",
    "\n",
    "# We print our final list\n",
    "print(myList)\n",
    "\n"
   ]
  },
  {
   "cell_type": "markdown",
   "metadata": {},
   "source": [
    "Now we demonstrate how to define and use your own functions."
   ]
  },
  {
   "cell_type": "code",
   "execution_count": 15,
   "metadata": {},
   "outputs": [
    {
     "name": "stdout",
     "output_type": "stream",
     "text": [
      "New function. Who dis?\n",
      "You gave me an input of 4\n",
      "You gave me an input of -12\n",
      "You gave me an input of salamander\n",
      "You gave me an input of ['Dave', 29, 'CHALLENGING!', 67.2, 'Spooorts!!1']\n",
      "7 + 1 = 8\n"
     ]
    }
   ],
   "source": [
    "\"\"\" If we're going to be repeating a particular task,\n",
    "sometimes it's worthwhile to define our own function.\"\"\"\n",
    "\n",
    "# We write the keyword def, then a function name followed by parentheses and a colon.\n",
    "# The code of our new function follows indented below.\n",
    "def myFunction():\n",
    "    print(\"New function. Who dis?\")\n",
    "\n",
    "# Now we can use our function later on.\n",
    "myFunction()\n",
    "\n",
    "# Often times, we want the function to take input.\n",
    "# To do that, we put the input list (called arguments, or args) in the parentheses.\n",
    "\n",
    "def anotherFunction(number):\n",
    "    print(\"You gave me an input of\", number)\n",
    "    \n",
    "# Let's call this amazing new wonderous function.\n",
    "anotherFunction(4)\n",
    "anotherFunction(-12)\n",
    "\n",
    "# Notice that despite the fact that I called the input \"number\"\n",
    "# python will let me pass in other types of data...\n",
    "anotherFunction(\"salamander\")\n",
    "inputList=[\"Dave\", 29, \"CHALLENGING!\", 67.2, \"Spooorts!!1\"]\n",
    "anotherFunction(inputList)\n",
    "\n",
    "# Finally, we sometimes want functions to output data for later use.\n",
    "def incrimentFunction(num):\n",
    "    return num+1\n",
    "\n",
    "# Let's see this function in action!\n",
    "print(\"7 + 1 =\",incrimentFunction(7))"
   ]
  },
  {
   "cell_type": "markdown",
   "metadata": {},
   "source": [
    "The code below features a function that takes a number as input, and returns (not just prints) twice the number. Mimic this code with your own function, called newerFunk so that it returns triple its input."
   ]
  },
  {
   "cell_type": "code",
   "execution_count": 1,
   "metadata": {},
   "outputs": [
    {
     "name": "stdout",
     "output_type": "stream",
     "text": [
      "7 times two is 14\n"
     ]
    }
   ],
   "source": [
    "# Here is a function that doubles its input.\n",
    "def newFunk(n):\n",
    "    return 2*n\n",
    "\n",
    "# Start with the following def command.\n",
    "# Modify it to include an input argument, and return triple its input.\n",
    "def newerFunk():\n",
    "    return\n",
    "\n",
    "# You can have the user input a value here in the future, but for now, we just hard-code it.\n",
    "x = 7\n",
    "\n",
    "# We use the new function inside of the following print command.\n",
    "print(x, 'times two is', newFunk(x))\n",
    "\n",
    "# Now write a print command that uses your newerFunk function.\n",
    "\n"
   ]
  },
  {
   "cell_type": "markdown",
   "metadata": {},
   "source": [
    "Copyright (c) 2020 TRIPODS/GradStemForAll 2020 Team"
   ]
  }
 ],
 "metadata": {
  "kernelspec": {
   "display_name": "Python 3",
   "language": "python",
   "name": "python3"
  },
  "language_info": {
   "codemirror_mode": {
    "name": "ipython",
    "version": 3
   },
   "file_extension": ".py",
   "mimetype": "text/x-python",
   "name": "python",
   "nbconvert_exporter": "python",
   "pygments_lexer": "ipython3",
   "version": "3.7.6"
  }
 },
 "nbformat": 4,
 "nbformat_minor": 4
}
