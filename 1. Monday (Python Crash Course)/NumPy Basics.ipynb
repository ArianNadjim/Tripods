{
 "cells": [
  {
   "cell_type": "markdown",
   "metadata": {},
   "source": [
    "# NumPy Basics\n",
    "\n",
    "Some parts of this tutorial is adapted from [https://numpy.org/doc/stable/user/quickstart.html#quickstart-tutorial]. For more details, please visit the website.\n",
    "\n",
    "NumPy is a Python library that helps us work with n-dimensional arrays (nd arrays). Even though in this program, we may focus primarily on (at most) 2d arrays (a.k.a. matrices), nd arrays show up very frequently in data science. For example, a color picture can be thought of as a 3d array since each pixel requires three numbers (intensities of red, green and blue) to describe its color and there is a 2d array worth of pixels. Similarly, a video could be represented by a 4d array where the fourth dimension would be the time.\n",
    "\n",
    "To use NumPy tools, we first \"import\" it using the following line."
   ]
  },
  {
   "cell_type": "code",
   "execution_count": 1,
   "metadata": {},
   "outputs": [],
   "source": [
    "import numpy as np"
   ]
  },
  {
   "cell_type": "markdown",
   "metadata": {},
   "source": [
    "There are many different ways to instantiate an nd array. Here are a few:\n",
    "  * np.array(yourPythonListHere) converts standard Python lists to nd numpy arrays\n",
    "  * np.zeros(n) returns a 1d array of size n filled with zeros. \n",
    "  * np.eye(n) returns the $n\\times n$ identity matrix.\n",
    "  * np.arange(k) returns a 1d array of integers from 0 to k (excluding k)."
   ]
  },
  {
   "cell_type": "code",
   "execution_count": 2,
   "metadata": {},
   "outputs": [
    {
     "name": "stdout",
     "output_type": "stream",
     "text": [
      "[0 5 1 3 6] \n",
      "\n",
      "[[5 6 1]\n",
      " [2 3 6]] \n",
      "\n",
      "[0. 0. 0. 0. 0.] \n",
      "\n",
      "[[1. 0. 0.]\n",
      " [0. 1. 0.]\n",
      " [0. 0. 1.]] \n",
      "\n",
      "[0 1 2 3 4]\n"
     ]
    }
   ],
   "source": [
    "arr1 = np.array([0,5,1,3,6])\n",
    "print(arr1, '\\n')\n",
    "\n",
    "# '\\n' is a character that represents a new line.\n",
    "# So printing it will leave one space between consecutive print statements.\n",
    "\n",
    "arr2 = np.array([[5,6,1],[2,3,6]])\n",
    "print(arr2, '\\n')\n",
    "\n",
    "arr3 = np.zeros(5)\n",
    "print(arr3, '\\n')\n",
    "\n",
    "arr4 = np.eye(3)\n",
    "print(arr4, '\\n')\n",
    "\n",
    "arr5 = np.arange(5) # there are different variations of this\n",
    "print(arr5)"
   ]
  },
  {
   "cell_type": "markdown",
   "metadata": {},
   "source": [
    "There are variations of these functionalities as well. For example,\n",
    "  * np.zeros((n,m)) will return the $n\\times m$ zero matrix \n",
    "  * np.arange(b, e, d) will return the arithmetic sequence starting at b with common difference of d and ending at e (excluding e)."
   ]
  },
  {
   "cell_type": "code",
   "execution_count": 3,
   "metadata": {},
   "outputs": [
    {
     "name": "stdout",
     "output_type": "stream",
     "text": [
      "[[0. 0. 0. 0. 0.]\n",
      " [0. 0. 0. 0. 0.]]\n"
     ]
    }
   ],
   "source": [
    "arr6 = np.zeros((2,5))\n",
    "print(arr6)"
   ]
  },
  {
   "cell_type": "code",
   "execution_count": 4,
   "metadata": {},
   "outputs": [
    {
     "name": "stdout",
     "output_type": "stream",
     "text": [
      "[13 18 23 28 33 38 43 48]\n"
     ]
    }
   ],
   "source": [
    "arr7 = np.arange(13, 50, 5)\n",
    "print(arr7)"
   ]
  },
  {
   "cell_type": "markdown",
   "metadata": {},
   "source": [
    "Another function that is very helpful is np.linspace.\n",
    "\n",
    "np.linspace(a,b,c) will give you c numbers from the interval [a,b]."
   ]
  },
  {
   "cell_type": "code",
   "execution_count": 5,
   "metadata": {},
   "outputs": [
    {
     "data": {
      "text/plain": [
       "array([103. , 103.2, 103.4, 103.6, 103.8, 104. , 104.2, 104.4, 104.6,\n",
       "       104.8, 105. ])"
      ]
     },
     "execution_count": 5,
     "metadata": {},
     "output_type": "execute_result"
    }
   ],
   "source": [
    "np.linspace(103, 105, 11)"
   ]
  },
  {
   "cell_type": "markdown",
   "metadata": {},
   "source": [
    "#### A couple of common mistakes:\n",
    "\n",
    "We should be careful with how we call the methods mentioned above. A couple of common mistakes are shown below. Admittedly, these are small mistakes but you may end up wasting a lot of time if you don't know where to look. So you should keep these in mind.\n",
    "\n",
    "  * using np.array(1,2,3) instead of np.array([1,2,3])\n",
    "  * using np.zeros(3,4) instead of np.zeros((3,4))"
   ]
  },
  {
   "cell_type": "code",
   "execution_count": 6,
   "metadata": {
    "scrolled": true
   },
   "outputs": [
    {
     "ename": "TypeError",
     "evalue": "array() takes from 1 to 2 positional arguments but 3 were given",
     "output_type": "error",
     "traceback": [
      "\u001b[0;31m---------------------------------------------------------------------------\u001b[0m",
      "\u001b[0;31mTypeError\u001b[0m                                 Traceback (most recent call last)",
      "\u001b[0;32m<ipython-input-6-a4d22456da9e>\u001b[0m in \u001b[0;36m<module>\u001b[0;34m\u001b[0m\n\u001b[0;32m----> 1\u001b[0;31m \u001b[0mnp\u001b[0m\u001b[0;34m.\u001b[0m\u001b[0marray\u001b[0m\u001b[0;34m(\u001b[0m\u001b[0;36m1\u001b[0m\u001b[0;34m,\u001b[0m\u001b[0;36m2\u001b[0m\u001b[0;34m,\u001b[0m\u001b[0;36m3\u001b[0m\u001b[0;34m)\u001b[0m\u001b[0;34m\u001b[0m\u001b[0;34m\u001b[0m\u001b[0m\n\u001b[0m",
      "\u001b[0;31mTypeError\u001b[0m: array() takes from 1 to 2 positional arguments but 3 were given"
     ]
    }
   ],
   "source": [
    "np.array(1,2,3)"
   ]
  },
  {
   "cell_type": "code",
   "execution_count": 7,
   "metadata": {},
   "outputs": [
    {
     "ename": "TypeError",
     "evalue": "Cannot interpret '4' as a data type",
     "output_type": "error",
     "traceback": [
      "\u001b[0;31m---------------------------------------------------------------------------\u001b[0m",
      "\u001b[0;31mTypeError\u001b[0m                                 Traceback (most recent call last)",
      "\u001b[0;32m<ipython-input-7-f4e1d508c148>\u001b[0m in \u001b[0;36m<module>\u001b[0;34m\u001b[0m\n\u001b[0;32m----> 1\u001b[0;31m \u001b[0mnp\u001b[0m\u001b[0;34m.\u001b[0m\u001b[0mzeros\u001b[0m\u001b[0;34m(\u001b[0m\u001b[0;36m3\u001b[0m\u001b[0;34m,\u001b[0m\u001b[0;36m4\u001b[0m\u001b[0;34m)\u001b[0m\u001b[0;34m\u001b[0m\u001b[0;34m\u001b[0m\u001b[0m\n\u001b[0m",
      "\u001b[0;31mTypeError\u001b[0m: Cannot interpret '4' as a data type"
     ]
    }
   ],
   "source": [
    "np.zeros(3,4)"
   ]
  },
  {
   "cell_type": "markdown",
   "metadata": {},
   "source": [
    "Create a $3\\times 10$ matrix of ones in the next cell. Hint: there is a shortcut!"
   ]
  },
  {
   "cell_type": "code",
   "execution_count": 8,
   "metadata": {},
   "outputs": [],
   "source": [
    "# Type your code here and run the cell\n"
   ]
  },
  {
   "cell_type": "markdown",
   "metadata": {},
   "source": [
    "We can check the type of a variable by using the type function. Let's verify that Python lists and NumPy arrays are actually different types."
   ]
  },
  {
   "cell_type": "code",
   "execution_count": 9,
   "metadata": {},
   "outputs": [
    {
     "name": "stdout",
     "output_type": "stream",
     "text": [
      "<class 'list'> <class 'numpy.ndarray'> False\n"
     ]
    }
   ],
   "source": [
    "pyList = [1,2,3]\n",
    "numpyArr = np.array(pyList)\n",
    "\n",
    "print(type(pyList), type(numpyArr), type(pyList) == type(numpyArr))"
   ]
  },
  {
   "cell_type": "markdown",
   "metadata": {},
   "source": [
    "Unlike Python lists, NumPy arrays have uniform datatypes."
   ]
  },
  {
   "cell_type": "code",
   "execution_count": 10,
   "metadata": {},
   "outputs": [
    {
     "name": "stdout",
     "output_type": "stream",
     "text": [
      "['1' 'True' 'a' '10.9']\n",
      "[<class 'numpy.str_'>, <class 'numpy.str_'>, <class 'numpy.str_'>, <class 'numpy.str_'>]\n"
     ]
    }
   ],
   "source": [
    "arr = np.array([1, True, 'a', 10.9])\n",
    "print(arr)\n",
    "print([type(x) for x in arr])"
   ]
  },
  {
   "cell_type": "markdown",
   "metadata": {},
   "source": [
    "As we can see, all the entries are of the same type: a NumPy string.\n",
    "\n",
    "We check the number of axes (dimensions) of a NumPy array using the attribute .ndim.\n",
    "\n",
    "The attribute .shape gives us the dimensions of the array. That is, a tuple of integers indicating the size of the array in each dimension. E.g. if you call this function on an $n\\times m$ matrix, it returns $(n,m)$.\n",
    "\n",
    "Finally, .size returns the number of elements in the array. In other words the product of the numbers of .shape."
   ]
  },
  {
   "cell_type": "code",
   "execution_count": 11,
   "metadata": {},
   "outputs": [
    {
     "name": "stdout",
     "output_type": "stream",
     "text": [
      "[ 0  1  2  3  4  5  6  7  8  9 10 11 12 13 14]\n",
      "1\n",
      "(15,)\n",
      "15 \n",
      "\n",
      "[[0. 0. 0. 0. 0.]\n",
      " [0. 0. 0. 0. 0.]]\n",
      "2\n",
      "(2, 5)\n",
      "10\n"
     ]
    }
   ],
   "source": [
    "arr = np.arange(15)\n",
    "print(arr)\n",
    "print(arr.ndim)\n",
    "print(arr.shape)\n",
    "print(arr.size, '\\n')\n",
    "\n",
    "arr = np.zeros((2, 5))\n",
    "print(arr)\n",
    "print(arr.ndim)\n",
    "print(arr.shape)\n",
    "print(arr.size)"
   ]
  },
  {
   "cell_type": "markdown",
   "metadata": {},
   "source": [
    "Once we have an array of a certain shape, we can reshape it using .reshape.\n",
    "\n",
    "Let's create a 3d array."
   ]
  },
  {
   "cell_type": "code",
   "execution_count": 12,
   "metadata": {},
   "outputs": [
    {
     "name": "stdout",
     "output_type": "stream",
     "text": [
      "[[[ 0  1]\n",
      "  [ 2  3]]\n",
      "\n",
      " [[ 4  5]\n",
      "  [ 6  7]]\n",
      "\n",
      " [[ 8  9]\n",
      "  [10 11]]]\n"
     ]
    },
    {
     "data": {
      "text/plain": [
       "array([[[ 0,  1],\n",
       "        [ 2,  3]],\n",
       "\n",
       "       [[ 4,  5],\n",
       "        [ 6,  7]],\n",
       "\n",
       "       [[ 8,  9],\n",
       "        [10, 11]]])"
      ]
     },
     "execution_count": 12,
     "metadata": {},
     "output_type": "execute_result"
    }
   ],
   "source": [
    "arr1d = np.arange(12)\n",
    "arr3d = arr1d.reshape((3,2,2))\n",
    "print(arr3d)\n",
    "\n",
    "# more concisely, we could write\n",
    "np.arange(12).reshape((3,2,2))"
   ]
  },
  {
   "cell_type": "markdown",
   "metadata": {},
   "source": [
    "Let's access various elements/slices of arr3d."
   ]
  },
  {
   "cell_type": "code",
   "execution_count": 13,
   "metadata": {},
   "outputs": [
    {
     "name": "stdout",
     "output_type": "stream",
     "text": [
      "The element at index 1,0,1: \n",
      " 5\n",
      "The matrix at index 1: \n",
      " [[4 5]\n",
      " [6 7]]\n",
      "The first column of the second matrix: \n",
      " [4 6]\n",
      "The first columns of the first and second matrices: \n",
      " [[0 2]\n",
      " [4 6]]\n"
     ]
    }
   ],
   "source": [
    "print('The element at index 1,0,1: \\n', arr3d[1,0,1])\n",
    "\n",
    "print('The matrix at index 1: \\n', arr3d[1])\n",
    "\n",
    "print('The first column of the second matrix: \\n', arr3d[1,:,0])\n",
    "print('The first columns of the first and second matrices: \\n', arr3d[:2,:,0])"
   ]
  },
  {
   "cell_type": "markdown",
   "metadata": {},
   "source": [
    "Now, you write the code to access the elements 1 and 10 in arr3d."
   ]
  },
  {
   "cell_type": "code",
   "execution_count": 14,
   "metadata": {},
   "outputs": [],
   "source": [
    "# Type your code here and run the cell\n"
   ]
  },
  {
   "cell_type": "markdown",
   "metadata": {},
   "source": [
    "What about the second rows of the last two matrices?"
   ]
  },
  {
   "cell_type": "code",
   "execution_count": 15,
   "metadata": {},
   "outputs": [],
   "source": [
    "# Type your code here and run the cell\n"
   ]
  },
  {
   "cell_type": "markdown",
   "metadata": {},
   "source": [
    "What about the elements in the second row and second column of all matrices?"
   ]
  },
  {
   "cell_type": "code",
   "execution_count": 16,
   "metadata": {},
   "outputs": [],
   "source": [
    "# Type your code here and run the cell\n"
   ]
  },
  {
   "cell_type": "markdown",
   "metadata": {},
   "source": [
    "We have to be careful with the .reshape method. The order of the elements depends on the internals of the nd array class and I will leave it to you to explore how it rearranges everything exactly."
   ]
  },
  {
   "cell_type": "code",
   "execution_count": 17,
   "metadata": {},
   "outputs": [
    {
     "name": "stdout",
     "output_type": "stream",
     "text": [
      "[[0 1 2 3]\n",
      " [4 5 6 7]]\n"
     ]
    }
   ],
   "source": [
    "matrix = np.arange(8).reshape((2,4))\n",
    "print(matrix)"
   ]
  },
  {
   "cell_type": "markdown",
   "metadata": {},
   "source": [
    "In the next cell, reshape the matrix variable (which is a $2\\times 4$ matrix) to a $4\\times 2$ matrix.\n",
    "\n",
    "**Before** you run the code, predict what the first row will be."
   ]
  },
  {
   "cell_type": "code",
   "execution_count": 18,
   "metadata": {},
   "outputs": [],
   "source": [
    "# Type your code here and run the cell\n"
   ]
  },
  {
   "cell_type": "markdown",
   "metadata": {},
   "source": [
    "Even if you are working with low dimensional arrays, using NumPy is beneficial. First, it provides you with many functionalities so you don't have to implement things from scratch (for example, matrix multiplication, standard deviation, etc.) Second, the implementations typically utilize parallel programming meaning they run as fast as possible on your computer.\n",
    "\n",
    "Next, we will illustrate some of these remarks. Let's start by creating a random array of size 100000 where each entry is an integer between 0 and 500 (excluding 500). These integers are sampled from a uniform distribution.\n",
    "\n",
    "Note that when we try to print it, it will only print the first few and the last few entries."
   ]
  },
  {
   "cell_type": "code",
   "execution_count": 19,
   "metadata": {},
   "outputs": [
    {
     "name": "stdout",
     "output_type": "stream",
     "text": [
      "[225 361 149 ...  56 286 436]\n",
      "The sum of all the entries is:  24966713\n",
      "The mean is:  249.66713\n",
      "The standard deviation is:  144.4649522464293\n",
      "The variance is:  20870.1224275631\n"
     ]
    }
   ],
   "source": [
    "myArray = np.random.randint(0, 500, 100000)\n",
    "print(myArray)\n",
    "print(\"The sum of all the entries is: \", myArray.sum())\n",
    "print(\"The mean is: \", myArray.mean())\n",
    "print(\"The standard deviation is: \", myArray.std())\n",
    "print(\"The variance is: \", myArray.var())"
   ]
  },
  {
   "cell_type": "markdown",
   "metadata": {},
   "source": [
    "In the above cell, we calculated the sum using myArray.sum(). We can also use np.sum(myArray).\n",
    "\n",
    "In the next cell, we check the efficiency of NumPy's built-in sum function vs using a for loop."
   ]
  },
  {
   "cell_type": "code",
   "execution_count": 20,
   "metadata": {},
   "outputs": [
    {
     "name": "stdout",
     "output_type": "stream",
     "text": [
      "The total is 24966713 and it is computed (with np.sum) in  0.0005953311920166016 seconds.\n"
     ]
    }
   ],
   "source": [
    "import time\n",
    "\n",
    "tic = time.time()\n",
    "\n",
    "total = np.sum(myArray)\n",
    "\n",
    "toc = time.time()\n",
    "\n",
    "timeDiffNumPy = toc-tic\n",
    "\n",
    "print('The total is', total, 'and it is computed (with np.sum) in ', timeDiffNumPy, 'seconds.')"
   ]
  },
  {
   "cell_type": "code",
   "execution_count": 21,
   "metadata": {},
   "outputs": [
    {
     "name": "stdout",
     "output_type": "stream",
     "text": [
      "The total is 24966713 and it is computed (with a for loop) in  0.027249813079833984 seconds.\n"
     ]
    }
   ],
   "source": [
    "tic = time.time()\n",
    "\n",
    "total = 0\n",
    "for i in myArray:\n",
    "    total += i\n",
    "    \n",
    "toc = time.time()\n",
    "\n",
    "timeDiffForLoop = toc-tic\n",
    "\n",
    "print('The total is', total, 'and it is computed (with a for loop) in ', timeDiffForLoop, 'seconds.')"
   ]
  },
  {
   "cell_type": "code",
   "execution_count": 22,
   "metadata": {},
   "outputs": [
    {
     "name": "stdout",
     "output_type": "stream",
     "text": [
      "Numpy is 45.77252703243893 times faster.\n"
     ]
    }
   ],
   "source": [
    "print('Numpy is', timeDiffForLoop/timeDiffNumPy, 'times faster.')"
   ]
  },
  {
   "cell_type": "markdown",
   "metadata": {},
   "source": [
    "Let's create a $2\\times 5$ matrix with entries sampled from the normal distribution."
   ]
  },
  {
   "cell_type": "code",
   "execution_count": 23,
   "metadata": {},
   "outputs": [
    {
     "name": "stdout",
     "output_type": "stream",
     "text": [
      "[[-0.07182275  0.10693801 -0.3978587   0.23020686 -1.40916058]\n",
      " [-0.22595713 -0.77812537 -0.98140863  0.59323242  0.36802528]]\n"
     ]
    }
   ],
   "source": [
    "matrix = np.random.randn(2,5)\n",
    "print(matrix)"
   ]
  },
  {
   "cell_type": "markdown",
   "metadata": {},
   "source": [
    "We can get the sum of rows, columns or all the elements using axes"
   ]
  },
  {
   "cell_type": "code",
   "execution_count": 24,
   "metadata": {},
   "outputs": [
    {
     "name": "stdout",
     "output_type": "stream",
     "text": [
      "The sums of columns: [-0.29777988 -0.67118736 -1.37926733  0.82343928 -1.0411353 ]\n",
      "The sums of rows: [-1.54169716 -1.02423343]\n",
      "The sum of all elements: -2.5659305956356704\n"
     ]
    }
   ],
   "source": [
    "print('The sums of columns:', matrix.sum(axis=0))\n",
    "print('The sums of rows:', matrix.sum(axis=1))\n",
    "print('The sum of all elements:', matrix.sum())"
   ]
  },
  {
   "cell_type": "markdown",
   "metadata": {},
   "source": [
    "### Arithmetic with Arrays and Broadcasting\n",
    "\n",
    "In NumPy, you may add, subtract, multiply and divide arrays of the same shape elementwise. In fact, you may even use these operations for arrays of different dimensions (as long as they satisfy some conditions). In this case, before an operation is applied, the elements of the smaller array are repeated according to some rules (called Broadcasting rules) to match the shapes of the two arrays. For simplicity, we will only focus on 1d arrays and 0d arrays (a.k.a. numbers)."
   ]
  },
  {
   "cell_type": "code",
   "execution_count": 25,
   "metadata": {},
   "outputs": [
    {
     "name": "stdout",
     "output_type": "stream",
     "text": [
      "arr:         [9 8 0 4 8]\n",
      "arr2:        [1 2 3 4 5]\n",
      "arr + arr2:  [10 10  3  8 13]\n",
      "arr - arr2:  [ 8  6 -3  0  3]\n",
      "arr * arr2:  [ 9 16  0 16 40]\n",
      "arr / arr2:  [9.  4.  0.  1.  1.6]\n"
     ]
    }
   ],
   "source": [
    "arr = np.random.randint(0,10,5)\n",
    "arr2 = np.arange(1,6)\n",
    "\n",
    "print('arr:        ', arr)\n",
    "print('arr2:       ', arr2)\n",
    "print('arr + arr2: ', arr+arr2)\n",
    "print('arr - arr2: ', arr-arr2)\n",
    "print('arr * arr2: ', arr*arr2)\n",
    "print('arr / arr2: ', arr/arr2)"
   ]
  },
  {
   "cell_type": "code",
   "execution_count": 26,
   "metadata": {},
   "outputs": [
    {
     "name": "stdout",
     "output_type": "stream",
     "text": [
      "This is arr + 10: [19 18 10 14 18]\n",
      "This is arr * 2: [18 16  0  8 16]\n",
      "This is arr / 2: [4.5 4.  0.  2.  4. ]\n"
     ]
    }
   ],
   "source": [
    "print('This is arr + 10:', arr+10)\n",
    "print('This is arr * 2:', arr*2)\n",
    "print('This is arr / 2:', arr/2)"
   ]
  },
  {
   "cell_type": "markdown",
   "metadata": {},
   "source": [
    "We can also apply other functions to an array elementwise."
   ]
  },
  {
   "cell_type": "code",
   "execution_count": 27,
   "metadata": {},
   "outputs": [
    {
     "name": "stdout",
     "output_type": "stream",
     "text": [
      "arr: [-2 -1  0  1  2]\n",
      "exp(arr): [0.13533528 0.36787944 1.         2.71828183 7.3890561 ]\n"
     ]
    }
   ],
   "source": [
    "arr = np.arange(-2,3)\n",
    "print('arr:', arr)\n",
    "print('exp(arr):', np.exp(arr))"
   ]
  },
  {
   "cell_type": "markdown",
   "metadata": {},
   "source": [
    "### Linear algebra\n",
    "\n",
    "Next, we illustrate a few linear algebraic functionalities."
   ]
  },
  {
   "cell_type": "code",
   "execution_count": 28,
   "metadata": {},
   "outputs": [
    {
     "name": "stdout",
     "output_type": "stream",
     "text": [
      "A: \n",
      " [[1 2]\n",
      " [3 4]]\n",
      "B: \n",
      " [[10]\n",
      " [ 0]]\n",
      "A transpose is:\n",
      " [[1 3]\n",
      " [2 4]]\n",
      "The trace of A is:  5\n"
     ]
    }
   ],
   "source": [
    "A = np.array([[1,2], [3,4]])\n",
    "B = np.array([[10],[0]])\n",
    "print('A: \\n', A)\n",
    "print('B: \\n', B)\n",
    "print('A transpose is:\\n', A.transpose())\n",
    "print('The trace of A is: ', np.trace(A))"
   ]
  },
  {
   "cell_type": "markdown",
   "metadata": {},
   "source": [
    "What is the result of A*B?"
   ]
  },
  {
   "cell_type": "code",
   "execution_count": 29,
   "metadata": {},
   "outputs": [],
   "source": [
    "# uncomment the next line and run the cell\n",
    "# print('A*B: \\n', A*B)"
   ]
  },
  {
   "cell_type": "markdown",
   "metadata": {},
   "source": [
    "To compute the matrix product, we use A.dot(B)."
   ]
  },
  {
   "cell_type": "code",
   "execution_count": 30,
   "metadata": {},
   "outputs": [
    {
     "name": "stdout",
     "output_type": "stream",
     "text": [
      "A.dot(B): \n",
      " [[10]\n",
      " [30]]\n"
     ]
    }
   ],
   "source": [
    "print('A.dot(B): \\n', A.dot(B))"
   ]
  },
  {
   "cell_type": "code",
   "execution_count": 31,
   "metadata": {},
   "outputs": [
    {
     "name": "stdout",
     "output_type": "stream",
     "text": [
      "det(A): -2.0000000000000004\n"
     ]
    }
   ],
   "source": [
    "print('det(A):', np.linalg.det(A))"
   ]
  },
  {
   "cell_type": "code",
   "execution_count": 32,
   "metadata": {},
   "outputs": [
    {
     "name": "stdout",
     "output_type": "stream",
     "text": [
      "The (pseudo) inverse of A:\n",
      " [[-2.   1. ]\n",
      " [ 1.5 -0.5]]\n"
     ]
    }
   ],
   "source": [
    "print('The (pseudo) inverse of A:\\n', np.linalg.pinv(A))"
   ]
  },
  {
   "cell_type": "markdown",
   "metadata": {},
   "source": [
    "### Plotting\n",
    "\n",
    "Next, we use matplotlib to do some plotting. The following examples are there just to get you started and by no means illustrate the full power of the matplotlib library."
   ]
  },
  {
   "cell_type": "code",
   "execution_count": 33,
   "metadata": {},
   "outputs": [
    {
     "data": {
      "text/plain": [
       "[<matplotlib.lines.Line2D at 0x7fbeeccf01f0>]"
      ]
     },
     "execution_count": 33,
     "metadata": {},
     "output_type": "execute_result"
    },
    {
     "data": {
      "image/png": "[encoded data removed]",
      "text/plain": [
       "<Figure size 432x288 with 1 Axes>"
      ]
     },
     "metadata": {
      "needs_background": "light"
     },
     "output_type": "display_data"
    }
   ],
   "source": [
    "from matplotlib import pyplot as plt\n",
    "\n",
    "xs = np.linspace(0,2*np.pi, 100)\n",
    "ys = np.sin(xs)\n",
    "\n",
    "# What are xs and ys?\n",
    "\n",
    "plt.plot(xs, ys)"
   ]
  },
  {
   "cell_type": "markdown",
   "metadata": {},
   "source": [
    "Now, we will draw a picture using a 3d array."
   ]
  },
  {
   "cell_type": "code",
   "execution_count": 34,
   "metadata": {},
   "outputs": [
    {
     "data": {
      "image/png": "[encoded data removed]",
      "text/plain": [
       "<Figure size 432x288 with 1 Axes>"
      ]
     },
     "metadata": {
      "needs_background": "light"
     },
     "output_type": "display_data"
    }
   ],
   "source": [
    "numPixels = 100\n",
    "\n",
    "def RGB(i,j):\n",
    "    i = 2*np.pi*i/numPixels\n",
    "    j = 2*np.pi*j/numPixels\n",
    "    R = np.cos(i)*0.5 + 0.5\n",
    "    G = np.sin(j)*0.5 + 0.5\n",
    "    B = np.sin((i+2*j)/2)*0.5 + 0.5\n",
    "    return [R,G,B]\n",
    "\n",
    "pixelData = np.array([[RGB(i,j) for j in range(numPixels)] for i in range(numPixels)])\n",
    "\n",
    "plt.imshow(pixelData, interpolation='nearest')\n",
    "plt.show()"
   ]
  },
  {
   "cell_type": "markdown",
   "metadata": {},
   "source": [
    "Now, create your own pictures by writing your own RGB function!"
   ]
  },
  {
   "cell_type": "code",
   "execution_count": 35,
   "metadata": {},
   "outputs": [],
   "source": [
    "# Type your code here and run the cell\n"
   ]
  },
  {
   "cell_type": "markdown",
   "metadata": {},
   "source": [
    "Of course, there are so many other things that NumPy can do. I encourage you to explore this library more in depth on your own."
   ]
  },
  {
   "cell_type": "markdown",
   "metadata": {},
   "source": [
    "Copyright (c) 2020 TRIPODS/GradStemForAll 2020 Team"
   ]
  }
 ],
 "metadata": {
  "kernelspec": {
   "display_name": "Python 3",
   "language": "python",
   "name": "python3"
  },
  "language_info": {
   "codemirror_mode": {
    "name": "ipython",
    "version": 3
   },
   "file_extension": ".py",
   "mimetype": "text/x-python",
   "name": "python",
   "nbconvert_exporter": "python",
   "pygments_lexer": "ipython3",
   "version": "3.8.4"
  }
 },
 "nbformat": 4,
 "nbformat_minor": 4
}
