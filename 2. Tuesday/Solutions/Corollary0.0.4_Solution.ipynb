{
 "cells": [
  {
   "cell_type": "markdown",
   "metadata": {},
   "source": [
    "# Corollary 0.0.4 in $\\mathbb R^2$\n",
    "In this worksheet we will run through the proof of Corollary 0.0.4 from Vershynin. We will \"pythonize\" the proof step-by-step in the case of a polytope in $\\mathbb R^2$ and visualize it. Please fill in the code wherever indicated. Here is the corollary (slightly generalized) for reference:\n",
    "\n",
    "**Corollary 0.0.4 (Generalized)**: Let $P$ be a polytope in $\\mathbb R^n$ with $N$ vertices. Then $P$ can be covered by at most $N^{\\lceil (\\text{diam}(T)/\\epsilon)^2 \\rceil}$ Euclidean balls of radii $\\epsilon > 0$."
   ]
  },
  {
   "cell_type": "code",
   "execution_count": 3,
   "metadata": {},
   "outputs": [],
   "source": [
    "# Some useful imports:\n",
    "import numpy as np\n",
    "import matplotlib.pyplot as plt\n",
    "import itertools as it\n",
    "import math"
   ]
  },
  {
   "cell_type": "markdown",
   "metadata": {},
   "source": [
    "## The Proof of Corollary 0.0.4 in $\\mathbb R^2$"
   ]
  },
  {
   "cell_type": "markdown",
   "metadata": {},
   "source": [
    "Fix $\\epsilon > 0$ and a polytope $P$ in $\\mathbb R^n$ (in our case $n = 2$). Denote by $T$ the set of vertices of $P$."
   ]
  },
  {
   "cell_type": "code",
   "execution_count": 4,
   "metadata": {},
   "outputs": [],
   "source": [
    "# Set epsilon to your favorite positive number\n",
    "epsilon = 1.0\n",
    "\n",
    "# Represent a polytope P of your choice in R2 by listing its points clockwise\n",
    "# Represent the points as numpy arrays of length 2\n",
    "P =  [] # TODO: Write this!\n",
    "\n",
    "# Set N to the number of vertices of P (don't hard-code it in if you want to be able to change P easily later)\n",
    "N = -1 # TODO: Write this!"
   ]
  },
  {
   "cell_type": "markdown",
   "metadata": {},
   "source": [
    "Let us define the centers of the balls as follows. \\\n",
    "Let $k := \\lceil (\\text{diam}(T)/\\epsilon)^2 \\rceil$. Recall that the $\\text{diam}(T) = \\sup_{x, y \\in T} \\lvert x - y \\rvert$."
   ]
  },
  {
   "cell_type": "code",
   "execution_count": 5,
   "metadata": {},
   "outputs": [],
   "source": [
    "# Compute diam(T)\n",
    "# TODO: Write this!\n",
    "diamT = 0\n",
    "\n",
    "# Compute k\n",
    "k = 0  # TODO: Write this!"
   ]
  },
  {
   "cell_type": "markdown",
   "metadata": {},
   "source": [
    "Consider the set\n",
    "\\begin{equation}\n",
    "\\mathcal N := \\left\\{ \\frac{1}{k} \\sum_{j=1}^k x_j : x_j \\text{ are vertices of } P \\right\\}\n",
    "\\end{equation}"
   ]
  },
  {
   "cell_type": "code",
   "execution_count": 8,
   "metadata": {},
   "outputs": [],
   "source": [
    "# Construct \\mathcal N\n",
    "calN = []\n",
    "\n",
    "# This gives an iterator over all combinations\n",
    "# of k elements of P with replacement.\n",
    "combinations = it.combinations_with_replacement(P, k)\n",
    "\n",
    "# Compute the vector average and append it to calN\n",
    "for comb in combinations:\n",
    "    # TODO: Write this!\n",
    "    vec_avg = np.array([0,0])\n",
    "    \n",
    "    calN.append(vec_avg)"
   ]
  },
  {
   "cell_type": "markdown",
   "metadata": {},
   "source": [
    "We claim that the family of $\\epsilon$-balls centered at $\\mathcal N$ satisfy the conclusion of the corollary. To check this, note that the polytope $P$ is the convex hull of the set of its vertices. Thus we apply Theorem 0.0.2 to any point $x \\in P = \\text{conv}(T)$ and deduce that $x$ is within distance $\\text{diam(T)} / \\sqrt k \\leq \\epsilon$ from some point in $\\mathcal N$. This shows that the $\\epsilon$-balls centered at $\\mathcal N$ indeed cover $P$."
   ]
  },
  {
   "cell_type": "code",
   "execution_count": 9,
   "metadata": {},
   "outputs": [
    {
     "data": {
      "image/png": "[encoded data removed]",
      "text/plain": [
       "<Figure size 720x720 with 1 Axes>"
      ]
     },
     "metadata": {
      "needs_background": "light"
     },
     "output_type": "display_data"
    }
   ],
   "source": [
    "# We visualize the covering here\n",
    "# Feel free to play around with the visualization!\n",
    "scale = 10\n",
    "figure, axes = plt.subplots(figsize=(scale, scale))\n",
    "axes.axis('equal')\n",
    "axes.set_xlim([-1, 1.5])\n",
    "axes.set_ylim([-1,1.5])\n",
    "plt.fill([p[0] for p in P], [p[1] for p in P], 'y', fill = True)\n",
    "plt.plot([p[0] for p in calN], [p[1] for p in calN], 'or')\n",
    "for p in calN:\n",
    "    axes.add_artist(plt.Circle((p[0], p[1]), epsilon, fill = False))"
   ]
  },
  {
   "cell_type": "markdown",
   "metadata": {},
   "source": [
    "We can bound the cardinality of $\\mathcal N$ by noting that there are $N^k$ ways to choose $k$ out of $N$ vertices with repetition. Thus $|\\mathcal N| \\leq N^k = N^{\\lceil (\\text{diam}(T)/\\epsilon)^2 \\rceil}$. In fact we can be more clever by noticing that the order in which we choose the elements does not matter (this is addressed in exercise 0.0.6)."
   ]
  },
  {
   "cell_type": "markdown",
   "metadata": {},
   "source": [
    "## Further Questions\n",
    "At least in $\\mathbb R^2$, Corollary 0.0.4 is rather wasteful. How can we come up with a more efficient covering of a polytope?\n",
    "Is there a way to cleverly construct a subset of $\\mathcal N$ that gets the job done?"
   ]
  },
  {
   "cell_type": "markdown",
   "metadata": {},
   "source": [
    "Copyright (c) 2020 TRIPODS/GradStemForAll 2020 Team"
   ]
  }
 ],
 "metadata": {
  "kernelspec": {
   "display_name": "Python 3",
   "language": "python",
   "name": "python3"
  },
  "language_info": {
   "codemirror_mode": {
    "name": "ipython",
    "version": 3
   },
   "file_extension": ".py",
   "mimetype": "text/x-python",
   "name": "python",
   "nbconvert_exporter": "python",
   "pygments_lexer": "ipython3",
   "version": "3.7.6"
  }
 },
 "nbformat": 4,
 "nbformat_minor": 4
}
