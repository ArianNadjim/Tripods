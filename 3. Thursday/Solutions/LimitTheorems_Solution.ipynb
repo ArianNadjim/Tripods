{
 "cells": [
  {
   "cell_type": "code",
   "execution_count": 65,
   "metadata": {
    "collapsed": true
   },
   "outputs": [],
   "source": [
    "import numpy as np\n",
    "import scipy.stats as stats\n",
    "from matplotlib import pyplot as plt\n",
    "import seaborn as sns"
   ]
  },
  {
   "cell_type": "markdown",
   "metadata": {},
   "source": [
    "#### 1. Graphic Illustration of some limit theorems, including   \n",
    "1) the law of large numbers;   \n",
    "2) the central limit theorem (VB, Theorem 1.3.2)   \n",
    "and more."
   ]
  },
  {
   "cell_type": "markdown",
   "metadata": {},
   "source": [
    "Define a function that studies the asymptotic behavior of $X_1+...X_N$, where $X_1,...X_N$ are i.i.d random variables withh mean $0$.  In particular, we would like to visualize the behavior of $\\frac{X_1+...X_N}{N^{\\alpha}}$ for some $\\alpha>0$. "
   ]
  },
  {
   "cell_type": "code",
   "execution_count": 70,
   "metadata": {
    "collapsed": true
   },
   "outputs": [],
   "source": [
    "# Define a function:\n",
    "# Input: 1) a set of sample S with dimension n times m. n represents the number of samples and m represent the size of each sample;\n",
    "#        2) the parameter alpha.\n",
    "# Output: a histogram of realizations of (X_1+...+X_N)/N^alpha\n",
    "\n",
    "def CLT(alpha, S):  \n",
    "    # plot the distribution with regard to alpha using sns.distplot()\n",
    "    sns.distplot(np.sum(S, axis = 1) / (S.shape[1] ** alpha))"
   ]
  },
  {
   "cell_type": "markdown",
   "metadata": {},
   "source": [
    "Now test your function with $\\alpha = 1 $ and $\\alpha = \\frac{1}{2}$ and  \n",
    "1) $X_i$ has standard normal distribution;  \n",
    "2) $X_i$ has symmetric Bernoulli distribution;  \n",
    "3) any other distribution of your preference for $X_i$."
   ]
  },
  {
   "cell_type": "code",
   "execution_count": 71,
   "metadata": {},
   "outputs": [
    {
     "data": {
      "image/png": "[encoded data removed]",
      "text/plain": [
       "<matplotlib.figure.Figure at 0x1a0948c828>"
      ]
     },
     "metadata": {},
     "output_type": "display_data"
    }
   ],
   "source": [
    "S = np.random.normal(0,1,size = (1000000,10))\n",
    "plt.show(CLT(0.5,S))"
   ]
  },
  {
   "cell_type": "markdown",
   "metadata": {},
   "source": [
    "#### 2. Graphic Illustration of the convergence rate in the central limit theorem (VB, Theorem 2.1.3 Berry-Esseen central limit theorem)"
   ]
  },
  {
   "cell_type": "markdown",
   "metadata": {},
   "source": [
    "Define a function to verify the quantitative central limit theorem by computing and comparing (graphically) the left hand side and right hand side of the theorem. In particular, we wouod like to analyze:\n",
    "$P(\\frac{X_1 + ... + X_N - N \\mu}{\\sigma \\sqrt{N}} > t) -  P(g >t)$, where $g \\sim N(0,1)$. We recall that the probability of a random variable to take values in a range can be approximated by the frequencies of observations occurring in this range.  \n",
    "For simplicity, we would sutdy the case when the random variables $X_i$ are independent Possion(2). "
   ]
  },
  {
   "cell_type": "code",
   "execution_count": 68,
   "metadata": {
    "collapsed": true
   },
   "outputs": [],
   "source": [
    "# Define a function that computes for different N, the difference between \n",
    "# Input: t a positive number;\n",
    "# Output: a graph showing the difference on the left hand side and the bound on the right hand side of Theorem 2.1.3. \n",
    "def CLT_diff(t):\n",
    "    LHS_list = []\n",
    "    RHS_list = []\n",
    "    sigma = np.sqrt(2)\n",
    "    rho = np.mean(np.abs((np.random.poisson(lam = 2, size = 10000) - 2) ** 3)) / sigma ** 3   # generate the constant appearing on the right hand side\n",
    "    LHSP = 1 - norm.cdf(t)   # compute the tail probability appearing on the right hand side\n",
    "    # vary N from 2 to 50000 with step size 100, for each N and the given t, draw samples from possion(2) and approximate the probablity of interest on the left hand side: \n",
    "    for N in range(2, 5000, 100):\n",
    "        Zn = (np.mean(np.random.poisson(lam = 2, size = (1000, N)), axis = 1) - 2) / sigma * np.sqrt(N)\n",
    "        RHSP = np.sum(Zn >= t) / len(Zn)\n",
    "        RHS = rho / np.sqrt(N)\n",
    "        LHS_list.append(np.abs(LHSP - RHSP))\n",
    "        RHS_list.append(RHS)\n",
    "    # After we get the result for each N, we plot the result\n",
    "    plt.plot(range(2, 5000, 100), LHS_list, label = \"LHS\")\n",
    "    plt.plot(range(2, 5000, 100), RHS_list, label = \"RHS\")\n",
    "    plt.xlabel(\"N\")\n",
    "    plt.legend()\n"
   ]
  },
  {
   "cell_type": "code",
   "execution_count": 69,
   "metadata": {},
   "outputs": [
    {
     "data": {
      "image/png": "[encoded data removed]",
      "text/plain": [
       "<matplotlib.figure.Figure at 0x1a1ac1d860>"
      ]
     },
     "metadata": {},
     "output_type": "display_data"
    }
   ],
   "source": [
    "plt.show(CLT_diff(2))"
   ]
  },
  {
   "cell_type": "code",
   "execution_count": null,
   "metadata": {
    "collapsed": true
   },
   "outputs": [],
   "source": []
  }
 ],
 "metadata": {
  "kernelspec": {
   "display_name": "Python 3",
   "language": "python",
   "name": "python3"
  },
  "language_info": {
   "codemirror_mode": {
    "name": "ipython",
    "version": 3
   },
   "file_extension": ".py",
   "mimetype": "text/x-python",
   "name": "python",
   "nbconvert_exporter": "python",
   "pygments_lexer": "ipython3",
   "version": "3.6.3"
  }
 },
 "nbformat": 4,
 "nbformat_minor": 2
}
