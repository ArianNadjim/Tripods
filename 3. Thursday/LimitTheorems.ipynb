{
 "cells": [
  {
   "cell_type": "code",
   "execution_count": 4,
   "metadata": {
    "collapsed": true
   },
   "outputs": [],
   "source": [
    "import numpy as np\n",
    "import scipy.stats as stats\n",
    "from ipywidgets import interact\n",
    "from matplotlib import pyplot as plt\n",
    "import seaborn as sns"
   ]
  },
  {
   "cell_type": "markdown",
   "metadata": {},
   "source": [
    "#### 1. Graphic Illustration of some limit theorems, including   \n",
    "1) the law of large numbers;   \n",
    "2) the central limit theorem (VB, Theorem 1.3.2)   \n",
    "and more."
   ]
  },
  {
   "cell_type": "markdown",
   "metadata": {},
   "source": [
    "Define a function that studies the asymptotic behavior of $X_1+...X_N$, where $X_1,...X_N$ are i.i.d random variables withh mean $0$.  In particular, we would like to visualize the behavior of $\\frac{X_1+...X_N}{N^{\\alpha}}$ for some $\\alpha>0$. "
   ]
  },
  {
   "cell_type": "code",
   "execution_count": null,
   "metadata": {},
   "outputs": [],
   "source": [
    "# Define a function:\n",
    "# Input: 1) a set of sample S with dimension n times m. n represents the number of samples and m represent the size of each sample;\n",
    "#        2) the parameter alpha.\n",
    "# Output: a histogram of realizations of (X_1+...+X_N)/N^alpha\n",
    "\n",
    "def CLT(alpha, X):  \n",
    "    # sum all the number in each sample:\n",
    "    # Your codes go in here\n",
    "    \n",
    "    # divide by sample size to the power of alpha, (be careful on whether to divide by m or n):\n",
    "    # Your codes go in here\n",
    "    \n",
    "    # plot the distribution with regard to alpha using sns.distplot(). If you are unfamiliar with the function, google the API for sns:\n",
    "    # Your codes go in here\n"
   ]
  },
  {
   "cell_type": "markdown",
   "metadata": {},
   "source": [
    "Now test your function with $\\alpha = 1 $ and $\\alpha = \\frac{1}{2}$ and  \n",
    "1) $X_i$ has standard normal distribution;  \n",
    "2) $X_i$ has symmetric Bernoulli distribution;  \n",
    "3) any other distribution of your preference for $X_i$."
   ]
  },
  {
   "cell_type": "code",
   "execution_count": 6,
   "metadata": {},
   "outputs": [],
   "source": [
    "# Your code goes here"
   ]
  },
  {
   "cell_type": "markdown",
   "metadata": {},
   "source": [
    "#### 2. Graphic Illustration of the convergence rate in the central limit theorem (VB, Theorem 2.1.3 Berry-Esseen central limit theorem)"
   ]
  },
  {
   "cell_type": "markdown",
   "metadata": {},
   "source": [
    "Define a function to verify the quantitative central limit theorem by computing and comparing (graphically) the left hand side and right hand side of the theorem. In particular, we wouod like to analyze:\n",
    "$P(\\frac{X_1 + ... + X_N - N \\mu}{\\sigma \\sqrt{N}} > t) -  P(g >t)$, where $g \\sim N(0,1)$. We recall that the probability of a random variable to take values in a range can be approximated by the frequencies of observations occurring in this range.  \n",
    "For simplicity, we would sutdy the case when the random variables $X_i$ are independent Possion(2). "
   ]
  },
  {
   "cell_type": "code",
   "execution_count": 9,
   "metadata": {},
   "outputs": [],
   "source": [
    "# Define a function that computes for different N, the difference between \n",
    "# Input: t a positive number;\n",
    "# Output: a graph showing the difference on the left hand side and the bound on the right hand side of Theorem 2.1.3. \n",
    "def CLT_diff(t):\n",
    "    LHS_list = []\n",
    "    RHS_list = []\n",
    "    sigma = np.sqrt(2)\n",
    "    # generate the constant appearing on the right hand side:\n",
    "    # Your code goes here\n",
    "    \n",
    "    # compute the tail probability appearing on the right hand side:\n",
    "    # Your code goes here\n",
    "    \n",
    "    # vary N from 2 to 50000 with step size 100, for each N and the given t, draw samples from possion(2) and approximate the probablity of interest on the left hand side: \n",
    "    # Your code goes here\n",
    "    \n",
    "    # After we get the result for each N, we plot the result\n",
    "    # Your code goes here\n"
   ]
  },
  {
   "cell_type": "code",
   "execution_count": 8,
   "metadata": {},
   "outputs": [],
   "source": [
    "# Test your function now:\n",
    "# Your code goes here"
   ]
  },
  {
   "cell_type": "code",
   "execution_count": null,
   "metadata": {
    "collapsed": true
   },
   "outputs": [],
   "source": []
  }
 ],
 "metadata": {
  "kernelspec": {
   "display_name": "Python 3",
   "language": "python",
   "name": "python3"
  },
  "language_info": {
   "codemirror_mode": {
    "name": "ipython",
    "version": 3
   },
   "file_extension": ".py",
   "mimetype": "text/x-python",
   "name": "python",
   "nbconvert_exporter": "python",
   "pygments_lexer": "ipython3",
   "version": "3.6.3"
  }
 },
 "nbformat": 4,
 "nbformat_minor": 2
}
