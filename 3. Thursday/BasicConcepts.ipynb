{
 "cells": [
  {
   "cell_type": "markdown",
   "metadata": {},
   "source": [
    "## Implementation of Basic Probability Concepts for Random Variables \n",
    "Brief Description:  \n",
    "1) Random variables of normal distribution and Bernoulli distribution will be studied;  \n",
    "2) The probability concepts include mean, variance, $L^p$ norm ($p < \\infty$), $L^{\\infty}$ norm, covariance;  \n",
    "3) The built-in functions in numpy will be called if they exist. In addition, all the probability concepts will be defined explicitly for illustrations;  \n",
    "4) Sample statistic will be used as an estimation for the corresponding probablity concept. The accuracy will be quantified, which lies in the theory of statistical inference. "
   ]
  },
  {
   "cell_type": "code",
   "execution_count": 4,
   "metadata": {},
   "outputs": [],
   "source": [
    "# Import the packages that will be used in the file:\n",
    "import numpy as np\n",
    "from matplotlib import pyplot as plt\n",
    "from ipywidgets import interact, fixed\n",
    "import scipy.stats as stats\n",
    "from scipy.stats import norm\n",
    "import seaborn as sns"
   ]
  },
  {
   "cell_type": "markdown",
   "metadata": {},
   "source": [
    "### 1. Normal Distribution"
   ]
  },
  {
   "cell_type": "code",
   "execution_count": 11,
   "metadata": {
    "scrolled": true
   },
   "outputs": [
    {
     "name": "stdout",
     "output_type": "stream",
     "text": [
      "[ 0.33126559  0.68056907  2.03949393  1.98999521  1.73138665  1.12727195\n",
      "  0.54415507 -0.55228519  0.67355508  1.30311385  0.34066929 -0.07904808\n",
      " -0.71717002 -1.32876725  0.96243664 -0.29030662  1.61562318 -0.53453993\n",
      "  0.28285365  0.41913051 -1.12760017  0.10984453 -0.22996114  0.36926766\n",
      " -0.80095877 -1.5429744   0.88040779 -1.09301201 -0.56515724  1.86194542\n",
      "  0.26544394 -1.14931284 -0.30573409 -0.44125493 -0.13982374 -0.20638593\n",
      "  0.29724608  0.29281036 -0.36518581 -0.67327054 -0.48347802  0.99678373\n",
      "  0.03517132 -0.64628359 -0.20005689 -0.22329234  0.39064985  0.75064237\n",
      " -0.28468031  0.25748069]\n"
     ]
    }
   ],
   "source": [
    "#Draw 50 samples from a random variable of normal distribution with mean = 0 and standard deviation = 1:\n",
    "sample_normal = np.random.normal(0,1,50)\n",
    "print(sample_normal)"
   ]
  },
  {
   "cell_type": "markdown",
   "metadata": {},
   "source": [
    "#### 1.1 Implement basic probability concepts for samples drawn from the standard normal distribution using numpy functions (mean and variance):"
   ]
  },
  {
   "cell_type": "markdown",
   "metadata": {},
   "source": [
    "Let $X$ denote a random varible. Mean of the random varible is defined as follows.  \n",
    "Definition of mean:  \n",
    "$\\mathbb{E}X := \\int_{\\Omega} X(\\omega) dP(\\omega) $, where $P$ represents the probability measure."
   ]
  },
  {
   "cell_type": "code",
   "execution_count": 12,
   "metadata": {},
   "outputs": [
    {
     "data": {
      "text/plain": [
       "0.13137347126850668"
      ]
     },
     "execution_count": 12,
     "metadata": {},
     "output_type": "execute_result"
    }
   ],
   "source": [
    "#Compute sample mean of sample_normal using numpy:\n",
    "np.mean(sample_normal)"
   ]
  },
  {
   "cell_type": "markdown",
   "metadata": {},
   "source": [
    "###### Question 1.1.1: \n",
    "\n",
    "###### (a) Why is it reasonable to use sample mean for the estimation of the mean of the random variable? (Hint: Law of large numbers (VB, Theorem 1.3.1). More precisely, let N:= sample size, then the sample could be viewed as a realization of N independent random variables of the standard normal distribution).\n",
    "##### (b) Intuitively, the larger number of samples, the more accurate the sample mean is as an estimation for the mean of the given random variable. Can you quantify the \"accuracy\"? For example, assume that the given random variable has variance bounded by 2, how many samples are needed for the estimation error to be within 0.01 with probability 0.9? (Hint: Chebyshev's inequality / VB, Corollary 1.2.5.)\n",
    "##### (c) Is the bound provided by Chebyshev's inequality sharp? In other words, does there exist a better way to control the error so that the sample size can be smaller to obtain the estimation of comparable accuracy? (Hint: if X and Y are independent random variables of normal distribution, what is the distribution of X+Y? )"
   ]
  },
  {
   "cell_type": "markdown",
   "metadata": {},
   "source": [
    "#### Reference: Graphic Illustration of Chebyshev's inequality (VB, Corollary 1.2.5)"
   ]
  },
  {
   "cell_type": "code",
   "execution_count": 2,
   "metadata": {},
   "outputs": [
    {
     "name": "stderr",
     "output_type": "stream",
     "text": [
      "c:\\users\\danny\\appdata\\local\\programs\\python\\python37\\lib\\site-packages\\ipykernel_launcher.py:27: RuntimeWarning: divide by zero encountered in double_scalars\n"
     ]
    },
    {
     "data": {
      "image/png": "[encoded data removed]",
      "text/plain": [
       "<Figure size 432x288 with 1 Axes>"
      ]
     },
     "metadata": {
      "needs_background": "light"
     },
     "output_type": "display_data"
    }
   ],
   "source": [
    "# Set the t specified in the corollary\n",
    "t = 3\n",
    "\n",
    "# Set the random variable X and generate 100000 samples of it\n",
    "# We use normal distribution as an example, can change it to different distribution but need to specify the mu and sigma\n",
    "mu = 2\n",
    "sigma = 1\n",
    "X = np.random.normal(loc = mu, scale = sigma, size = 100000)\n",
    "\n",
    "# We will demonstrate the inequality by directly compute the right hand side and approximate the left hand side by 100000 samples\n",
    "# We will also vary t so see how the relationship change as t changes\n",
    "\n",
    "# Initialize the collection of LHS and RHS as we change t\n",
    "LHS = []\n",
    "RHS = []\n",
    "\n",
    "# Define the range of t we want to change, can modify it to generate different plots\n",
    "t_range = np.arange(0, 10, 0.1)\n",
    "\n",
    "# iterate over all the t in t_range\n",
    "for t in t_range:\n",
    "    # once we specify t, we sample 100000 X as defined above\n",
    "    X = np.random.normal(loc = mu, scale = sigma, size = 100000)\n",
    "    # We approximate the LHS by calculating the portion of the sample that match the condition\n",
    "    LHS.append(np.sum(np.abs(X - mu) >= t) / len(X))\n",
    "    # We calculate the RHS directly\n",
    "    RHS.append(sigma ** 2 / t ** 2)\n",
    "\n",
    "# plot the resulting RHS and LHS as we vary t\n",
    "plt.figure()\n",
    "plt.ylim(0, 1)\n",
    "plt.plot(t_range, LHS, label = \"LHS\")\n",
    "plt.plot(t_range, RHS, label = \"RHS\")\n",
    "plt.xlabel(\"t\")\n",
    "plt.legend()\n",
    "plt.show()"
   ]
  },
  {
   "cell_type": "markdown",
   "metadata": {},
   "source": [
    "Definition of variance:  \n",
    "Var$(X):= \\mathbb{E}(X - \\mathbb{E}X)^2 $"
   ]
  },
  {
   "cell_type": "code",
   "execution_count": 14,
   "metadata": {},
   "outputs": [
    {
     "data": {
      "text/plain": [
       "0.75037793697739097"
      ]
     },
     "execution_count": 14,
     "metadata": {},
     "output_type": "execute_result"
    }
   ],
   "source": [
    "#Compute sample variance of sample_normal using numpy:\n",
    "np.var(sample_normal, ddof = 1)"
   ]
  },
  {
   "cell_type": "markdown",
   "metadata": {},
   "source": [
    "##### Question 1.1.2: What does \"ddof\" value represent for?"
   ]
  },
  {
   "cell_type": "markdown",
   "metadata": {},
   "source": [
    "#### 1.2 Implement basic probability concepts for samples drawn from the standard normal distribution using self-defined functions (mean, variance, L^p norm, L^infinty norm, covariance):"
   ]
  },
  {
   "cell_type": "code",
   "execution_count": 15,
   "metadata": {
    "collapsed": true
   },
   "outputs": [],
   "source": [
    "#Compute sample mean of a sample:\n",
    "def mean(ar):\n",
    "    return np.sum(ar)/len(ar)\n",
    "\n",
    "#Compute sample variance of a sample:\n",
    "def variance(ar):\n",
    "    mean = np.sum(ar)/len(ar)\n",
    "    ar_demean = ar-mean\n",
    "    ar_demean_squared = np.square(ar_demean)\n",
    "    return np.sum(ar_demean_squared)/(len(ar)-1)"
   ]
  },
  {
   "cell_type": "markdown",
   "metadata": {},
   "source": [
    "##### Question 1.2.1: To compute the sample variance, why is the denominator in the last step is (the number of the sample - 1), instead of (the number of the sample)? (Hint: Bessel correction.)"
   ]
  },
  {
   "cell_type": "markdown",
   "metadata": {},
   "source": [
    "Please mimic the definitions of functions for mean and variance and define functions for $L^p$ ($p < \\infty$ ) norm and $L^\\infty$ norm. "
   ]
  },
  {
   "cell_type": "markdown",
   "metadata": {},
   "source": [
    "Definition of $L^p$ norm:   \n",
    "$\\|X \\|_{L^p} := (\\mathbb{E}|X|^p)^{\\frac{1}{p}}$\n",
    "\n",
    "Definition of $L^{\\infty}$ norm:  \n",
    "$\\|X \\|_{L^{\\infty}} := ess \\sup|X|$"
   ]
  },
  {
   "cell_type": "code",
   "execution_count": 17,
   "metadata": {
    "collapsed": true
   },
   "outputs": [],
   "source": [
    "# Your code goes here:\n",
    "#Compute L^p norm of a sample:\n",
    "def L_p(ar,p):\n",
    "    ar_abs_power_p = np.power(np.abs(ar),p)\n",
    "    return (np.sum(ar_abs_power_p)/len(ar))**(1/p)\n",
    "\n",
    "#Compute L^infinity norm of a sample:\n",
    "def L_infinity(ar):\n",
    "    ar_abs = np.abs(ar)\n",
    "    return np.max(ar_abs)\n"
   ]
  },
  {
   "cell_type": "markdown",
   "metadata": {},
   "source": [
    "Definition of covariance of two random variables $X$ and $Y$:   \n",
    "$cov(X,Y):= \\mathbb{E}((X-\\mathbb{E}X)(Y-\\mathbb{E}Y))$"
   ]
  },
  {
   "cell_type": "code",
   "execution_count": null,
   "metadata": {
    "collapsed": true
   },
   "outputs": [],
   "source": [
    "#Compute covariance of two input samples:\n",
    "def cov(x,y):\n",
    "    if len(x) == len(y):\n",
    "        mean_x = np.mean(x)\n",
    "        mean_y = np.mean(y)\n",
    "        return np.sum((x - mean_x)*(y-mean_y))/(len(x)-1)\n",
    "    else:\n",
    "        print('There is an issue of missing data.')"
   ]
  },
  {
   "cell_type": "markdown",
   "metadata": {},
   "source": [
    "##### Question 1.2.2: \n",
    "##### (a) Why is the denominator in the last step is (the number of the sample - 1), instead of (the number of the sample)?\n",
    "##### (b) When the issue of \"missing data\" occurs, what could be a plausible solution?\n"
   ]
  },
  {
   "cell_type": "markdown",
   "metadata": {},
   "source": [
    "Please call the self-defined functions and compare the results with the ones you obtain by calling the built-in function in numpy for sample_normal."
   ]
  },
  {
   "cell_type": "code",
   "execution_count": 30,
   "metadata": {},
   "outputs": [
    {
     "name": "stdout",
     "output_type": "stream",
     "text": [
      "0.131373471269\n",
      "0.750377936977\n",
      "0.992956195158\n",
      "2.03949392914\n",
      "-0.0563367866223\n"
     ]
    }
   ],
   "source": [
    "#Your codes goes here:\n",
    "#Use the self-defined function to compute sample mean:\n",
    "print(mean(sample_normal))\n",
    "#Use the self-defined function to compute sample variance:\n",
    "print(variance(sample_normal))\n",
    "#Use the self-defined function to compute L^3 norm of the sample:\n",
    "print(L_p(sample_normal-mean(sample_normal),3))\n",
    "#Use the self-defined function to compute L^infinity norm of the sample:\n",
    "print(L_infinity(sample_normal))\n",
    "#Use the self-defined function to compute the covariance of two samples:\n",
    "sample_1 = sample_normal[1:11]\n",
    "sample_2 = sample_normal[11:21]\n",
    "print(cov(sample_1,sample_2))"
   ]
  },
  {
   "cell_type": "markdown",
   "metadata": {},
   "source": [
    "### 2. Bernoulli Distribution"
   ]
  },
  {
   "cell_type": "code",
   "execution_count": 25,
   "metadata": {},
   "outputs": [
    {
     "name": "stdout",
     "output_type": "stream",
     "text": [
      "[0 1 0 1 0 1 1 1 1 1 1 1 1 1 0 1 1 0 0 1 1 0 1 1 1 1 1 0 0 0 0 0 0 0 0 0 1\n",
      " 0 1 1 0 0 0 0 0 1 1 0 0 0]\n"
     ]
    }
   ],
   "source": [
    "#Draw 50 samples from a random variable of Bernoulli distribution taking values 1 and -1 with probablity 1/2:\n",
    "sample_bernoulli = np.random.binomial(1,1/2,50)\n",
    "print(sample_bernoulli)"
   ]
  },
  {
   "cell_type": "markdown",
   "metadata": {},
   "source": [
    "#### 2.1 Implement basic probability concepts for samples drawn from the Bernoulli distribution using numpy functions (mean and variance):"
   ]
  },
  {
   "cell_type": "markdown",
   "metadata": {},
   "source": [
    "Please call the built-in functions in numpy (for mean and variance) to compute the sample mean and sample variance for the sample_bernoulli."
   ]
  },
  {
   "cell_type": "code",
   "execution_count": 26,
   "metadata": {},
   "outputs": [
    {
     "name": "stdout",
     "output_type": "stream",
     "text": [
      "0.5\n",
      "0.255102040816\n"
     ]
    }
   ],
   "source": [
    "# Your codes goes here:\n",
    "#Compute sample mean of sample_bernoulli using numpy:\n",
    "print(np.mean(sample_bernoulli))\n",
    "#Compute sample variance of sample_bernoulli using numpy and self_defined function:\n",
    "print(np.var(sample_bernoulli,ddof = 1))"
   ]
  },
  {
   "cell_type": "markdown",
   "metadata": {},
   "source": [
    "##### Question 2.1.1: \n",
    "##### (a) Can you quantify the accuracy of the sample mean as estimations for the mean of the random variable in this case? Does the same estimate in Question 1.1.1 (b) hold? Hint: One can invoke Chebyshev's inequality as in Question 1.1.1(b). \n",
    "##### (b) In the current setting, one does not know the exact distribution of the sum of the Bernoulli random variables as in Question 1.1.1. (c). However, one might recall the central limit theorem (VB, Theorem 1.3.2) and hope to approximate the distribution for the sum of the Bernoulli random variables by a normal distribution. Is this possible to render an exponential decay (of the estimation error) in the sample size? (Hint: What is the convergence rate of the central limit theorem?) "
   ]
  },
  {
   "cell_type": "markdown",
   "metadata": {
    "collapsed": true
   },
   "source": [
    "#### Reference: Graphic Illustration of the central limit theorem (VB, Theorem 1.3.2)"
   ]
  },
  {
   "cell_type": "code",
   "execution_count": 33,
   "metadata": {
    "collapsed": true
   },
   "outputs": [],
   "source": [
    "# Note: If the below graph can't be displayed correctly, run the following code in command line\n",
    "# pip install ipywidgets\n",
    "# pip install jupyter_contrib_nbextensions && jupyter contrib nbextension install\n",
    "# jupyter nbextension enable --py widgetsnbextension"
   ]
  },
  {
   "cell_type": "code",
   "execution_count": 7,
   "metadata": {},
   "outputs": [
    {
     "data": {
      "application/vnd.jupyter.widget-view+json": {
       "model_id": "e441a2727034442dba1dc7add4d9b3cd",
       "version_major": 2,
       "version_minor": 0
      },
      "text/plain": [
       "interactive(children=(FloatSlider(value=0.0, description='alpha', max=1.0), Output()), _dom_classes=('widget-i…"
      ]
     },
     "metadata": {},
     "output_type": "display_data"
    },
    {
     "data": {
      "text/plain": [
       "<function __main__.CLT(alpha, X)>"
      ]
     },
     "execution_count": 7,
     "metadata": {},
     "output_type": "execute_result"
    }
   ],
   "source": [
    "# Define a function that take the power alpha and a set of sample X with dimension n times m. n represents the number of samples\n",
    "# and m represent the size of each sample\n",
    "def CLT(alpha, X):  \n",
    "    # plot the distribution with regard to alpha using sns.distplot()\n",
    "    sns.distplot(np.sum(X, axis = 1) / (X.shape[1] ** alpha))\n",
    "    #x = np.linspace(mu - 1 * np.sqrt(mu), mu + 1 * np.sqrt(mu))\n",
    "    \n",
    "    # also plot the normal distribution it should converge to \n",
    "    #plt.plot(x, stats.norm.pdf(x, mu, np.sqrt(mu) / np.sqrt(k)))\n",
    "    \n",
    "# can change the range of k and drag the bar to see the change \n",
    "X = np.random.poisson(lam = 4, size = (10000, 10))\n",
    "interact(CLT, alpha = (0, 1, 0.1), X = fixed(X))"
   ]
  },
  {
   "cell_type": "code",
   "execution_count": null,
   "metadata": {},
   "outputs": [],
   "source": [
    "# Define a function that take the power alpha and a set of sample X with dimension n times m. n represents the number of samples\n",
    "# and m represent the size of each sample\n",
    "def CLT(alpha, X):  \n",
    "    # sum all the number in each sample\n",
    "    #your codes go in here\n",
    "    \n",
    "    # divide by sample size to the power of alpha, (be careful on whether to divide by m or n)\n",
    "    #your codes go in here\n",
    "    \n",
    "    # plot the distribution with regard to alpha using sns.distplot(). If you are unfamiliar with the function, google the API for sns\n",
    "    #your codes go in here\n",
    "\n",
    "#initialize the X, can change to what ever distribution and whatever size\n",
    "X = np.random.poisson(lam = 4, size = (10000, 10))\n",
    "    \n",
    "# can change the range of k and drag the bar to see the change, no need to change this\n",
    "interact(CLT, alpha = (0, 1, 0.1), X = fixed(X))"
   ]
  },
  {
   "cell_type": "markdown",
   "metadata": {},
   "source": [
    "#### Reference: Graphic Illustration of the convergence rate in the central limit theorem (VB, Theorem 2.1.3 Berry-Esseen central limit theorem)"
   ]
  },
  {
   "cell_type": "code",
   "execution_count": 3,
   "metadata": {},
   "outputs": [
    {
     "name": "stdout",
     "output_type": "stream",
     "text": [
      "0.0002624612740131371\n",
      "0.2992414861559882\n"
     ]
    }
   ],
   "source": [
    "# We will use poission distribution as an example, can change to other distribution but need to change corresponding mu and sigma\n",
    "mu = 3\n",
    "sigma = np.sqrt(mu)\n",
    "\n",
    "# N is the size of the sample. Both N and t can change\n",
    "N = 30\n",
    "t = 0.5\n",
    "Zn = (np.mean(np.random.poisson(lam = mu, size = (10000, N)), axis = 1) - mu) / sigma * np.sqrt(N)\n",
    "rho = np.mean(np.abs((np.random.poisson(lam = mu, size = 1000000) - mu) ** 3)) / sigma ** 3\n",
    "\n",
    "# calculate the resulting LHS and RHS, probability is estimated by 1000000 sample\n",
    "RHSP = np.sum(Zn >= t) / len(Zn)\n",
    "LHSP = 1 - norm.cdf(t)\n",
    "RHS = rho / np.sqrt(N)\n",
    "\n",
    "# Print the two sides, see the relationship\n",
    "print(np.abs(LHSP - RHSP))\n",
    "print(RHS)"
   ]
  },
  {
   "cell_type": "code",
   "execution_count": 4,
   "metadata": {},
   "outputs": [
    {
     "data": {
      "application/vnd.jupyter.widget-view+json": {
       "model_id": "c99c4c443c884e82aeeea4f08357458c",
       "version_major": 2,
       "version_minor": 0
      },
      "text/plain": [
       "interactive(children=(FloatSlider(value=0.0, description='t', max=3.0, min=-3.0), Output()), _dom_classes=('wi…"
      ]
     },
     "metadata": {},
     "output_type": "display_data"
    },
    {
     "data": {
      "text/plain": [
       "<function __main__.CLT_diff(t)>"
      ]
     },
     "execution_count": 4,
     "metadata": {},
     "output_type": "execute_result"
    }
   ],
   "source": [
    "# can vary t by dragging the bar, essentially convert above lines to a function\n",
    "def CLT_diff(t):\n",
    "    LHS_list = []\n",
    "    RHS_list = []\n",
    "    # vary N from 2 to 50000 with step size 100, for each N and the given t, we calculate the RHS and the LHS\n",
    "    for N in range(2, 5000, 100):\n",
    "        Zn = (np.mean(np.random.poisson(lam = mu, size = (1000, N)), axis = 1) - mu) / sigma * np.sqrt(N)\n",
    "        rho = np.mean(np.abs((np.random.poisson(lam = mu, size = 10000) - mu) ** 3)) / sigma ** 3\n",
    "        RHSP = np.sum(Zn >= t) / len(Zn)\n",
    "        LHSP = 1 - norm.cdf(t)\n",
    "        RHS = rho / np.sqrt(N)\n",
    "        LHS_list.append(np.abs(LHSP - RHSP))\n",
    "        RHS_list.append(RHS)\n",
    "    # After we get the result for each N, we plot the result\n",
    "    plt.plot(range(2, 5000, 100), LHS_list, label = \"LHS\")\n",
    "    plt.plot(range(2, 5000, 100), RHS_list, label = \"RHS\")\n",
    "    plt.xlabel(\"N\")\n",
    "    plt.legend()\n",
    "\n",
    "# Now can drag the bar and vary t to see how the RHS and LHS changes\n",
    "interact(CLT_diff, t = (-3,3 , 0.1))"
   ]
  },
  {
   "cell_type": "markdown",
   "metadata": {},
   "source": [
    "##### Question 2.1.1 Continued:\n",
    "##### (c) Is the bound provided by Chebyshev's inequality sharp? Is there any better estimate available in this case? (Hint: Hoeffding’s inequality / VB, Theorem 2.2.2 and Theorem 2.2.5) "
   ]
  },
  {
   "cell_type": "markdown",
   "metadata": {},
   "source": [
    "#### 2.2 Implement basic probability concepts for samples drawn from the standard normal distribution using self-defined functions (mean, variance, $L^p (p < \\infty)$ norm, $L^{\\infty}$ norm, covariance):"
   ]
  },
  {
   "cell_type": "markdown",
   "metadata": {},
   "source": [
    "Please call the self-defined functions and compare the results with the ones you obtain by calling the built-in function in numpy for sample_bernoulli."
   ]
  },
  {
   "cell_type": "code",
   "execution_count": 32,
   "metadata": {},
   "outputs": [
    {
     "name": "stdout",
     "output_type": "stream",
     "text": [
      "0.5\n",
      "0.255102040816\n",
      "1.14260754336\n",
      "1\n",
      "-0.0497076023392\n"
     ]
    }
   ],
   "source": [
    "# Your code goes here:\n",
    "#Use the self-defined function to compute mean of the sample:\n",
    "print(mean(sample_bernoulli))\n",
    "#Use the self-defined function to compute variance of the sample:\n",
    "print(variance(sample_bernoulli))\n",
    "#Use the self-defined function to compute L^4 norm of the sample:\n",
    "print(L_p(sample_normal-mean(sample_bernoulli),4))\n",
    "#Use the self-defined function to compute L^infinity norm of the sample:\n",
    "print(L_infinity(sample_bernoulli))\n",
    "#Use the self-defined function to compute the covariance of two samples:\n",
    "sample_1 = sample_bernoulli[1:20]\n",
    "sample_2 = sample_bernoulli[21:40]\n",
    "print(cov(sample_1,sample_2))"
   ]
  },
  {
   "cell_type": "code",
   "execution_count": null,
   "metadata": {
    "collapsed": true
   },
   "outputs": [],
   "source": []
  }
 ],
 "metadata": {
  "kernelspec": {
   "display_name": "Python 3",
   "language": "python",
   "name": "python3"
  },
  "language_info": {
   "codemirror_mode": {
    "name": "ipython",
    "version": 3
   },
   "file_extension": ".py",
   "mimetype": "text/x-python",
   "name": "python",
   "nbconvert_exporter": "python",
   "pygments_lexer": "ipython3",
   "version": "3.7.3"
  },
  "varInspector": {
   "cols": {
    "lenName": 16,
    "lenType": 16,
    "lenVar": 40
   },
   "kernels_config": {
    "python": {
     "delete_cmd_postfix": "",
     "delete_cmd_prefix": "del ",
     "library": "var_list.py",
     "varRefreshCmd": "print(var_dic_list())"
    },
    "r": {
     "delete_cmd_postfix": ") ",
     "delete_cmd_prefix": "rm(",
     "library": "var_list.r",
     "varRefreshCmd": "cat(var_dic_list()) "
    }
   },
   "types_to_exclude": [
    "module",
    "function",
    "builtin_function_or_method",
    "instance",
    "_Feature"
   ],
   "window_display": false
  }
 },
 "nbformat": 4,
 "nbformat_minor": 2
}
