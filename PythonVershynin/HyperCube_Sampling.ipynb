{
 "cells": [
  {
   "cell_type": "code",
   "execution_count": 238,
   "metadata": {},
   "outputs": [
    {
     "name": "stdout",
     "output_type": "stream",
     "text": [
      "Best :  0.05973262822372562\n"
     ]
    },
    {
     "data": {
      "image/png": "[encoded data removed]",
      "text/plain": [
       "<Figure size 432x288 with 1 Axes>"
      ]
     },
     "metadata": {
      "needs_background": "light"
     },
     "output_type": "display_data"
    }
   ],
   "source": [
    "import random as rand\n",
    "import numpy as np\n",
    "import heapq\n",
    "import matplotlib.pyplot as plt\n",
    "import copy\n",
    "\n",
    "# Problem Configuration:\n",
    "    # A k x n 0-1 matrix\n",
    "n = 4; # dimension \n",
    "k = 10; # number of points to sample\n",
    "x = np.array([rand.random() for i in range(n)]) # point of interest\n",
    "# SIMPLE local search; finds local minimum\n",
    "# A transition consists of moving a single vertex by an edge\n",
    "\n",
    "\n",
    "# cost function for the problem \n",
    "# Cost of state w.r.t x\n",
    "def cost(state, x):\n",
    "    return np.sqrt(np.sum((x - np.sum(state, axis = 0)/k)**2));\n",
    "        \n",
    "# nk successors to a given state\n",
    "# returns a set\n",
    "def getSuccessors(state):\n",
    "    successors = [];\n",
    "    for i in range(k):\n",
    "        for j in range(n):\n",
    "            succ = copy.deepcopy(state); \n",
    "            succ[i][j] = 1 if state[i][j]==0 else 0;\n",
    "            successors.append(succ);\n",
    "    return successors;\n",
    "    \n",
    "\n",
    "# Search is of size nk each time\n",
    "def hillclimbing():\n",
    "    trialFit = [];\n",
    "    # Sample an initial state (uniformly now but could be improved)\n",
    "    current = np.array([[rand.randint(0,1) for j in range(n)] for i in range(k)]);\n",
    "    # begin the descent!\n",
    "    while(True):\n",
    "        # find the minimum cost neighbor\n",
    "        neighbor = min(getSuccessors(current), key = lambda state: cost(state, x));\n",
    "        \n",
    "        # end if we reach a local min\n",
    "        neighbor_cost = cost(neighbor,x);\n",
    "        if (neighbor_cost >= cost(current, x)):\n",
    "            return current, cost(current, x), trialFit;\n",
    "    \n",
    "        trialFit.append(neighbor_cost);\n",
    "        current = neighbor;\n",
    "\n",
    "# Search is of size n*k*beta each time\n",
    "# This is buggy right now!\n",
    "def beamSearch(beta, numsteps):\n",
    "    trialFit = [];\n",
    "    # Sample set of beta initial states (uniformly)\n",
    "    current = [np.array([[rand.randint(0,1) for j in range(n)] for i in range(k)]) for l in range(beta)];\n",
    "    print(current)\n",
    "    # begin descent!\n",
    "    for i in range(numsteps):\n",
    "        # Get successors of all beta current states\n",
    "        allSuccessors_unflattened = [getSuccessors(state) for state in current];\n",
    "        # flatten the list and remove duplicates (removing duplicates seems annoying...better to just not)\n",
    "        allSuccessors = [state for states in allSuccessors_unflattened for state in states]; \n",
    "        \n",
    "        # remove duplicates\n",
    "#         allUniqueSuccessors = [];\n",
    "#         for state1 in allSuccessors:\n",
    "#             flag = False;\n",
    "#             for state2 in allUniqueSuccessors:\n",
    "#                 # state is already in there\n",
    "#                 if np.array_equal(state1, state2):\n",
    "#                     flag = True;\n",
    "#                     break\n",
    "#             if flag == False:\n",
    "#                 allUniqueSuccessors.append(state1);\n",
    "#         print(len(allUniqueSuccessors));\n",
    "#         print(len(allSuccessors));\n",
    "\n",
    "        # get the beta smallest neighbors\n",
    "        min_neighbors = heapq.nsmallest(beta, allSuccessors, key = lambda state: cost(state, x));\n",
    "        print(min_neighbors);\n",
    "        # add the costs to the fit plot...also super slightly inefficient\n",
    "        trialFit.append([cost(state, x) for state in min_neighbors]);\n",
    "        current = min_neighbors;\n",
    "        \n",
    "    # get final best state\n",
    "    best_state = min(current, key = lambda state: cost(state, x));\n",
    "    best_fit = cost(best_state, x);\n",
    "    return best_state, best_fit, trialFit;\n",
    "    \n",
    "\n",
    "state, finalCost, fit = hillclimbing();\n",
    "print(\"Best : \", finalCost)\n",
    "# plot the figure\n",
    "plt.figure();\n",
    "plt.plot(fit)\n",
    "plt.show();"
   ]
  },
  {
   "cell_type": "code",
   "execution_count": null,
   "metadata": {},
   "outputs": [],
   "source": []
  },
  {
   "cell_type": "code",
   "execution_count": null,
   "metadata": {},
   "outputs": [],
   "source": []
  }
 ],
 "metadata": {
  "kernelspec": {
   "display_name": "Python 3",
   "language": "python",
   "name": "python3"
  },
  "language_info": {
   "codemirror_mode": {
    "name": "ipython",
    "version": 3
   },
   "file_extension": ".py",
   "mimetype": "text/x-python",
   "name": "python",
   "nbconvert_exporter": "python",
   "pygments_lexer": "ipython3",
   "version": "3.7.6"
  }
 },
 "nbformat": 4,
 "nbformat_minor": 4
}
