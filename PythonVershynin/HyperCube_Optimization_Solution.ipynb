{
 "cells": [
  {
   "cell_type": "markdown",
   "metadata": {},
   "source": [
    "# Solutions: Some Basic Computational Techniques for Optimization\n",
    "\n",
    "*These are **solutions** to the worksheet on basic computational optimization. Please **DO NOT LOOK AT IT** if you haven't given the worksheet a fair amount of thought.*\n",
    "\n",
    "In this worksheet we will go over implementing some basic techniques that are widely used for computational optimization in data science and computer science. More specifically, we will look at what are known as *local search* strategies, where we search through some *state space* in order to optimize a given *cost function* (a function that maps states to numbers)."
   ]
  },
  {
   "cell_type": "markdown",
   "metadata": {},
   "source": [
    "## The Setup\n",
    "\n",
    "Recall the Approximate Caratheodory Theorem from Vershynin's book:\n",
    "\n",
    "**Theorem 0.0.2** (Approximate Caratheodory's Theorem)**.** *Consider a set $T \\subset \\mathbb{R}^n$ whose diameter is bounded by $1$. Then, for every point $x \\in \\text{conv}(T)$ and every integer $k$, one can find points $x_1,\\ldots,x_k \\in T$ such that*\n",
    "$$ \\left\\lVert x - \\frac{1}{k}\\sum_{j=1}^k x_j \\right\\rVert \\leq \\frac{1}{\\sqrt k}$$\n",
    "\n",
    "In this worksheet we will verify the theorem in the specific case of an $n$-dimensional hypercube, $\\{0,1\\}^n$. We will computationally find the optimum (minimum) value of the function on the left hand side and verify that it is indeed less than $1/\\sqrt{k}$.\n",
    "\n",
    "## The Problem\n",
    "\n",
    "Here is a more specific statement of the of the problem we want to solve computationally.\n",
    "* **Input**: The input is a point $x$ inside the convex hull of the hypercube $\\{0,1\\}^n$ and an integer $k$.\n",
    "* **Output**: The output should be a list of $k$ points, each a vertex of the hypercube that minimizes the quantity on the LHS of the inequality from Theorem 0.0.2, as well as the minimum quantity found."
   ]
  },
  {
   "cell_type": "markdown",
   "metadata": {},
   "source": [
    "## Preliminaries\n",
    "\n",
    "Local search techniques rely on three basic objects:\n",
    "* **States**: These are the entities we are interested in finding the optimal configuration of. In our case, states would be lists of $k$ points, each of them being a vertex of the hypercube $\\{0,1\\}^n$.\n",
    "* **The Cost Function**: A function from states to numbers. This is the quantity we want to optimize. In our case the cost function is the quantity on the LHS. We want to minimize this.\n",
    "* **The Successor Function**: This is a function that maps states to a set of \"successor\" states. The search algorithm will follow the successor to transition. A good successor function should be able to reach every state from every other state (it should be \"connected\")\n",
    "\n",
    "With this in mind, let's get into some coding!"
   ]
  },
  {
   "cell_type": "code",
   "execution_count": 8,
   "metadata": {},
   "outputs": [],
   "source": [
    "# Some useful imports\n",
    "import random as rand\n",
    "import numpy as np\n",
    "import heapq\n",
    "import matplotlib.pyplot as plt\n",
    "import copy\n",
    "import math\n",
    " \n",
    "# Fill in code where indicated below:\n",
    "\n",
    "n = 10 # Fill in your favorite dimension\n",
    "k = 10 # Number of points\n",
    "x = np.array([rand.random() for i in range(n)]) \n",
    "                         # A random (or specific) point in the convex hull.\n",
    "                         # We recommend using np arrays to represent these,\n",
    "                         # but it's up to you\n"
   ]
  },
  {
   "cell_type": "markdown",
   "metadata": {},
   "source": [
    "# The State Representation\n",
    "\n",
    "How would we represent a list of $k$ $n$-tuples in Python? One way to do this would be to have a python list of tuples. But we should keep in mind that we might produce many such states, so our representation should be as efficient as possible. One efficient structure that we recommend is a 2D numpy array with rows representing our $n$-tuples. "
   ]
  },
  {
   "cell_type": "code",
   "execution_count": 9,
   "metadata": {},
   "outputs": [],
   "source": [
    "# Define a cost function. You may assume that the state is in the representation we recommended above.\n",
    "# If you had something better in mind, use it.\n",
    "#\n",
    "# Parameters: a state and the point x\n",
    "# Returns: the cost of the state w.r.t. x\n",
    "def cost(state, x):\n",
    "    return np.sqrt(np.sum((x - np.sum(state, axis = 0)/k)**2))"
   ]
  },
  {
   "cell_type": "code",
   "execution_count": 10,
   "metadata": {},
   "outputs": [],
   "source": [
    "# Define a successor function. One successor function we tried using was one which\n",
    "# returned a set containing all the points from the original state, with one point moved along an edge,\n",
    "# that is, with one of the points flipped (the coordinates are all 0 or 1)\n",
    "# Feel free to play around with your own successor function.\n",
    "#\n",
    "# Parameters: a state\n",
    "# Returns: a set/list of states reachable from the given step in one transition\n",
    "def successors(state):\n",
    "    successors = []\n",
    "    for i in range(k):\n",
    "        for j in range(n):\n",
    "            succ = copy.deepcopy(state)\n",
    "            succ[i][j] = 1 if state[i][j]==0 else 0\n",
    "            successors.append(succ)\n",
    "    return successors"
   ]
  },
  {
   "cell_type": "markdown",
   "metadata": {},
   "source": [
    "## Hillclimbing Search\n",
    "\n",
    "Hillclimbing search is a local search strategy that at each step moves towards the best-looking successor state (optimal cost). When it reaches a state from where every successor has worse cost, it declares victory and returns what it has. Here's the algorithm to make things more precise:\n",
    "\n",
    "1. Initialize a `current` state, and set it to some valid state.\n",
    "2. Loop: \\\n",
    "    a. Get all successor states of `current`. \\\n",
    "    b. Check if the best-cost successor state is better than `current`. \\\n",
    "    c. If it is, then set `current` to that state. \\\n",
    "    d. If it isn't, return `current` as the best.\n",
    "\n",
    "Let us implement hillclimbing search for our example."
   ]
  },
  {
   "cell_type": "code",
   "execution_count": 11,
   "metadata": {},
   "outputs": [],
   "source": [
    "# Implement hillclimbing search to find an optimum in our setup.\n",
    "# Constants n, k, x are defined above.\n",
    "#\n",
    "# Returns: the optimal state, the optimal cost value, and a list of the\n",
    "# costs of best-cost successors encoutered along the search (for plotting)\n",
    "def hillclimbing():\n",
    "    history = []\n",
    "    # Sample an initial state (uniformly now but could be improved)\n",
    "    current = np.array([[rand.randint(0,1) for j in range(n)] for i in range(k)])\n",
    "    \n",
    "    # begin the descent!\n",
    "    while(True):\n",
    "        # find the minimum cost neighbor\n",
    "        neighbor = min(successors(current), key = lambda state: cost(state, x))\n",
    "        \n",
    "        # end if we reach a local min\n",
    "        neighbor_cost = cost(neighbor,x)\n",
    "        if (neighbor_cost >= cost(current, x)):\n",
    "            return current, cost(current, x), history\n",
    "    \n",
    "        history.append(neighbor_cost)\n",
    "        current = neighbor"
   ]
  },
  {
   "cell_type": "code",
   "execution_count": 13,
   "metadata": {},
   "outputs": [
    {
     "name": "stdout",
     "output_type": "stream",
     "text": [
      "Best :  0.10093681550010632\n"
     ]
    },
    {
     "data": {
      "image/png": "[encoded data removed]",
      "text/plain": [
       "<Figure size 432x288 with 1 Axes>"
      ]
     },
     "metadata": {
      "needs_background": "light"
     },
     "output_type": "display_data"
    }
   ],
   "source": [
    "# A quick test and plot\n",
    "state, finalCost, history = hillclimbing()\n",
    "print(\"Best : \", finalCost)\n",
    "\n",
    "# Plot a graph with the search history as well as a dashed line at 1/sqrt(k)\n",
    "plt.figure()\n",
    "plt.plot(history)\n",
    "plt.axhline(1/math.sqrt(k), color='r', linestyle='dashed')\n",
    "plt.show()"
   ]
  },
  {
   "cell_type": "markdown",
   "metadata": {},
   "source": [
    "## Beam Search\n",
    "\n",
    "Beam Search is another local search strategy which instead of looking at one state at once, it looks at some set number $\\beta$ of states (the \"beam size\"). At each step the successors from these states are examined and the best $l$ are taken. For simplicity we stop searching after some set number of timesteps. The stop condition is something that can be played around with. Stated more formally:\n",
    "\n",
    "1. Initialize `current` as a list of $\\beta$ states.\n",
    "2. Loop some number of times: \\\n",
    "    a. Loop through each state in `current` and get the successors. \\\n",
    "    b. Choose the $\\beta$ best-cost successor states and set them to `current`.\n",
    "\n",
    "Let us implement beam search."
   ]
  },
  {
   "cell_type": "code",
   "execution_count": 15,
   "metadata": {},
   "outputs": [],
   "source": [
    "def beamSearch(beta, numsteps):\n",
    "    history = []\n",
    "    # Sample set of beta initial states (uniformly)\n",
    "    current = [np.array([[rand.randint(0,1) for j in range(n)] for i in range(k)]) for l in range(beta)]\n",
    "\n",
    "    # begin descent!\n",
    "    for i in range(numsteps):\n",
    "        # Get successors of all beta current states\n",
    "        allSuccessors_unflattened = [successors(state) for state in current]\n",
    "        \n",
    "        # flatten the list and remove duplicates (removing duplicates seems annoying...better to just not)\n",
    "        allSuccessors = [state for states in allSuccessors_unflattened for state in states]\n",
    "\n",
    "        # get the beta smallest neighbors\n",
    "        min_neighbors = heapq.nsmallest(beta, allSuccessors, key = lambda state: cost(state, x))\n",
    "\n",
    "        # add the costs to the fit plot...also super slightly inefficient\n",
    "        history.append([cost(state, x) for state in min_neighbors])\n",
    "        current = min_neighbors\n",
    "        \n",
    "    # get final best state\n",
    "    best_state = min(current, key = lambda state: cost(state, x))\n",
    "    best_fit = cost(best_state, x)\n",
    "    return best_state, best_fit, history"
   ]
  },
  {
   "cell_type": "code",
   "execution_count": 18,
   "metadata": {},
   "outputs": [
    {
     "name": "stdout",
     "output_type": "stream",
     "text": [
      "Best :  0.10093681550010632\n"
     ]
    },
    {
     "data": {
      "image/png": "[encoded data removed]",
      "text/plain": [
       "<Figure size 432x288 with 1 Axes>"
      ]
     },
     "metadata": {
      "needs_background": "light"
     },
     "output_type": "display_data"
    }
   ],
   "source": [
    "# A quick test and plot\n",
    "state, best_fit, history = beamSearch(10, 100)\n",
    "print(\"Best : \", finalCost)\n",
    "\n",
    "# Plot a graph\n",
    "plt.figure()\n",
    "plt.plot(history)\n",
    "plt.axhline(1/math.sqrt(k), color='r', linestyle='dashed')\n",
    "plt.show()"
   ]
  },
  {
   "cell_type": "markdown",
   "metadata": {},
   "source": [
    "# Things to Think About\n",
    "\n",
    "Here are some things to think about:\n",
    "* Does the Approximate Caratheodory bound work?\n",
    "* Could we use different successor functions and/or modify our search strategy to get better approximations?\n",
    "* How tight is the $1/\\sqrt{k}$ bound guaranteed by the theorem?\n",
    "* Why is/isn't that bound tight?\n",
    "* Can we improve this bound for particular point configurations? Another worksheet in this collection walks through the proof of the Approximate Caratheodory Theorem in a particular case to examine this."
   ]
  },
  {
   "cell_type": "markdown",
   "metadata": {},
   "source": [
    "# More Things to Do!\n",
    "\n",
    "## Simulated Annealing\n",
    "\n",
    "Another technique we could look at is simulated annealing. Simulated annealing is a probabilistic technique for approximating the global optimum of a given function. The name (and technique) is inspired by annealing in metallurgy, a technique involving heating and controlled cooling of a metal. Simulated annealing is similar to hillclimbing, but with the possibility of taking, every once in a while, non-optimal paths with the hope that they end up getting us over a local optimum. The probability of taking non-optimal paths is high when we begin, and reduces as the process goes on according to some time schedule.\n",
    "\n",
    "If interested, dig into simulated annealing (the [Wikipedia page](https://en.wikipedia.org/wiki/Simulated_annealing#Pseudocode) is a good resource) and implement it here.\n",
    "\n",
    "**Note:** *This is an incomplete solution and doesn't completely work. However we felt that it might be useful to send out anyway. Feel free to fix it and/or use it as a starting point!*"
   ]
  },
  {
   "cell_type": "code",
   "execution_count": 17,
   "metadata": {},
   "outputs": [
    {
     "name": "stdout",
     "output_type": "stream",
     "text": [
      "Best :  0.8432762684223494\n"
     ]
    },
    {
     "data": {
      "image/png": "[encoded data removed]",
      "text/plain": [
       "<Figure size 432x288 with 1 Axes>"
      ]
     },
     "metadata": {
      "needs_background": "light"
     },
     "output_type": "display_data"
    }
   ],
   "source": [
    "# This is a partial solution and doesn't completely work. Feel free to fix it/go off of it.\n",
    "\n",
    "swapConst = 0.1 # like Boltzmann constant\n",
    "\n",
    "temp = 1000\n",
    "coolRate = 0.01\n",
    "\n",
    "# cost function for the problem \n",
    "# Cost of state w.r.t x\n",
    "def energy(state):\n",
    "    # Euclidean distance\n",
    "    return np.sqrt(np.sum((x - np.sum(state, axis = 0)/k)**2))\n",
    "\n",
    "def probability(E1, E2, temp):\n",
    "    return 1.0 if E2 < E1 else math.exp((E1-E2) / temp)\n",
    "\n",
    "\n",
    "# Return best state and history\n",
    "def annealing():\n",
    "    temp = 1000\n",
    "    coolRate = 0.001\n",
    "    swapConst = 0.1\n",
    "    \n",
    "    # for fit analysis\n",
    "    fit = []\n",
    "    # Give a first guess\n",
    "    current = np.array([[rand.randint(0,1) for j in range(n)] for i in range(k)])\n",
    "    # Best solution so-far \n",
    "    best = current\n",
    "    while temp > .01:\n",
    "        neighbor = np.copy(current)\n",
    "\n",
    "        a = rand.randint(0, k-1)\n",
    "        b = rand.randint(0, n-1)\n",
    "        neighbor[a][b] = 1 if neighbor[a][b] == 0 else 1\n",
    "            \n",
    "        curr_energy = energy(current)\n",
    "        neighbor_energy = energy(neighbor)\n",
    "        # accept on given probability\n",
    "        if (probability(curr_energy, neighbor_energy, temp) > rand.random()):\n",
    "            current = neighbor\n",
    "        \n",
    "        # Check if this solution is the best so-far\n",
    "        if (neighbor_energy < energy(best)):\n",
    "            best = current\n",
    "            \n",
    "        fit.append(energy(current))\n",
    "        temp *= 1 - coolRate\n",
    "    \n",
    "    return best, fit\n",
    "\n",
    "best, fit = annealing()\n",
    "\n",
    "print(\"Best : \", energy(best))\n",
    "\n",
    "# plot the figure\n",
    "plt.figure()\n",
    "plt.axhline(1/math.sqrt(k), color='r', linestyle='dashed')\n",
    "plt.plot(fit)\n",
    "plt.show()"
   ]
  },
  {
   "cell_type": "markdown",
   "metadata": {},
   "source": [
    "## Other Optimization Strategies\n",
    "\n",
    "There are many more optimization strategies used for such problems. Neural nets, genetic algorithms, and stochastic search techniques are some of them. We encourage you to check these out and implement them!"
   ]
  }
 ],
 "metadata": {
  "kernelspec": {
   "display_name": "Python 3",
   "language": "python",
   "name": "python3"
  },
  "language_info": {
   "codemirror_mode": {
    "name": "ipython",
    "version": 3
   },
   "file_extension": ".py",
   "mimetype": "text/x-python",
   "name": "python",
   "nbconvert_exporter": "python",
   "pygments_lexer": "ipython3",
   "version": "3.7.6"
  }
 },
 "nbformat": 4,
 "nbformat_minor": 4
}
