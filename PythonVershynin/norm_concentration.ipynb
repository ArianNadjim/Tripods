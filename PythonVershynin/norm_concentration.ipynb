{
 "cells": [
  {
   "cell_type": "code",
   "execution_count": null,
   "metadata": {},
   "outputs": [],
   "source": [
    "\"\"\"\n",
    "Concentration of the norm for random vectors\n",
    "Based on section 3.1 of Vershynin's 'High Dimensional Probability'\n",
    "\n",
    "Charlotte Aten (charlotte.aten@rochester.edu) 2020\n",
    "\"\"\""
   ]
  },
  {
   "cell_type": "code",
   "execution_count": 1,
   "metadata": {},
   "outputs": [],
   "source": [
    "# Imports\n",
    "import numpy as np\n",
    "from matplotlib import pyplot as plt"
   ]
  },
  {
   "cell_type": "code",
   "execution_count": 2,
   "metadata": {},
   "outputs": [],
   "source": [
    "class RandomVector:\n",
    "    \"\"\"\n",
    "    A random vector.\n",
    "    \n",
    "    Attributes:\n",
    "        components (numpy.ndarray): The components of the vector.\n",
    "        dim (int): The dimension in which the vector lies.\n",
    "    \"\"\"\n",
    "    \n",
    "    def __init__(self,dim,distribution='standard_normal',mean=0,variance=1):\n",
    "        \"\"\"\n",
    "        Args:\n",
    "            dim (int): The dimension in which the vector lies.\n",
    "            distribution (str): The name of the distribution according to which the vector was generated.\n",
    "            mean = The mean of the distribution used.\n",
    "            sqrt_variance = The variance of the distribution used.\n",
    "        \"\"\"\n",
    "        \n",
    "        # Demand that `dim` is a natural number.\n",
    "        assert dim>0 and type(dim) is int\n",
    "        # Let the vector keep track of its dimension. (This is the same as its length.)\n",
    "        self.dim = dim\n",
    "        # Make a random number generator.\n",
    "        rng = np.random.default_rng()\n",
    "        # Create a numpy array with `dim` many entries according to `distribution`.\n",
    "        # The list of available distributions can be found here:\n",
    "        # https://numpy.org/doc/stable/reference/random/generator.html\n",
    "        # They are all implemented differently and as such require hardcoding here.\n",
    "        if distribution == 'standard_normal':\n",
    "            self.components = np.array(rng.standard_normal(dim))\n",
    "        if distribution == 'wald':\n",
    "            self.components = np.array(rng.wald(1,1,dim))\n",
    "        # Change the mean and variance to the desired values.\n",
    "        self.components = mean+np.sqrt(variance)*self.components\n",
    "\n",
    "    def __repr__(self):\n",
    "        \"\"\"\n",
    "        Make it so that printing the vector returns basic information about it.\n",
    "        In order to see the components of a random vector `x` use `print(x.components)`.\n",
    "        \n",
    "        Returns:\n",
    "            str: The basic information on the vector.\n",
    "        \"\"\"\n",
    "\n",
    "        return 'a {}-dimensional random vector (id: {})'.format(self.dim,id(self))\n",
    "\n",
    "    def mean(self):\n",
    "        \"\"\"\n",
    "        Compute the mean of the random vector by taking the mean of its components.\n",
    "        \n",
    "        Returns:\n",
    "            numpy.float64: The computed mean of the vector.\n",
    "        \"\"\"\n",
    "        \n",
    "        return self.components.mean()\n",
    "    \n",
    "    def norm_squared(self):\n",
    "        \"\"\"\n",
    "        Compute the Euclidean norm squared of the vector, which is the sum of the squares of the entries.\n",
    "        \n",
    "        Returns:\n",
    "            numpy.float64: The square of the norm of the vector.\n",
    "        \"\"\"\n",
    "\n",
    "        return sum(t**2 for t in self.components)"
   ]
  },
  {
   "cell_type": "code",
   "execution_count": 3,
   "metadata": {},
   "outputs": [
    {
     "name": "stdout",
     "output_type": "stream",
     "text": [
      "Examples of the `RandomVector` class.\n",
      "\n",
      "Create a random vector `x` in 10 dimensions.\n",
      "\n",
      "Have `x` give us information about itself.\n",
      "a 10-dimensional random vector (id: 140124682775232)\n",
      "\n",
      "Check the dimension of `x`.\n",
      "10\n",
      "\n",
      "View the components of `x`.\n",
      "[ 1.34370608 -0.15276631 -0.10705272 -0.26701855 -0.43144622 -0.81379094\n",
      " -1.69684125 -0.39976175  1.18351945  1.65228783]\n",
      "\n",
      "Note that the dimension is the same as the length of the component array.\n",
      "10\n",
      "10\n",
      "\n",
      "Check the mean of `x` as computed from its components.\n",
      "0.031083563078890507\n",
      "\n",
      "Create another random vector in 10 dimensions.\n",
      "\n",
      "Note that `x` and `y` are distinct.\n",
      "a 10-dimensional random vector (id: 140124682775232)\n",
      "a 10-dimensional random vector (id: 140124682716688)\n",
      "\n",
      "We can also specify the mean and variance of our random vector.\n",
      "Create a 4-dimensional random vector of mean 7 and variance 1.2.\n",
      "\n",
      "See some basic information on `z`.\n",
      "a 4-dimensional random vector (id: 140124682775472)\n",
      "\n",
      "Show the computed mean of `z`.\n",
      "Note that this is in general distinct from the specified mean.\n",
      "7.413238057514652\n",
      "\n",
      "Compute the norm squared of `z`.\n",
      "222.70686021336797\n"
     ]
    }
   ],
   "source": [
    "print('Examples of the `RandomVector` class.\\n')\n",
    "\n",
    "print('Create a random vector `x` in 10 dimensions.')\n",
    "x = RandomVector(10)\n",
    "print()\n",
    "\n",
    "print('Have `x` give us information about itself.')\n",
    "print(x)\n",
    "print()\n",
    "\n",
    "print('Check the dimension of `x`.')\n",
    "print(x.dim)\n",
    "print()\n",
    "\n",
    "print('View the components of `x`.')\n",
    "print(x.components)\n",
    "print()\n",
    "\n",
    "print('Note that the dimension is the same as the length of the component array.')\n",
    "print(x.dim)\n",
    "print(len(x.components))\n",
    "print()\n",
    "\n",
    "print('Check the mean of `x` as computed from its components.')\n",
    "print(x.mean())\n",
    "print()\n",
    "\n",
    "print('Create another random vector in 10 dimensions.')\n",
    "y = RandomVector(10)\n",
    "print()\n",
    "\n",
    "print('Note that `x` and `y` are distinct.')\n",
    "print(x)\n",
    "print(y)\n",
    "print()\n",
    "\n",
    "print('We can also specify the mean and variance of our random vector.')\n",
    "print('Create a 4-dimensional random vector of mean 7 and variance 1.2.')\n",
    "z = RandomVector(4,mean=7,variance=1.2)\n",
    "print()\n",
    "\n",
    "print('See some basic information on `z`.')\n",
    "print(z)\n",
    "print()\n",
    "\n",
    "print('Show the computed mean of `z`.')\n",
    "print('Note that this is in general distinct from the specified mean.')\n",
    "print(z.mean())\n",
    "print()\n",
    "\n",
    "print('Compute the norm squared of `z`.')\n",
    "print(z.norm_squared())"
   ]
  },
  {
   "cell_type": "code",
   "execution_count": 4,
   "metadata": {},
   "outputs": [],
   "source": [
    "def square_norm_expectation(m,dim,distribution='standard_normal',mean=0,variance=1):\n",
    "    \"\"\"\n",
    "    Given a random vector of dimension `dim` whose entries are random variables with zero means and unit variances we are told that the expected value of the norm squared is `dim`.\n",
    "    This function tests this claim.\n",
    "\n",
    "    Args:\n",
    "        m (int): The number of vectors we should use in our test.\n",
    "        dim (int): The dimension of the ambient real vector space.\n",
    "        distribution (str): The name of the distribution according to which the vector was generated.\n",
    "        mean = The mean of the distribution used.\n",
    "        variance = The variance of the distribution used.\n",
    "\n",
    "    Returns:\n",
    "        numpy.float64: The approximate expectation of the norm squared of such a random vector.\n",
    "    \"\"\"\n",
    "    \n",
    "    # Create a set of `m` random vectors in the appropriate space.\n",
    "    vectors = frozenset(RandomVector(dim,distribution,mean,variance) for i in range(m))\n",
    "    # Make a tuple out of the norms squared of these vectors.\n",
    "    norms_squared = tuple(x.norm_squared() for x in vectors)\n",
    "    # Compute the average (counting measure expectation) and return it.\n",
    "    return sum(norms_squared)/m"
   ]
  },
  {
   "cell_type": "code",
   "execution_count": 5,
   "metadata": {},
   "outputs": [
    {
     "name": "stdout",
     "output_type": "stream",
     "text": [
      "Examples of the `square_norm_expectation` function.\n",
      "\n",
      "Compute the approximate expectation of the norm squared of a random vector with zero means and unit variances from the normal distribution.\n",
      "In this case we use 10000 samples in a 17 dimensional space.\n",
      "17.05514465391004\n",
      "\n",
      "We plot the computed expectation obtained from 1000 samples for various choices of `dim` from 1 to 30.\n"
     ]
    },
    {
     "data": {
      "image/png": "[encoded data removed]",
      "text/plain": [
       "<Figure size 432x288 with 1 Axes>"
      ]
     },
     "metadata": {
      "needs_background": "light"
     },
     "output_type": "display_data"
    },
    {
     "name": "stdout",
     "output_type": "stream",
     "text": [
      "We can also use a different mean, say 10 rather than 0.\n"
     ]
    },
    {
     "data": {
      "image/png": "[encoded data removed]",
      "text/plain": [
       "<Figure size 432x288 with 1 Axes>"
      ]
     },
     "metadata": {
      "needs_background": "light"
     },
     "output_type": "display_data"
    },
    {
     "name": "stdout",
     "output_type": "stream",
     "text": [
      "Other distributions also give different results.\n"
     ]
    },
    {
     "data": {
      "image/png": "[encoded data removed]",
      "text/plain": [
       "<Figure size 432x288 with 1 Axes>"
      ]
     },
     "metadata": {
      "needs_background": "light"
     },
     "output_type": "display_data"
    }
   ],
   "source": [
    "print('Examples of the `square_norm_expectation` function.\\n')\n",
    "\n",
    "print('Compute the approximate expectation of the norm squared of a random vector with zero means and unit variances from the normal distribution.')\n",
    "print('In this case we use 10000 samples in a 17 dimensional space.')\n",
    "print(square_norm_expectation(1000,17))\n",
    "print()\n",
    "\n",
    "print('We plot the computed expectation obtained from 1000 samples for various choices of `dim` from 1 to 30.')\n",
    "x = np.arange(1,31)\n",
    "y = np.array(tuple(square_norm_expectation(1000,dim) for dim in range(1,31)))\n",
    "plt.title(\"Computed expectation for various dimensions (normal distribution)\") \n",
    "plt.xlabel(\"Dimension\") \n",
    "plt.ylabel(\"Computed expectation\") \n",
    "plt.plot(x,y) \n",
    "plt.show()\n",
    "\n",
    "print('We can also use a different mean, say 10 rather than 0.')\n",
    "x = np.arange(1,31)\n",
    "y = np.array(tuple(square_norm_expectation(1000,dim,mean=10) for dim in range(1,31)))\n",
    "plt.title(\"Computed expectation for various dimensions (normal distribution, mean=10)\") \n",
    "plt.xlabel(\"Dimension\") \n",
    "plt.ylabel(\"Computed expectation\") \n",
    "plt.plot(x,y) \n",
    "plt.show()\n",
    "\n",
    "print('Other distributions also give different results.')\n",
    "x = np.arange(1,31)\n",
    "y = np.array(tuple(square_norm_expectation(1000,dim,mean=10,distribution='wald') for dim in range(1,31)))\n",
    "plt.title(\"Computed expectation for various dimensions (Wald distribution)\") \n",
    "plt.xlabel(\"Dimension\") \n",
    "plt.ylabel(\"Computed expectation\") \n",
    "plt.plot(x,y) \n",
    "plt.show()\n",
    "\n",
    "# To do:\n",
    "# 1) Explain the variance of the square norm expectation. Why is the line in the second example so much strighter?\n",
    "# 2) Normalize the square norm by the dimension and compute the standard deviation of this as dim goes to infinity.\n",
    "# 3) Plot random vectors in two dimensions normalized by their length. Look at the distribution of the distances between successive points on the circle."
   ]
  },
  {
   "cell_type": "code",
   "execution_count": null,
   "metadata": {},
   "outputs": [],
   "source": []
  }
 ],
 "metadata": {
  "kernelspec": {
   "display_name": "Python 3",
   "language": "python",
   "name": "python3"
  },
  "language_info": {
   "codemirror_mode": {
    "name": "ipython",
    "version": 3
   },
   "file_extension": ".py",
   "mimetype": "text/x-python",
   "name": "python",
   "nbconvert_exporter": "python",
   "pygments_lexer": "ipython3",
   "version": "3.8.2"
  }
 },
 "nbformat": 4,
 "nbformat_minor": 4
}
