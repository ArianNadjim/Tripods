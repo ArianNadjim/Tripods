{
 "cells": [
  {
   "cell_type": "code",
   "execution_count": null,
   "metadata": {},
   "outputs": [],
   "source": [
    "\"\"\"\n",
    "Concentration of the norm for random vectors\n",
    "Based on section 3.1 of Vershynin's 'High Dimensional Probability'\n",
    "\n",
    "Charlotte Aten (charlotte.aten@rochester.edu) 2020\n",
    "\"\"\""
   ]
  },
  {
   "cell_type": "code",
   "execution_count": 56,
   "metadata": {},
   "outputs": [],
   "source": [
    "# Imports\n",
    "import numpy as np"
   ]
  },
  {
   "cell_type": "code",
   "execution_count": 57,
   "metadata": {},
   "outputs": [],
   "source": [
    "class RandomVector:\n",
    "    \"\"\"\n",
    "    A random vector.\n",
    "    \n",
    "    Attributes:\n",
    "        components (numpy.ndarray): The components of the vector.\n",
    "        dim (int): The dimension in which the vector lies.\n",
    "    \"\"\"\n",
    "    \n",
    "    def __init__(self,dim,distribution='standard_normal',mean=0,variance=1):\n",
    "        \"\"\"\n",
    "        Args:\n",
    "            dim (int): The dimension in which the vector lies.\n",
    "            distribution (str): The name of the distribution according to which the vector was generated.\n",
    "            mean = The mean of the distribution used.\n",
    "            variance = The variance of the distribution used.\n",
    "        \"\"\"\n",
    "        \n",
    "        # Demand that `dim` is a natural number.\n",
    "        assert dim>0 and type(dim) is int\n",
    "        # Let the vector keep track of its dimension. (This is the same as its length.)\n",
    "        self.dim = dim\n",
    "        # Make a random number generator.\n",
    "        rng = np.random.default_rng()\n",
    "        # Create a numpy array with `dim` many entries according to `distribution`.\n",
    "        self.components = eval('np.array(rng.{0}({1}))'.format(distribution,dim))\n",
    "        # Change the mean and variance to the desired values.\n",
    "        self.components = mean+variance*self.components\n",
    "\n",
    "    def __repr__(self):\n",
    "        \"\"\"\n",
    "        Make it so that printing the vector returns basic information about it.\n",
    "        In order to see the components of a random vector `x` use `print(x.components)`.\n",
    "        \n",
    "        Returns:\n",
    "            str: The basic information on the vector.\n",
    "        \"\"\"\n",
    "\n",
    "        return 'a {}-dimensional random vector (id: {})'.format(self.dim,id(self))\n",
    "    \n",
    "    def norm_squared(self):\n",
    "        \"\"\"\n",
    "        Compute the Euclidean norm squared of the vector, which is the sum of the squares of the entries.\n",
    "        \n",
    "        Returns:\n",
    "            numpy.float64: The square of the norm of the vector.\n",
    "        \"\"\"\n",
    "\n",
    "        return sum(t**2 for t in self.components)"
   ]
  },
  {
   "cell_type": "code",
   "execution_count": 47,
   "metadata": {},
   "outputs": [
    {
     "name": "stdout",
     "output_type": "stream",
     "text": [
      "a 10-dimensional random vector (id: 139823688195376)\n",
      "[2.46685588 4.71947565 4.05350535 3.74205518 5.15681658 3.68144563\n",
      " 3.22373151 5.47381669 3.74878663 4.65204564]\n",
      "4.091853474303443\n",
      "<class 'numpy.ndarray'>\n",
      "174.9885539810628\n",
      "<class 'numpy.float64'>\n"
     ]
    }
   ],
   "source": [
    "# Examples of the `RandomVect\n",
    "\n",
    "x = RandomVector(10,mean=4,variance=1)\n",
    "print(x)\n",
    "print(x.components)\n",
    "print(x.components.mean())\n",
    "print(type(x.components))\n",
    "print(x.norm_squared())\n",
    "print(type(x.norm_squared()))"
   ]
  },
  {
   "cell_type": "code",
   "execution_count": 55,
   "metadata": {},
   "outputs": [],
   "source": [
    "def square_norm_expectation(m,dim,distribution='standard_normal',mean=0,variance=1):\n",
    "    \"\"\"\n",
    "    Given a random vector of dimension `dim` whose entries are random variables with zero means and unit variances we are told that the expected value of the norm squared is `dim`.\n",
    "    This function tests this claim.\n",
    "\n",
    "    Args:\n",
    "        m (int): The number of vectors we should use in our test.\n",
    "        dim (int): The dimension of the ambient real vector space.\n",
    "        distribution (str): The name of the distribution according to which the vector was generated.\n",
    "        mean = The mean of the distribution used.\n",
    "        variance = The variance of the distribution used.\n",
    "\n",
    "    Returns:\n",
    "        numpy.float64: The approximate expectation of the norm squared of such a random vector.\n",
    "    \"\"\"\n",
    "    \n",
    "    # Create a set of `m` random vectors in the appropriate space.\n",
    "    vectors = frozenset(RandomVector(dim,distribution,mean,variance) for i in range(m))\n",
    "    # Make a tuple out of the norms squared of these vectors.\n",
    "    norms_squared = tuple(x.norm_squared() for x in vectors)\n",
    "    # Compute the average (counting measure expectation) and return it.\n",
    "    return sum(norms_squared)/m"
   ]
  },
  {
   "cell_type": "code",
   "execution_count": 54,
   "metadata": {},
   "outputs": [
    {
     "name": "stdout",
     "output_type": "stream",
     "text": [
      "<class 'numpy.float64'>\n"
     ]
    }
   ],
   "source": [
    "print(type(square_norm_expectation(100,6)))"
   ]
  },
  {
   "cell_type": "code",
   "execution_count": null,
   "metadata": {},
   "outputs": [],
   "source": []
  }
 ],
 "metadata": {
  "kernelspec": {
   "display_name": "Python 3",
   "language": "python",
   "name": "python3"
  },
  "language_info": {
   "codemirror_mode": {
    "name": "ipython",
    "version": 3
   },
   "file_extension": ".py",
   "mimetype": "text/x-python",
   "name": "python",
   "nbconvert_exporter": "python",
   "pygments_lexer": "ipython3",
   "version": "3.8.2"
  }
 },
 "nbformat": 4,
 "nbformat_minor": 4
}
