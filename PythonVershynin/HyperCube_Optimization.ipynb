{
 "cells": [
  {
   "cell_type": "markdown",
   "metadata": {},
   "source": [
    "# Some Basic Computational Techniques for Optimization\n",
    "\n",
    "In this worksheet we will go over implementing some basic techniques that are widely used for computational optimization in data science and computer science. More specifically, we will look at what are known as *local search* strategies, where we search through some *state space* in order to optimize a given *cost function* (a function that maps states to numbers)."
   ]
  },
  {
   "cell_type": "markdown",
   "metadata": {},
   "source": [
    "## The Setup\n",
    "\n",
    "Recall the Approximate Caratheodory Theorem from Vershynin's book:\n",
    "\n",
    "**Theorem 0.0.2** (Approximate Caratheodory's Theorem)**.** *Consider a set $T \\subset \\mathbb{R}^n$ whose diameter is bounded by $1$. Then, for every point $x \\in \\text{conv}(T)$ and every integer $k$, one can find points $x_1,\\ldots,x_k \\in T$ such that*\n",
    "$$ \\left\\lVert x - \\frac{1}{k}\\sum_{j=1}^k x_j \\right\\rVert \\leq \\frac{1}{\\sqrt k}$$\n",
    "\n",
    "In this worksheet we will verify the theorem in the specific case of an $n$-dimensional hypercube, $\\{0,1\\}^n$. We will computationally find the optimum (minimum) value of the function on the left hand side and verify that it is indeed less than $1/\\sqrt{k}$.\n",
    "\n",
    "## The Problem\n",
    "\n",
    "Here is a more specific statement of the of the problem we want to solve computationally.\n",
    "* **Input**: The input is a point $x$ inside the convex hull of the hypercube $\\{0,1\\}^n$ and an integer $k$.\n",
    "* **Output**: The output should be a list of $k$ points, each a vertex of the hypercube that minimizes the quantity on the LHS of the inequality from Theorem 0.0.2, as well as the minimum quantity found."
   ]
  },
  {
   "cell_type": "markdown",
   "metadata": {},
   "source": [
    "## Preliminaries\n",
    "\n",
    "Local search techniques rely on three basic objects:\n",
    "* **States**: These are the entities we are interested in finding the optimal configuration of. In our case, states would be lists of $k$ points, each of them being a vertex of the hypercube $\\{0,1\\}^n$.\n",
    "* **The Cost Function**: A function from states to numbers. This is the quantity we want to optimize. In our case the cost function is the quantity on the LHS. We want to minimize this.\n",
    "* **The Successor Function**: This is a function that maps states to a set of \"successor\" states. The search algorithm will follow the successor to transition. A good successor function should be able to reach every state from every other state (it should be \"connected\")\n",
    "\n",
    "With this in mind, let's get into some coding!"
   ]
  },
  {
   "cell_type": "code",
   "execution_count": 1,
   "metadata": {},
   "outputs": [],
   "source": [
    "# Some useful imports\n",
    "import random as rand\n",
    "import numpy as np\n",
    "import heapq\n",
    "import matplotlib.pyplot as plt\n",
    "import copy\n",
    "import math\n",
    " \n",
    "# Fill in code where indicated below:\n",
    "\n",
    "n = 10 # Fill in your favorite dimension\n",
    "k = 10 # Number of points\n",
    "x = np.array([rand.random() for i in range(n)]) # A random (or specific) point in the convex hull.\n",
    "                                                # We recommend using np arrays to represent these,\n",
    "                                                # but it's up to you. As written, this line generates\n",
    "                                                # a random point in the hull as an np array."
   ]
  },
  {
   "cell_type": "markdown",
   "metadata": {},
   "source": [
    "# The State Representation\n",
    "\n",
    "How would we represent a list of $k$ $n$-tuples in Python? One way to do this would be to have a python list of tuples. But we should keep in mind that we might produce many such states, so our representation should be as efficient as possible. One efficient structure that we recommend is a 2D numpy array with rows representing our $n$-tuples. "
   ]
  },
  {
   "cell_type": "code",
   "execution_count": 2,
   "metadata": {},
   "outputs": [],
   "source": [
    "# Define a cost function. You may assume that the state is in the representation we recommended above.\n",
    "# If you had something better in mind, use it.\n",
    "#\n",
    "# Parameters: a state and the point x\n",
    "# Returns: the cost of the state w.r.t. x\n",
    "def cost(state, x):\n",
    "    return -1 # TODO: Write this!"
   ]
  },
  {
   "cell_type": "code",
   "execution_count": 3,
   "metadata": {},
   "outputs": [],
   "source": [
    "# Define a successor function. One successor function we tried using was one which\n",
    "# returned a set containing all the points from the original state, with one point moved along an edge,\n",
    "# that is, with one of the points flipped (the coordinates are all 0 or 1)\n",
    "# Feel free to play around with your own successor function.\n",
    "#\n",
    "# Parameters: a state\n",
    "# Returns: a set/list of states reachable from the given step in one transition\n",
    "def successors(state):\n",
    "    return [] # TODO: Write this!"
   ]
  },
  {
   "cell_type": "markdown",
   "metadata": {},
   "source": [
    "## Hillclimbing Search\n",
    "\n",
    "Hillclimbing search is a local search strategy that at each step moves towards the best-looking successor state (optimal cost). When it reaches a state from where every successor has worse cost, it declares victory and returns what it has. Here's the algorithm to make things more precise:\n",
    "\n",
    "1. Initialize a `current` state, and set it to some valid state.\n",
    "2. Loop: \\\n",
    "    a. Get all successor states of `current`. \\\n",
    "    b. Check if the best-cost successor state is better than `current`. \\\n",
    "    c. If it is, then set `current` to that state. \\\n",
    "    d. If it isn't, return `current` as the best.\n",
    "\n",
    "Let us implement hillclimbing search for our example."
   ]
  },
  {
   "cell_type": "code",
   "execution_count": 7,
   "metadata": {},
   "outputs": [],
   "source": [
    "# Implement hillclimbing search to find an optimum in our setup.\n",
    "# Constants n, k, x are defined above.\n",
    "#\n",
    "# Returns: the optimal state, the optimal cost value, and a list of the\n",
    "# costs of best-cost successors encoutered along the search (`history`\n",
    "# in the template given; this is for plotting)\n",
    "def hillclimbing():\n",
    "    # TODO: Write this!\n",
    "    current = -1\n",
    "    history = []\n",
    "    return current, cost(current, x), history # `current` here should be the optimal state\n",
    "                                              # Returning in the format is nice because it'll work with the plotting\n",
    "                                              # code given below. If you choose to return differently, be sure to \n",
    "                                              # fix the plotting."
   ]
  },
  {
   "cell_type": "code",
   "execution_count": 8,
   "metadata": {},
   "outputs": [
    {
     "name": "stdout",
     "output_type": "stream",
     "text": [
      "Best :  -1\n"
     ]
    },
    {
     "data": {
      "image/png": "[encoded data removed]",
      "text/plain": [
       "<Figure size 432x288 with 1 Axes>"
      ]
     },
     "metadata": {
      "needs_background": "light"
     },
     "output_type": "display_data"
    }
   ],
   "source": [
    "# A quick test and plot\n",
    "state, finalCost, history = hillclimbing()\n",
    "print(\"Best : \", finalCost)\n",
    "\n",
    "# Plot a graph with the search history as well as a dashed line at 1/sqrt(k)\n",
    "plt.figure()\n",
    "plt.plot(history)\n",
    "plt.axhline(1/math.sqrt(k), color='r', linestyle='dashed')\n",
    "plt.show()"
   ]
  },
  {
   "cell_type": "markdown",
   "metadata": {},
   "source": [
    "## Beam Search\n",
    "\n",
    "Beam Search is another local search strategy which instead of looking at one state at once, it looks at some set number $\\beta$ of states (the \"beam size\"). At each step the successors from these states are examined and the best $l$ are taken. For simplicity we stop searching after some set number of timesteps. The stop condition is something that can be played around with. Stated more formally:\n",
    "\n",
    "1. Initialize `current` as a list of $\\beta$ states.\n",
    "2. Loop some number of times: \\\n",
    "    a. Loop through each state in `current` and get the successors. \\\n",
    "    b. Choose the $\\beta$ best-cost successor states and set them to `current`.\n",
    "\n",
    "Let us implement beam search."
   ]
  },
  {
   "cell_type": "code",
   "execution_count": 10,
   "metadata": {},
   "outputs": [],
   "source": [
    "def beamSearch(beta, numsteps):\n",
    "    # TODO: Write this!\n",
    "    history = []\n",
    "    return -1, cost(-1, x), history # Replace -1 with the best state your code finds. As before, returning in this\n",
    "                                    # manner is nice for plotting purposes. If you change it, be sure to modify the\n",
    "                                    # code for plotting below as well"
   ]
  },
  {
   "cell_type": "code",
   "execution_count": 11,
   "metadata": {},
   "outputs": [
    {
     "name": "stdout",
     "output_type": "stream",
     "text": [
      "Best :  -1\n"
     ]
    },
    {
     "data": {
      "image/png": "[encoded data removed]",
      "text/plain": [
       "<Figure size 432x288 with 1 Axes>"
      ]
     },
     "metadata": {
      "needs_background": "light"
     },
     "output_type": "display_data"
    }
   ],
   "source": [
    "# A quick test and plot\n",
    "state, best_fit, history = beamSearch(10, 100)\n",
    "print(\"Best : \", finalCost)\n",
    "\n",
    "# Plot a graph\n",
    "plt.figure()\n",
    "plt.plot(history)\n",
    "plt.axhline(1/math.sqrt(k), color='r', linestyle='dashed')\n",
    "plt.show()"
   ]
  },
  {
   "cell_type": "markdown",
   "metadata": {},
   "source": [
    "# Things to Think About\n",
    "\n",
    "Here are some things to think about:\n",
    "* Does the Approximate Caratheodory bound work?\n",
    "* Could we use different successor functions and/or modify our search strategy to get better approximations?\n",
    "* How tight is the $1/\\sqrt{k}$ bound guaranteed by the theorem?\n",
    "* Why is/isn't that bound tight?\n",
    "* Can we improve this bound for particular point configurations? Another worksheet in this collection walks through the proof of the Approximate Caratheodory Theorem in a particular case to examine this."
   ]
  },
  {
   "cell_type": "markdown",
   "metadata": {},
   "source": [
    "# More Things to Do!\n",
    "\n",
    "## Simulated Annealing\n",
    "\n",
    "One last technique we will look at is simulated annealing. Simulated annealing is a probabilistic technique for approximating the global optimum of a given function. The name (and technique) is inspired by annealing in metallurgy, a technique involving heating and controlled cooling of a metal. Simulated annealing is similar to hillclimbing, but with the possibility of taking, every once in a while, non-optimal paths with the hope that they end up getting us over a local optimum. The probability of taking non-optimal paths is high when we begin, and reduces as the process goes on according to some time schedule.\n",
    "\n",
    "If interested, dig into simulated annealing (the [Wikipedia page](https://en.wikipedia.org/wiki/Simulated_annealing#Pseudocode) is a good resource) and implement it here.\n",
    "\n",
    "**Note:** This will be more sophisticated code than the code for the two other techniques we saw. Do not be upset if you don't get it on the first try! The solution we provide has some code (that doesn't work) that could be used as a starting point. Feel free to check it out in case you are stuck."
   ]
  },
  {
   "cell_type": "code",
   "execution_count": 13,
   "metadata": {},
   "outputs": [
    {
     "data": {
      "image/png": "[encoded data removed]",
      "text/plain": [
       "<Figure size 432x288 with 1 Axes>"
      ]
     },
     "metadata": {
      "needs_background": "light"
     },
     "output_type": "display_data"
    }
   ],
   "source": [
    "def annealing():\n",
    "    return []\n",
    "\n",
    "# plot the figure\n",
    "plt.figure()\n",
    "plt.axhline(1/math.sqrt(k), color='r', linestyle='dashed')\n",
    "plt.plot(annealing())\n",
    "plt.show()"
   ]
  },
  {
   "cell_type": "markdown",
   "metadata": {},
   "source": [
    "## Other Optimization Strategies\n",
    "\n",
    "There are many more optimization strategies used for such problems. Neural nets, genetic algorithms, and stochastic search techniques are some of them. We encourage you to check these out and implement them!"
   ]
  },
  {
   "cell_type": "markdown",
   "metadata": {},
   "source": [
    "Copyright (c) 2020 TRIPODS/GradStemForAll 2020 Team"
   ]
  }
 ],
 "metadata": {
  "kernelspec": {
   "display_name": "Python 3",
   "language": "python",
   "name": "python3"
  },
  "language_info": {
   "codemirror_mode": {
    "name": "ipython",
    "version": 3
   },
   "file_extension": ".py",
   "mimetype": "text/x-python",
   "name": "python",
   "nbconvert_exporter": "python",
   "pygments_lexer": "ipython3",
   "version": "3.7.6"
  }
 },
 "nbformat": 4,
 "nbformat_minor": 4
}
