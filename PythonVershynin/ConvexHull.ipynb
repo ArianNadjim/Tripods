{
 "cells": [
  {
   "cell_type": "code",
   "execution_count": 105,
   "metadata": {},
   "outputs": [
    {
     "data": {
      "image/png": "[encoded data removed]",
      "text/plain": [
       "<Figure size 576x576 with 1 Axes>"
      ]
     },
     "metadata": {
      "needs_background": "light"
     },
     "output_type": "display_data"
    }
   ],
   "source": [
    "# import numpy as np\n",
    "import matplotlib.pyplot as plt\n",
    "import random\n",
    "\n",
    "# define a point class for convenience\n",
    "class PointR2:\n",
    "    def __init__(self, x1, x2):\n",
    "        self.x1 = x1\n",
    "        self.x2 = x2\n",
    "        \n",
    "    def __repr__(self):\n",
    "        return '(' + str(self.x1) + ', ' + str(self.x2) + ')'\n",
    "    def __str__(self):\n",
    "        return '(' + str(self.x1) + ', ' + str(self.x2) + ')'\n",
    "    def add(self, p):\n",
    "        return PointR2(self.x1 + p.x1, self.x2 + p.x2)\n",
    "    def subtract(self, p):\n",
    "        return PointR2(self.x1 - p.x1, self.x2 - p.x2)\n",
    "    def sqrLen(self):\n",
    "        return self.x1*self.x1 + self.x2*self.x2\n",
    "\n",
    "# View p and q as vectors in R3 and return the x3-component of p x q\n",
    "def crossProd(p, q):\n",
    "    return p.x1 * q.x2 - q.x1 * p.x2\n",
    "\n",
    "# return square of Euclidean distance\n",
    "def sqrDist(p, q):\n",
    "    return (p.x1 - q.x1)**2 + (p.x2 - q.x2)**2\n",
    "    \n",
    "# where is the point r w.r.t. the line pq\n",
    "# if r > 0 then r is to the left of pq\n",
    "# if r < 0 then r is to the right of pq\n",
    "# if r = 0 then p,q,r are colinear\n",
    "def orientation(p, q, r):\n",
    "    return crossProd(q.subtract(p), r.subtract(p))\n",
    "\n",
    "\n",
    "\n",
    "# given a finite set T of points in R2,\n",
    "# find the boundary polygon of conv(T)\n",
    "# returns the vertices of the polygon clockwise\n",
    "# The algorithm is basically a selection sort based on the 'leftness' of a point w.r.t others\n",
    "def getConvexHullR2(T):\n",
    "    # minimize over x1-coodinate of points\n",
    "    p = min(T, key = lambda point: point.x1)\n",
    "    # get the index of the x1-coord minimizer in the list T\n",
    "    index = T.index(p);   \n",
    "    \n",
    "    l = index\n",
    "    # initialize a list of \n",
    "    result = []\n",
    "    result.append(p)\n",
    "    while(True):\n",
    "        # q is chosen so that q != l\n",
    "        q = (l + 1) % len(T)\n",
    "        for i in range(len(T)):\n",
    "            if i == l:\n",
    "                continue\n",
    "            \n",
    "            # get the orientation of T[i] w.r.t line T[l]T[q]\n",
    "            d = orientation(T[l], T[q], T[i])\n",
    "            # if T[i] is to the left of T[l]T[q], do i->q (i is the new leftmost point)\n",
    "            # if T[i] lies on T[l]T[q], choose T[i] as the new point only if \n",
    "            # length of T[l]T[i] is greater than length of T[l]T[q]\n",
    "            # if i = q then we ignore it\n",
    "            if d > 0 or (d == 0 and sqrDist(T[l],T[i]) > sqrDist(T[l],T[q])):\n",
    "                q = i\n",
    "        # After the for-loop terminates, T[q] is the leftmost w.r.t. T[l]\n",
    "        l = q\n",
    "        # we have closed the polygon and are finished\n",
    "        if l == index:\n",
    "            break\n",
    "        # otherwise add T[q] to the path\n",
    "        result.append(T[q])\n",
    "    return result\n",
    "        \n",
    "# initialize a list of N random points\n",
    "N = 50\n",
    "T = [PointR2(a[0], a[1]) for a in \n",
    "    [[random.random() for i in range(2)] for j in range(N)]]\n",
    "# print(T)  \n",
    "# Compute the convex hull\n",
    "hull = getConvexHullR2(T)\n",
    "#print(hull)\n",
    "\n",
    "\n",
    "#-------------------- Plotting ------------------#\n",
    "\n",
    "\n",
    "# Plot the points here\n",
    "\n",
    "# Plot the polygon given a set of points\n",
    "# def plotPolygon(T):\n",
    "    \n",
    "plt.figure(figsize = (8,8))\n",
    "plt.axis('equal')\n",
    "plt.fill([p.x1 for p in hull], [p.x2 for p in hull], 'y')\n",
    "plt.plot([p.x1 for p in T], [p.x2 for p in T], 'or')\n",
    "plt.show()"
   ]
  },
  {
   "cell_type": "raw",
   "metadata": {},
   "source": []
  },
  {
   "cell_type": "code",
   "execution_count": null,
   "metadata": {},
   "outputs": [],
   "source": []
  }
 ],
 "metadata": {
  "kernelspec": {
   "display_name": "Python 3",
   "language": "python",
   "name": "python3"
  },
  "language_info": {
   "codemirror_mode": {
    "name": "ipython",
    "version": 3
   },
   "file_extension": ".py",
   "mimetype": "text/x-python",
   "name": "python",
   "nbconvert_exporter": "python",
   "pygments_lexer": "ipython3",
   "version": "3.7.4"
  }
 },
 "nbformat": 4,
 "nbformat_minor": 4
}
