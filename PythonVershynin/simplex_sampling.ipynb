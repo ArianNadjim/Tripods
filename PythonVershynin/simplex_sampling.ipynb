{
 "cells": [
  {
   "cell_type": "code",
   "execution_count": 199,
   "metadata": {},
   "outputs": [
    {
     "name": "stdout",
     "output_type": "stream",
     "text": [
      "Minimum distance:  0.008011340954477995\n",
      "Min acheived:  [16, 13, 16, 13, 13, 13, 6, 16, 13, 6, 13, 16, 6, 17, 16, 4, 13, 13, 13, 1, 13, 12, 13, 13, 13, 13, 13, 13, 16, 13, 13, 12, 13, 13, 12, 16, 13, 13, 13, 13, 13, 13, 17, 13, 16, 13, 13, 13, 1, 13, 13, 13, 13, 13, 13, 12, 6, 13, 6, 16, 13, 13, 13, 13, 1, 12, 13, 13, 16, 13, 13, 6, 1, 13, 13, 13, 6, 16, 6, 12, 13, 13, 13, 13, 13, 13, 13, 16, 13, 13, 13, 1, 13, 13, 13, 13, 16, 13, 1, 1]\n",
      "Point:  [1.50750214e-03 6.87478613e-02 3.91587774e-05 2.03040696e-05\n",
      " 8.87455559e-03 7.13143107e-05 7.82031013e-02 1.28594810e-03\n",
      " 1.14085166e-03 1.94929751e-03 7.87245859e-04 2.51850540e-04\n",
      " 5.73617974e-02 6.33539854e-01 3.45203331e-04 1.99413206e-03\n",
      " 1.28310589e-01 1.53193804e-02 2.36913757e-05 2.26360656e-04]\n"
     ]
    },
    {
     "data": {
      "image/png": "[encoded data removed]",
      "text/plain": [
       "<Figure size 432x288 with 1 Axes>"
      ]
     },
     "metadata": {
      "needs_background": "light"
     },
     "output_type": "display_data"
    },
    {
     "data": {
      "text/plain": [
       "'\\nPlotting samples from simplex with n = 2\\n'"
      ]
     },
     "execution_count": 199,
     "metadata": {},
     "output_type": "execute_result"
    }
   ],
   "source": [
    "\"\"\"\n",
    "Mirroring the proof of Approx. Caratheodory in the case of a simplex\n",
    "Arian Nadjimzadah\n",
    "\"\"\"\n",
    "import matplotlib.pyplot as plt\n",
    "import numpy as np\n",
    "import random as rand\n",
    "import math\n",
    "\n",
    "\"\"\"\n",
    "Sample a point from convex hull of e1 = (0,...,0,1), ... , en = (1,0,...,0),\n",
    "which is the set \\{(x_1, \\ldots ,x_{n-1}, 1 - (x_1 + \\cdots + x_{n-1})\\}\n",
    "\"\"\"\n",
    "def sample_from_simplex(n):\n",
    "    pt = np.zeros(n); # Initialize a numpy array\n",
    "    perm = np.random.permutation(n) # Permute the numbers 0,...,n-1\n",
    "    accum = 1.0;\n",
    "    for i in perm[:-1]:\n",
    "        # sample from viable range\n",
    "        pt[i] = np.random.uniform(0,accum)\n",
    "        accum = accum - pt[i]\n",
    "    pt[perm[n-1]] = accum\n",
    "    return pt\n",
    "\n",
    "\"\"\"\n",
    "Sample k random vectors according to prob (probability of e1,...,en)\n",
    "\"\"\"\n",
    "n = 20\n",
    "k = 100\n",
    "# Sample random vectors based on convex combination\n",
    "x = sample_from_simplex(n)\n",
    "   \n",
    "    \n",
    "def cost(state, x):\n",
    "    pt_sum = np.zeros(n)\n",
    "    for p in state:\n",
    "        pt_sum[p] += 1\n",
    "    distance = np.sqrt(np.sum((x - pt_sum/k)**2))\n",
    "    return distance    \n",
    "    \n",
    "\"\"\"\n",
    "Determine the closeness of fit over multiple trials\n",
    "\"\"\"\n",
    "def sample_vectors(numTrials, distribution):\n",
    "    numTrials = 100000\n",
    "    trialFit = []\n",
    "    trial = []\n",
    "    # Get the distance between average of the k random vectors and x\n",
    "    for i in range(numTrials):\n",
    "        # sample vectors based on distribution\n",
    "        # Integer represents position of '1' in random vector\n",
    "        points = rand.choices([i for i in range(n)], weights = distribution, k = k)\n",
    "        # find the distance from the average of points to x\n",
    "        pt_sum = np.zeros(n)\n",
    "        for p in points:\n",
    "            pt_sum[p] += 1\n",
    "        distance = np.sqrt(np.sum((x - pt_sum/k)**2))\n",
    "        trialFit.append(distance)\n",
    "        trial.append(points)\n",
    "    return trialFit, trial\n",
    "    \n",
    "# trialFit_rand, trial = sample_vectors(10000, [1]*n)\n",
    "trialFit_carth, trial = sample_vectors(10000, x)\n",
    "trialFit = trialFit_carth\n",
    "# Print minimum of distances\n",
    "print('Minimum distance: ', min(trialFit))\n",
    "best = min(trial, key = lambda state: cost(state, x))\n",
    "print(\"Min acheived: \", best)\n",
    "print('Point: ', x)\n",
    "\n",
    "\"\"\"\n",
    "Plot a histogram of trialFit data\n",
    "\"\"\" \n",
    "num_bins = 20\n",
    "plt.hist(trialFit, num_bins, facecolor='blue', alpha=0.5)\n",
    "plt.axvline(1/math.sqrt(k), color='k', linestyle='dashed', linewidth=1)\n",
    "plt.axvline(np.mean(trialFit), color='b', linestyle='dashed', linewidth=1)\n",
    "plt.show()\n",
    "\n",
    "\n",
    "\n",
    "\"\"\"\n",
    "Plotting samples from simplex with n = 2\n",
    "\"\"\"\n",
    "# A = [sample_from_simplex(2) for i in range(1000)]\n",
    "# plt.figure(figsize = (8,8))\n",
    "# plt.axis('equal')\n",
    "# plt.plot([a[0] for a in A], [a[1] for a in A], 'or')\n",
    "# plt.show()\n",
    "        \n",
    "    \n",
    "    "
   ]
  },
  {
   "cell_type": "code",
   "execution_count": 191,
   "metadata": {},
   "outputs": [
    {
     "name": "stdout",
     "output_type": "stream",
     "text": [
      "Best of search:  0.039582041322608945\n",
      "Best:  [75 75 75 75 75 75 75 75 75 99 75 75 75 75 75 75 75 78 75 75]\n"
     ]
    },
    {
     "data": {
      "image/png": "[encoded data removed]",
      "text/plain": [
       "<Figure size 432x288 with 1 Axes>"
      ]
     },
     "metadata": {
      "needs_background": "light"
     },
     "output_type": "display_data"
    }
   ],
   "source": [
    "\"\"\"\n",
    "Running local search\n",
    "\"\"\"\n",
    "#n = 10;\n",
    "#k = 20;\n",
    "#x = sample_from_simplex(n)\n",
    "# A state is represented by an array of integers, each of which represents the position of 1\n",
    "\n",
    "def cost(state, x):\n",
    "    pt_sum = np.zeros(n)\n",
    "    for p in state:\n",
    "        pt_sum[p] += 1\n",
    "    distance = np.sqrt(np.sum((x - pt_sum/k)**2))\n",
    "    return distance\n",
    "\n",
    "def getSuccessors(state):\n",
    "    successors = [];\n",
    "    for i in range(k):\n",
    "        for j in range(n):\n",
    "            succ = state.copy() \n",
    "            succ[i] = j\n",
    "            successors.append(succ);\n",
    "    return successors;\n",
    "\n",
    "def hillclimbing():\n",
    "    trialFit = [];\n",
    "    # Sample an initial state (uniformly now but could be improved)\n",
    "    current = np.array([rand.randint(0,n-1) for i in range(k)]);\n",
    "    # begin the descent!\n",
    "    while(True):\n",
    "        # find the minimum cost neighbor\n",
    "        neighbor = min(getSuccessors(current), key = lambda state: cost(state, x));\n",
    "        \n",
    "        # end if we reach a local min\n",
    "        neighbor_cost = cost(neighbor,x);\n",
    "        if (neighbor_cost >= cost(current, x)):\n",
    "            return current, cost(current, x), trialFit;\n",
    "    \n",
    "        trialFit.append(neighbor_cost);\n",
    "        current = neighbor;\n",
    "\n",
    "state, finalCost, fit = hillclimbing();\n",
    "print(\"Best of search: \", finalCost)\n",
    "print(\"Best: \", state)\n",
    "# plot the figure\n",
    "plt.figure();\n",
    "plt.plot(fit)\n",
    "plt.show();"
   ]
  },
  {
   "cell_type": "code",
   "execution_count": 192,
   "metadata": {},
   "outputs": [
    {
     "name": "stdout",
     "output_type": "stream",
     "text": [
      "True\n"
     ]
    }
   ],
   "source": [
    "A = state.sort()\n",
    "B = best.sort()\n",
    "print(A == B)"
   ]
  },
  {
   "cell_type": "code",
   "execution_count": null,
   "metadata": {},
   "outputs": [],
   "source": []
  }
 ],
 "metadata": {
  "kernelspec": {
   "display_name": "Python 3",
   "language": "python",
   "name": "python3"
  },
  "language_info": {
   "codemirror_mode": {
    "name": "ipython",
    "version": 3
   },
   "file_extension": ".py",
   "mimetype": "text/x-python",
   "name": "python",
   "nbconvert_exporter": "python",
   "pygments_lexer": "ipython3",
   "version": "3.7.6"
  }
 },
 "nbformat": 4,
 "nbformat_minor": 4
}
