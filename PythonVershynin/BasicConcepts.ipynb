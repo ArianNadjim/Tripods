{
 "cells": [
  {
   "cell_type": "code",
   "execution_count": 156,
   "metadata": {
    "collapsed": true
   },
   "outputs": [],
   "source": [
    "import numpy as np\n",
    "import scipy.stats"
   ]
  },
  {
   "cell_type": "markdown",
   "metadata": {},
   "source": [
    "Implement basic probability concepts for random variables of various distributions (mean, variance, L_p norm, covariance)"
   ]
  },
  {
   "cell_type": "markdown",
   "metadata": {},
   "source": [
    "I. Normal Distribution"
   ]
  },
  {
   "cell_type": "code",
   "execution_count": 194,
   "metadata": {},
   "outputs": [
    {
     "name": "stdout",
     "output_type": "stream",
     "text": [
      "[ 0.71766628  1.10740402  1.51835073 -0.02241346 -0.23634159  0.9946374\n",
      " -0.22834492  1.45660728  0.08772058  1.32614504 -2.2440173  -0.519985\n",
      "  0.47802962  0.53307528 -0.42249049 -1.19492438 -1.68665846  0.42986169\n",
      " -0.20341079  0.17946266  0.38775923  0.93423199 -1.69897645 -0.44289532\n",
      "  0.17525638 -1.25521169  1.00693698  0.75029857 -0.37313003  0.72609735\n",
      "  0.18568003  1.06499742  2.16285669  1.6917077   1.24543738  0.31175796\n",
      " -0.50983365 -0.9941878  -3.60355749  1.48631732 -0.00961469  0.57609367\n",
      " -0.68282047 -0.28364228  2.81091833 -0.9435521  -0.18071856 -2.06716149\n",
      "  0.01092944 -0.78472049]\n"
     ]
    }
   ],
   "source": [
    "#Draw 50 samples from a random variable of normal distribution with mean = 0 and standard deviation = 1:\n",
    "sample_normal = np.random.normal(0,1,50)\n",
    "print(sample_normal)"
   ]
  },
  {
   "cell_type": "markdown",
   "metadata": {},
   "source": [
    "1) Implement basic probability concepts for samples drawn from the standard normal distribution using numpy functions:"
   ]
  },
  {
   "cell_type": "code",
   "execution_count": 203,
   "metadata": {},
   "outputs": [
    {
     "data": {
      "text/plain": [
       "0.075352562859296146"
      ]
     },
     "execution_count": 203,
     "metadata": {},
     "output_type": "execute_result"
    }
   ],
   "source": [
    "#Compute sample mean of sample_normal using numpy:\n",
    "np.mean(sample_normal)"
   ]
  },
  {
   "cell_type": "markdown",
   "metadata": {},
   "source": [
    "Question: Why is it reasonable to use sample mean for the estimation of the mean of the random variable? Hint: Law of large numbers."
   ]
  },
  {
   "cell_type": "code",
   "execution_count": 195,
   "metadata": {},
   "outputs": [
    {
     "data": {
      "text/plain": [
       "1.400494565442884"
      ]
     },
     "execution_count": 195,
     "metadata": {},
     "output_type": "execute_result"
    }
   ],
   "source": [
    "#Compute sample variance of sample_normal using numpy:\n",
    "np.var(sample_normal, ddof = 1)"
   ]
  },
  {
   "cell_type": "markdown",
   "metadata": {},
   "source": [
    "Question: What does \"ddof\" value represent for?"
   ]
  },
  {
   "cell_type": "markdown",
   "metadata": {},
   "source": [
    "2) Implement basic probability concepts for samples drawn from the standard normal distribution using self-defined functions:"
   ]
  },
  {
   "cell_type": "code",
   "execution_count": 196,
   "metadata": {},
   "outputs": [],
   "source": [
    "#Compute sample mean of a sample:\n",
    "def mean(ar):\n",
    "    return np.sum(ar)/len(ar)"
   ]
  },
  {
   "cell_type": "code",
   "execution_count": 197,
   "metadata": {
    "collapsed": true
   },
   "outputs": [],
   "source": [
    "#Compute sample variance of a sample:\n",
    "def variance(ar):\n",
    "    mean = np.sum(ar)/len(ar)\n",
    "    ar_demean = ar-mean\n",
    "    ar_demean_squared = np.square(ar_demean)\n",
    "    return np.sum(ar_demean_squared)/(len(ar)-1), ar_demean"
   ]
  },
  {
   "cell_type": "markdown",
   "metadata": {},
   "source": [
    "Question: To compute the sample variance, why is the denominator in the last step is (the number of the sample - 1), instead of (the number of the sample)? Hint: Bessel correction."
   ]
  },
  {
   "cell_type": "code",
   "execution_count": 198,
   "metadata": {
    "collapsed": true
   },
   "outputs": [],
   "source": [
    "#Compute L^p norm of a sample:\n",
    "def L_p(ar,p):\n",
    "    ar_abs_power_p = np.power(np.abs(ar),p)\n",
    "    return (np.sum(ar_abs_power_p)/len(ar))**(1/p)"
   ]
  },
  {
   "cell_type": "code",
   "execution_count": 199,
   "metadata": {
    "collapsed": true
   },
   "outputs": [],
   "source": [
    "#Compute L^infinity norm of a sample:\n",
    "def L_infinity(ar):\n",
    "    ar_abs = np.abs(ar)\n",
    "    return np.max(ar_abs)"
   ]
  },
  {
   "cell_type": "code",
   "execution_count": 200,
   "metadata": {
    "collapsed": true
   },
   "outputs": [],
   "source": [
    "#Compute covariance of two input samples:\n",
    "def cov(x,y):\n",
    "    if len(x) == len(y):\n",
    "        mean_x = np.mean(x)\n",
    "        mean_y = np.mean(y)\n",
    "        return np.sum((x - mean_x)*(y-mean_y))/(len(x)-1)\n",
    "    else:\n",
    "        print('The lengths of the two input vectors do not match.')"
   ]
  },
  {
   "cell_type": "markdown",
   "metadata": {},
   "source": [
    "Question: Why is the denominator in the last step is (the number of the sample - 1), instead of (the number of the sample)?"
   ]
  },
  {
   "cell_type": "code",
   "execution_count": 202,
   "metadata": {},
   "outputs": [
    {
     "name": "stdout",
     "output_type": "stream",
     "text": [
      "0.0753525628593\n"
     ]
    }
   ],
   "source": [
    "#Use the self-defined function to compute sample mean:\n",
    "print(mean(sample_normal))"
   ]
  },
  {
   "cell_type": "code",
   "execution_count": 184,
   "metadata": {},
   "outputs": [
    {
     "name": "stdout",
     "output_type": "stream",
     "text": [
      "(0.74900029786501776, array([ 0.01792614, -0.66601774, -1.18620725,  0.24369002, -0.38269036,\n",
      "       -0.36807706, -0.76929383,  0.90587123,  0.33292308, -0.23823899,\n",
      "       -0.98438843, -0.8069933 , -1.1570207 , -0.27938221,  1.10881267,\n",
      "       -0.03238071,  0.25399979,  0.57634566, -1.82952392,  0.67170463,\n",
      "       -0.50555514,  0.11577596, -0.63742917,  0.98650774,  0.28956239,\n",
      "       -0.70636513,  0.29947723, -1.06901314,  2.14040382, -0.80504817,\n",
      "        0.99296784,  0.26630317,  0.21553252,  0.93254975,  1.09215121,\n",
      "        1.91076632,  0.49844785, -0.72530536, -0.05672856,  0.64820135,\n",
      "       -1.29145284,  1.48351071, -0.66347369,  0.30739069,  0.09336475,\n",
      "       -0.01243336, -0.47564138, -1.08369666,  1.1448436 , -0.79667305]))\n"
     ]
    }
   ],
   "source": [
    "#Use the self-defined function to compute sample variance:\n",
    "print(variance(sample_normal))"
   ]
  },
  {
   "cell_type": "code",
   "execution_count": 207,
   "metadata": {},
   "outputs": [
    {
     "name": "stdout",
     "output_type": "stream",
     "text": [
      "1.41991993661\n"
     ]
    }
   ],
   "source": [
    "#Use the self-defined function to compute L^3 norm of the sample:\n",
    "print(L_p(sample_normal-mean(sample_normal),3))"
   ]
  },
  {
   "cell_type": "code",
   "execution_count": 206,
   "metadata": {},
   "outputs": [
    {
     "name": "stdout",
     "output_type": "stream",
     "text": [
      "3.60355748749\n"
     ]
    }
   ],
   "source": [
    "#Use the self-defined function to compute L^infinity norm of the sample:\n",
    "print(L_infinity(sample_normal))"
   ]
  },
  {
   "cell_type": "code",
   "execution_count": 205,
   "metadata": {},
   "outputs": [
    {
     "name": "stdout",
     "output_type": "stream",
     "text": [
      "0.01887340265\n"
     ]
    }
   ],
   "source": [
    "#Use the self-defined function to compute the covariance of two samples:\n",
    "sample_1 = sample_normal[1:11]\n",
    "sample_2 = sample_normal[11:21]\n",
    "print(cov(sample_1,sample_2))"
   ]
  },
  {
   "cell_type": "code",
   "execution_count": null,
   "metadata": {
    "collapsed": true
   },
   "outputs": [],
   "source": []
  }
 ],
 "metadata": {
  "kernelspec": {
   "display_name": "Python 3",
   "language": "python",
   "name": "python3"
  },
  "language_info": {
   "codemirror_mode": {
    "name": "ipython",
    "version": 3
   },
   "file_extension": ".py",
   "mimetype": "text/x-python",
   "name": "python",
   "nbconvert_exporter": "python",
   "pygments_lexer": "ipython3",
   "version": "3.6.3"
  }
 },
 "nbformat": 4,
 "nbformat_minor": 2
}
