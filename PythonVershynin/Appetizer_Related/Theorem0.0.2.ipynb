{
 "cells": [
  {
   "cell_type": "markdown",
   "metadata": {},
   "source": [
    "## Theorem 0.0.2 (Approximate Caratheodory's Theorem)\n",
    "In this lab we run through the proof of approximate Caratheodory, keeping an example to work with as we go.\n",
    "\n",
    "**Theorem 0.0.2** (Generalized)**.** *Consider a set $T \\subset \\mathbb{R}^n$. Then, for every point $x \\in \\text{conv}(T)$ and every integer $k$, one can find points $x_1,\\ldots,x_k \\in T$ such that*\n",
    "$$ \\left\\lVert x - \\frac{1}{k}\\sum_{j=1}^k x_j \\right\\rVert \\leq \\frac{\\text{diam}(T)}{\\sqrt k}$$"
   ]
  },
  {
   "cell_type": "code",
   "execution_count": 74,
   "metadata": {},
   "outputs": [],
   "source": [
    "# Some useful imports\n",
    "import matplotlib.pyplot as plt\n",
    "import numpy as np\n",
    "import random as rand\n",
    "import math\n",
    "\n",
    "# Here we give a set T in Rn and integer k to work with\n",
    "\n",
    "T = [np.array(arr) for arr in\n",
    "    [[1,0,0],\n",
    "    [0,1,0],\n",
    "    [0,0,1],\n",
    "    [0,0,0]]]\n",
    "\n",
    "n = len(T[0])\n",
    "k = 5\n"
   ]
  },
  {
   "cell_type": "markdown",
   "metadata": {},
   "source": [
    "To follow along in our example, our task is to find some $x \\in \\text{conv}(T)$ and express it as a convex combination of vectors in $T$. Say $|T| = m$."
   ]
  },
  {
   "cell_type": "code",
   "execution_count": 75,
   "metadata": {},
   "outputs": [],
   "source": [
    "m = len(T)"
   ]
  },
  {
   "cell_type": "markdown",
   "metadata": {},
   "source": [
    "Recalling the definition of the convex hull, this amounts to finding an assignment of coefficients $\\lambda_1, \\ldots, \\lambda_m$, so that $\\lambda_1 + \\cdots + \\lambda_m = 1$ and $\\lambda_1,\\ldots,\\lambda_m \\geq 0$.\n",
    "\n",
    "Below we present one way of doing this, but it would be nice to be able to sample more uniformly from $\\text{conv}(T)$. See if you can improve it!"
   ]
  },
  {
   "cell_type": "code",
   "execution_count": 76,
   "metadata": {},
   "outputs": [],
   "source": [
    "# Here we fix a point in conv(T) and express it as \n",
    "# a convex combination of vectors in T\n",
    "\n",
    "# The output is a list of lambda_1,...,lambda_m\n",
    "def sample_coefficients(T):\n",
    "    coefs = [0]*len(T) # initialize numpy array\n",
    "    perm = np.random.permutation(len(T)) # permute 0,...,m-1\n",
    "    accum = 1.0\n",
    "    for i in perm[:-1]:\n",
    "        # sample from viable range\n",
    "        coefs[i] = np.random.uniform(0,accum)\n",
    "        accum = accum - coefs[i]\n",
    "    coefs[perm[-1]] = accum\n",
    "    return coefs\n",
    "\n",
    "coefficients = sample_coefficients(T)"
   ]
  },
  {
   "cell_type": "markdown",
   "metadata": {},
   "source": [
    "We can now get $x \\in \\text{conv}(T)$ with $x = \\lambda_1 z_1 + \\cdots + \\lambda_m z_m$."
   ]
  },
  {
   "cell_type": "code",
   "execution_count": 77,
   "metadata": {},
   "outputs": [
    {
     "name": "stdout",
     "output_type": "stream",
     "text": [
      "[0.25995025 0.08592768 0.48270958]\n"
     ]
    }
   ],
   "source": [
    "x = np.zeros(n)\n",
    "for i in range(m):\n",
    "    x = x + coefficients[i] * T[i]\n",
    "print(x)"
   ]
  },
  {
   "cell_type": "markdown",
   "metadata": {},
   "source": [
    "Now, interpret the definition of convex combination probabilistically, with $\\lambda_i$ taking the roles of probabilities. Specifically, we can define a random vector $Z$ that takes values $z_i$ with probabilities $\\lambda_i$:\n",
    "$$\n",
    "\\mathbb P \\{Z = z_i\\} = \\lambda_i, \\ \\ \\ i = 1, \\ldots, m.\n",
    "$$"
   ]
  },
  {
   "cell_type": "code",
   "execution_count": 78,
   "metadata": {},
   "outputs": [
    {
     "name": "stdout",
     "output_type": "stream",
     "text": [
      "[array([1, 0, 0])]\n"
     ]
    }
   ],
   "source": [
    "# We can sample from the distribution of this random variable as follows:\n",
    "Z_sample = rand.choices(T, weights = coefficients)\n",
    "print(Z_sample)"
   ]
  },
  {
   "cell_type": "markdown",
   "metadata": {},
   "source": [
    "Consider independent copies $Z_1, \\ldots, Z_k$ of $Z$. Then we are interested in the random variable \n",
    "$$\\left\\lVert x - \\frac{1}{k} \\sum_{j=1}^k Z_j \\right\\rVert_2^2$$."
   ]
  },
  {
   "cell_type": "code",
   "execution_count": 102,
   "metadata": {},
   "outputs": [],
   "source": [
    "# Here is a function that samples from the above distribution, \n",
    "# along with returning the assignments of to Z_1,...,Z_k\n",
    "def sample_from_distribution():\n",
    "    vectors = rand.choices(T, weights = coefficients, k = k)\n",
    "    vec_sum = np.zeros(len(T[0]))\n",
    "    for vec in vectors:\n",
    "        vec_sum = vec_sum + vec\n",
    "    distance = np.sum((x - vec_sum/k)**2)\n",
    "    return distance, vectors"
   ]
  },
  {
   "cell_type": "markdown",
   "metadata": {},
   "source": [
    "In the proof of the theorem it is shown that \n",
    "$$\\mathbb E \\left\\lVert x - \\frac{1}{k} \\sum_{j=1}^k Z_j \\right\\rVert_2^2 \\leq \\frac{\\text{diam}^2(T)}{k}.$$\n",
    "Verify that this generalization to any set $T$ is correct.\n",
    "We must first find ${diam}(T),$ which we do below."
   ]
  },
  {
   "cell_type": "code",
   "execution_count": 106,
   "metadata": {},
   "outputs": [],
   "source": [
    "# Computing diam(T)\n",
    "diamT = 0\n",
    "for i in range(len(T)):\n",
    "    for j in range(i+1, len(T)):\n",
    "        d_xixj = np.sqrt(np.sum((T[i] - T[j])**2))\n",
    "        diamT = d_xixj if (d_xixj > diamT) else diamT"
   ]
  },
  {
   "cell_type": "markdown",
   "metadata": {},
   "source": [
    "We can now check the inequality from above."
   ]
  },
  {
   "cell_type": "code",
   "execution_count": 114,
   "metadata": {},
   "outputs": [
    {
     "data": {
      "image/png": "[encoded data removed]",
      "text/plain": [
       "<Figure size 432x288 with 1 Axes>"
      ]
     },
     "metadata": {
      "needs_background": "light"
     },
     "output_type": "display_data"
    },
    {
     "name": "stdout",
     "output_type": "stream",
     "text": [
      "Best assignment (with value 0.017818472630454947 ): \n",
      "[array([1, 0, 0]), array([0, 0, 1]), array([0, 0, 0]), array([0, 0, 0]), array([0, 0, 1])]\n"
     ]
    }
   ],
   "source": [
    "numSamples = 100000\n",
    "samples = []\n",
    "\n",
    "bestVal = float(\"inf\")\n",
    "best = None\n",
    "for i in range(numSamples):\n",
    "    sample, vectors = sample_from_distribution()\n",
    "    if sample < bestVal:\n",
    "        best = vectors\n",
    "        bestVal = sample\n",
    "    samples.append(sample)    \n",
    "\n",
    "# plotting the example\n",
    "num_bins = 10\n",
    "plt.hist(samples, num_bins, facecolor='blue', alpha=0.5)\n",
    "plt.axvline((diamT**2)/k, color='k', linestyle='dashed', linewidth=1.5, label = \"$diam^2(T)/k$\")\n",
    "plt.axvline(np.mean(samples), color='r', linestyle='dashed', linewidth=1.5, label = \"mean\" )\n",
    "plt.legend()\n",
    "plt.show()\n",
    "print(\"Best assignment (with value\",bestVal, \"): \")\n",
    "print(best)\n"
   ]
  },
  {
   "cell_type": "code",
   "execution_count": null,
   "metadata": {},
   "outputs": [],
   "source": []
  }
 ],
 "metadata": {
  "kernelspec": {
   "display_name": "Python 3",
   "language": "python",
   "name": "python3"
  },
  "language_info": {
   "codemirror_mode": {
    "name": "ipython",
    "version": 3
   },
   "file_extension": ".py",
   "mimetype": "text/x-python",
   "name": "python",
   "nbconvert_exporter": "python",
   "pygments_lexer": "ipython3",
   "version": "3.7.6"
  }
 },
 "nbformat": 4,
 "nbformat_minor": 4
}
