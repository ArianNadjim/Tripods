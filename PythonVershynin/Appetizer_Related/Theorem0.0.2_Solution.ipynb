{
 "cells": [
  {
   "cell_type": "markdown",
   "metadata": {},
   "source": [
    "## Theorem 0.0.2 (Approximate Caratheodory's Theorem)\n",
    "In this worksheet we run through the proof of approximate Caratheodory, keeping an example to work with as we go. Please fill in code where indicated. Here is the theorem (slightly generalized) for reference:\n",
    "\n",
    "**Theorem 0.0.2** (Generalized)**.** *Consider a set $T \\subset \\mathbb{R}^n$. Then, for every point $x \\in \\text{conv}(T)$ and every integer $k$, one can find points $x_1,\\ldots,x_k \\in T$ such that*\n",
    "$$ \\left\\lVert x - \\frac{1}{k}\\sum_{j=1}^k x_j \\right\\rVert \\leq \\frac{\\text{diam}(T)}{\\sqrt k}$$"
   ]
  },
  {
   "cell_type": "code",
   "execution_count": 6,
   "metadata": {},
   "outputs": [],
   "source": [
    "# Some useful imports\n",
    "import matplotlib.pyplot as plt\n",
    "import numpy as np\n",
    "import random as rand\n",
    "import math"
   ]
  },
  {
   "cell_type": "markdown",
   "metadata": {},
   "source": [
    "For the purposes of the code, let us fix a set $T \\subset \\mathbb R^n$ and an integer $k$ to work with."
   ]
  },
  {
   "cell_type": "code",
   "execution_count": 31,
   "metadata": {},
   "outputs": [],
   "source": [
    "# Choose a dimension to work in\n",
    "n = 3\n",
    "\n",
    "# Take some set of points with the points listed as np arrays of length n.\n",
    "T = [np.zeros(3),np.zeros(3)] # TODO: write this!\n",
    "\n",
    "# Pick a k, any k\n",
    "k = 5\n"
   ]
  },
  {
   "cell_type": "markdown",
   "metadata": {},
   "source": [
    "Let $m = |T|$."
   ]
  },
  {
   "cell_type": "code",
   "execution_count": 32,
   "metadata": {},
   "outputs": [],
   "source": [
    "m = 2 # TODO: Set m to the size of T (ideally, don't hard-code this in)"
   ]
  },
  {
   "cell_type": "markdown",
   "metadata": {},
   "source": [
    "Our task is to find some $x \\in \\text{conv}(T)$ and express it as a convex combination of vectors in $T$. Recalling the definition of the convex hull, this amounts to finding an assignment of coefficients $\\lambda_1, \\ldots, \\lambda_m$, so that $\\lambda_1 + \\cdots + \\lambda_m = 1$ and $\\lambda_1,\\ldots,\\lambda_m \\geq 0$.\n",
    "\n",
    "Below we present one way of doing this, but it would be nice to be able to sample more uniformly from $\\text{conv}(T)$. See if you can improve it!"
   ]
  },
  {
   "cell_type": "code",
   "execution_count": 33,
   "metadata": {},
   "outputs": [
    {
     "data": {
      "text/plain": [
       "[0.01639505649315731, 0.9836049435068427]"
      ]
     },
     "execution_count": 33,
     "metadata": {},
     "output_type": "execute_result"
    }
   ],
   "source": [
    "# Find random coefficients lambda_1,...,lambda_m as necessary.\n",
    "# To recap, these satisfy:\n",
    "# 1. lambda_1 + ... + lambda_m = 1\n",
    "# 2. lambda_1, ... , lambda_m >= 0\n",
    "\n",
    "coefficients = [0]*m # initialize list of coefficients\n",
    "perm = np.random.permutation(m) # get a random permutation of 0,...,m-1\n",
    "accum = 1.0\n",
    "for i in perm[:-1]:\n",
    "    # sample from viable range\n",
    "    coefficients[i] = np.random.uniform(0,accum)\n",
    "    accum = accum - coefficients[i]\n",
    "coefficients[perm[-1]] = accum\n",
    "\n",
    "coefficients"
   ]
  },
  {
   "cell_type": "markdown",
   "metadata": {},
   "source": [
    "We can now get $x \\in \\text{conv}(T)$ with $x = \\lambda_1 z_1 + \\cdots + \\lambda_m z_m$ where $z_1, \\ldots, z_m$ are the elements of $T$."
   ]
  },
  {
   "cell_type": "code",
   "execution_count": 34,
   "metadata": {},
   "outputs": [
    {
     "data": {
      "text/plain": [
       "array([0., 0., 0.])"
      ]
     },
     "execution_count": 34,
     "metadata": {},
     "output_type": "execute_result"
    }
   ],
   "source": [
    "# Construct x\n",
    "x = np.zeros(n) # TODO: Write this!\n",
    "\n",
    "x"
   ]
  },
  {
   "cell_type": "markdown",
   "metadata": {},
   "source": [
    "Now, we interpret the definition of convex combination probabilistically, with $\\lambda_i$ taking the roles of probabilities. Specifically, we can define a random vector $Z$ that takes values $z_i$ with probabilities $\\lambda_i$:\n",
    "$$\n",
    "\\mathbb P \\{Z = z_i\\} = \\lambda_i, \\ \\ \\ i = 1, \\ldots, m.\n",
    "$$"
   ]
  },
  {
   "cell_type": "code",
   "execution_count": 35,
   "metadata": {},
   "outputs": [
    {
     "name": "stdout",
     "output_type": "stream",
     "text": [
      "[array([0., 0., 0.])]\n"
     ]
    }
   ],
   "source": [
    "# We can sample from the distribution of this random variable as follows:\n",
    "Z_sample = rand.choices(T, weights = coefficients)\n",
    "print(Z_sample)"
   ]
  },
  {
   "cell_type": "markdown",
   "metadata": {},
   "source": [
    "Consider independent copies $Z_1, \\ldots, Z_k$ of $Z$. Then we are interested in the random variable \n",
    "$$\\left\\lVert x - \\frac{1}{k} \\sum_{j=1}^k Z_j \\right\\rVert_2^2$$."
   ]
  },
  {
   "cell_type": "code",
   "execution_count": 36,
   "metadata": {},
   "outputs": [],
   "source": [
    "# Sample from the distribution of the random variable specified above, and return\n",
    "# the sampled value along with the assignments to Z_1,...,Z_k\n",
    "def sample_from_distribution():\n",
    "    vectors = rand.choices(T, weights = coefficients, k = k)\n",
    "    vec_sum = np.zeros(len(T[0]))\n",
    "    for vec in vectors:\n",
    "        vec_sum = vec_sum + vec\n",
    "    distance = np.sum((x - vec_sum/k)**2)\n",
    "    return distance, vectors"
   ]
  },
  {
   "cell_type": "markdown",
   "metadata": {},
   "source": [
    "In the proof of the theorem it is shown that \n",
    "\\begin{equation}\n",
    "\\mathbb E \\left\\lVert x - \\frac{1}{k} \\sum_{j=1}^k Z_j \\right\\rVert_2^2 \\leq \\frac{\\text{diam}^2(T)}{k} \\tag{1}\n",
    "\\end{equation}\n",
    "\n",
    "Prove that this generalization to an arbitrary set is true."
   ]
  },
  {
   "cell_type": "markdown",
   "metadata": {},
   "source": [
    "We now find $\\text{diam}(T)$. Recall $\\text{diam}(T) = \\sup_{x,y \\in T} \\lvert x - y \\rvert $"
   ]
  },
  {
   "cell_type": "code",
   "execution_count": 37,
   "metadata": {},
   "outputs": [],
   "source": [
    "# Compute diam(T)\n",
    "diamT = 0 # TODO: Write this!"
   ]
  },
  {
   "cell_type": "markdown",
   "metadata": {},
   "source": [
    "We can now verify inequality $(1)$ for our set $T$."
   ]
  },
  {
   "cell_type": "code",
   "execution_count": 38,
   "metadata": {},
   "outputs": [],
   "source": [
    "numSamples = 100000\n",
    "samples = []\n",
    "\n",
    "bestVal = float(\"inf\")\n",
    "best = None\n",
    "for i in range(numSamples):\n",
    "    sample, vectors = sample_from_distribution()\n",
    "    if sample < bestVal:\n",
    "        best = vectors\n",
    "        bestVal = sample\n",
    "    samples.append(sample)"
   ]
  },
  {
   "cell_type": "code",
   "execution_count": 39,
   "metadata": {
    "scrolled": true
   },
   "outputs": [
    {
     "data": {
      "image/png": "[encoded data removed]",
      "text/plain": [
       "<Figure size 432x288 with 1 Axes>"
      ]
     },
     "metadata": {
      "needs_background": "light"
     },
     "output_type": "display_data"
    },
    {
     "name": "stdout",
     "output_type": "stream",
     "text": [
      "Best assignment (with value 0.0 ): \n",
      "[array([0., 0., 0.]), array([0., 0., 0.]), array([0., 0., 0.]), array([0., 0., 0.]), array([0., 0., 0.])]\n"
     ]
    }
   ],
   "source": [
    "# plotting the example\n",
    "num_bins = 10\n",
    "plt.hist(samples, num_bins, facecolor='blue', alpha=0.5)\n",
    "plt.axvline((diamT**2)/k, color='k', linestyle='dashed', linewidth=1.5, label = \"$diam^2(T)/k$\")\n",
    "plt.axvline(np.mean(samples), color='r', linestyle='dashed', linewidth=1.5, label = \"mean\" )\n",
    "plt.legend()\n",
    "plt.show()\n",
    "print(\"Best assignment (with value\",bestVal, \"): \")\n",
    "print(best)"
   ]
  },
  {
   "cell_type": "code",
   "execution_count": null,
   "metadata": {},
   "outputs": [],
   "source": []
  }
 ],
 "metadata": {
  "kernelspec": {
   "display_name": "Python 3",
   "language": "python",
   "name": "python3"
  },
  "language_info": {
   "codemirror_mode": {
    "name": "ipython",
    "version": 3
   },
   "file_extension": ".py",
   "mimetype": "text/x-python",
   "name": "python",
   "nbconvert_exporter": "python",
   "pygments_lexer": "ipython3",
   "version": "3.7.6"
  }
 },
 "nbformat": 4,
 "nbformat_minor": 4
}
