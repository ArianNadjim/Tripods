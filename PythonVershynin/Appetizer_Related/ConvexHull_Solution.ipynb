{
 "cells": [
  {
   "cell_type": "markdown",
   "metadata": {},
   "source": [
    "# Finding the Convex Hull of a Point-Set in $\\mathbb R^2$\n",
    "\n",
    "In this worksheet, we will compute the convex hull of a point-set in $\\mathbb R^2$ using the gift wrapping algorithm and visualize it."
   ]
  },
  {
   "cell_type": "code",
   "execution_count": 1,
   "metadata": {},
   "outputs": [],
   "source": [
    "# import numpy as np\n",
    "import matplotlib.pyplot as plt\n",
    "import random"
   ]
  },
  {
   "cell_type": "markdown",
   "metadata": {},
   "source": [
    "First, we define a class to represent points in $\\mathbb R^2$. Write in code where indicated."
   ]
  },
  {
   "cell_type": "code",
   "execution_count": 2,
   "metadata": {},
   "outputs": [],
   "source": [
    "# A point in two dimensions\n",
    "class PointR2:\n",
    "    # We will represent points with coordinates x1 and x2\n",
    "    def __init__(self, x1, x2):\n",
    "        self.x1 = x1\n",
    "        self.x2 = x2\n",
    "        \n",
    "    # This is how the point is represented if printed\n",
    "    def __repr__(self):\n",
    "        return '(' + str(self.x1) + ', ' + str(self.x2) + ')'\n",
    "    \n",
    "    # Add the point with a given point p and return the result\n",
    "    def add(self, p):\n",
    "        return PointR2(self.x1 + p.x1, self.x2 + p.x2)\n",
    "    \n",
    "    # Subtract a given point p from the point and return the result\n",
    "    def subtract(self, p):\n",
    "        return PointR2(self.x1 - p.x1, self.x2 - p.x2)\n",
    "    \n",
    "    # Return the squared length (x1^2 + x2^2) of the point\n",
    "    def sqrLen(self):\n",
    "        return self.x1*self.x1 + self.x2*self.x2"
   ]
  },
  {
   "cell_type": "markdown",
   "metadata": {},
   "source": [
    "We will now define some functions to deal with points that will be useful for the algorithm."
   ]
  },
  {
   "cell_type": "code",
   "execution_count": 3,
   "metadata": {},
   "outputs": [],
   "source": [
    "# View two 2D vectors as 3D vectors with a 0 x3 component, and find the\n",
    "# x3 component of their cross product.\n",
    "#\n",
    "# Input: two vectors p, q in R2 (as Points)\n",
    "# Output: the x3 component of p x q (when viewed as 3D vectors)\n",
    "def crossProd(p, q):\n",
    "    return p.x1 * q.x2 - q.x1 * p.x2\n",
    "\n",
    "# Find the square of the Euclideam distance between points p and q\n",
    "def sqrDist(p, q):\n",
    "    return (p.x1 - q.x1)**2 + (p.x2 - q.x2)**2\n",
    "    \n",
    "# Find where the point r is w.r.t. the line pq and return:\n",
    "# something > 0 if r is to the left of pq\n",
    "# something < 0 if r is to the right of pq\n",
    "# 0             if p,q,r are colinear\n",
    "def orientation(p, q, r):\n",
    "    return crossProd(q.subtract(p), r.subtract(p))"
   ]
  },
  {
   "cell_type": "markdown",
   "metadata": {},
   "source": [
    "## The Gift Wrapping Algorithm\n",
    "\n",
    "We will now use the gift wrapping algorithm to write a function `getConvexHullR2` which takes a single parameter $T$ (a list of Points), and returns the vertices of the convex hull in clockwise order.\n",
    "\n",
    "The algorithm goes as follows:\n",
    "1. Find the left-most point by minimizing over the $x_1$ coordinate and set it to `pointOnHull`.\n",
    "2. Initialize $i$ to 0.\n",
    "3. Initialize `Hull` as an empty list.\n",
    "4. Loop: \\\n",
    "      a. Set `Hull[i]` to `pointOnHull` \\\n",
    "      b. Set `endpoint` to $T[0]$ \\\n",
    "      c. For $j \\in \\{0,\\ldots,|T|-1\\}$:\n",
    "         i. If `endpoint == pointOnHull` or if $T[j]$ lies to the left of the line from $P[i]$ to `endpoint`, then set `endpoint` to $T[j]$.\n",
    "         ii. $i = i + 1$\n",
    "         iii. Set `pointOnHull` to `endpoint`\n",
    "      \n",
    "   continue Loop from line 4 until endpoint = `Hull[0]` (because we've wrapped around to the first point)\n",
    "   \n",
    "Take a moment to think about why this algorithm works (hint: it's similar to selection sort on lists of numbers). We recommend trying it out on a small example on paper.\n",
    "\n",
    "Now implement it!"
   ]
  },
  {
   "cell_type": "code",
   "execution_count": 4,
   "metadata": {},
   "outputs": [],
   "source": [
    "# Given a finite set T of points in R2, find the boundary polygon of conv(T).\n",
    "# Note that this solution is written slightly differently than the pseudocode above.\n",
    "#\n",
    "# Input: a set T of Points\n",
    "# Output: the vertices of the polygon clockwise\n",
    "def getConvexHullR2(T):\n",
    "    # minimize over x1-coodinate of points\n",
    "    p = min(T, key = lambda point: point.x1)\n",
    "    # get the index of the x1-coord minimizer in the list T\n",
    "    index = T.index(p);   \n",
    "    \n",
    "    l = index\n",
    "    \n",
    "    # initialize the resulting convex hull\n",
    "    result = []\n",
    "    result.append(p)\n",
    "    while(True):\n",
    "        # q is chosen so that q != l\n",
    "        q = (l + 1) % len(T)\n",
    "        for i in range(len(T)):\n",
    "            if i == l:\n",
    "                continue\n",
    "            \n",
    "            # get the orientation of T[i] w.r.t line T[l]T[q]\n",
    "            d = orientation(T[l], T[q], T[i])\n",
    "            # if T[i] is to the left of T[l]T[q], do i->q (i is the new leftmost point)\n",
    "            # if T[i] lies on T[l]T[q], choose T[i] as the new point only if \n",
    "            # length of T[l]T[i] is greater than length of T[l]T[q]\n",
    "            # if i = q then we ignore it\n",
    "            if d > 0 or (d == 0 and sqrDist(T[l],T[i]) > sqrDist(T[l],T[q])):\n",
    "                q = i\n",
    "        # After the for-loop terminates, T[q] is the leftmost w.r.t. T[l]\n",
    "        l = q\n",
    "        # we have closed the polygon and are finished\n",
    "        if l == index:\n",
    "            break\n",
    "        # otherwise add T[q] to the path\n",
    "        result.append(T[q])\n",
    "    return result"
   ]
  },
  {
   "cell_type": "markdown",
   "metadata": {},
   "source": [
    "Let us now test the method we wrote by running it on a set of points and plotting the outcome."
   ]
  },
  {
   "cell_type": "code",
   "execution_count": 5,
   "metadata": {},
   "outputs": [],
   "source": [
    "# Create a list of N points\n",
    "N = 50 # pick an N\n",
    "T = [PointR2(a[0], a[1]) for a in \n",
    "    [[random.random() for i in range(2)] for j in range(N)]]\n",
    "\n",
    "# Compute the convex hull\n",
    "hull = getConvexHullR2(T)"
   ]
  },
  {
   "cell_type": "code",
   "execution_count": 6,
   "metadata": {},
   "outputs": [
    {
     "data": {
      "image/png": "[encoded data removed]",
      "text/plain": [
       "<Figure size 576x576 with 1 Axes>"
      ]
     },
     "metadata": {
      "needs_background": "light"
     },
     "output_type": "display_data"
    }
   ],
   "source": [
    "# Plot the points and the hull\n",
    "# Feel free to play around with the visualization!\n",
    "plt.figure(figsize = (8,8))\n",
    "plt.axis('equal')\n",
    "plt.fill([p.x1 for p in hull], [p.x2 for p in hull], 'y')\n",
    "plt.plot([p.x1 for p in T], [p.x2 for p in T], 'or')\n",
    "plt.show()"
   ]
  },
  {
   "cell_type": "code",
   "execution_count": null,
   "metadata": {},
   "outputs": [],
   "source": []
  }
 ],
 "metadata": {
  "kernelspec": {
   "display_name": "Python 3",
   "language": "python",
   "name": "python3"
  },
  "language_info": {
   "codemirror_mode": {
    "name": "ipython",
    "version": 3
   },
   "file_extension": ".py",
   "mimetype": "text/x-python",
   "name": "python",
   "nbconvert_exporter": "python",
   "pygments_lexer": "ipython3",
   "version": "3.7.6"
  }
 },
 "nbformat": 4,
 "nbformat_minor": 4
}
