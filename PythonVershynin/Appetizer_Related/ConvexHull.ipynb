{
 "cells": [
  {
   "cell_type": "markdown",
   "metadata": {},
   "source": [
    "# Finding the Convex Hull of a Point-Set in $\\mathbb R^2$\n",
    "\n",
    "In this worksheet, we will compute the convex hull of a point-set in $\\mathbb R^2$ using the gift wrapping algorithm and visualize it."
   ]
  },
  {
   "cell_type": "code",
   "execution_count": 1,
   "metadata": {},
   "outputs": [],
   "source": [
    "# import numpy as np\n",
    "import matplotlib.pyplot as plt\n",
    "import random"
   ]
  },
  {
   "cell_type": "markdown",
   "metadata": {},
   "source": [
    "First, we define a class to represent points in $\\mathbb R^2$. Write in code where indicated."
   ]
  },
  {
   "cell_type": "code",
   "execution_count": 20,
   "metadata": {},
   "outputs": [],
   "source": [
    "# A point in two dimensions\n",
    "class PointR2:\n",
    "    # We will represent points with coordinates x1 and x2\n",
    "    def __init__(self, x1, x2):\n",
    "        self.x1 = x1\n",
    "        self.x2 = x2\n",
    "        \n",
    "    # This is how the point is represented if printed\n",
    "    def __repr__(self):\n",
    "        return '(' + str(self.x1) + ', ' + str(self.x2) + ')'\n",
    "    \n",
    "    # Add the point with a given point p and return the result\n",
    "    def add(self, p):\n",
    "        return p # TODO: Write this!\n",
    "    \n",
    "    # Subtract a given point p from the point and return the result\n",
    "    def subtract(self, p):\n",
    "        return p # TODO: Write this!\n",
    "    \n",
    "    # Return the squared length (x1^2 + x2^2) of the point\n",
    "    def sqrLen(self):\n",
    "        return 0 # TODO: Write this!"
   ]
  },
  {
   "cell_type": "markdown",
   "metadata": {},
   "source": [
    "We will now define some functions to deal with points that will be useful for the algorithm."
   ]
  },
  {
   "cell_type": "code",
   "execution_count": 21,
   "metadata": {},
   "outputs": [],
   "source": [
    "# View two 2D vectors as 3D vectors with a 0 x3 component, and find the\n",
    "# x3 component of their cross product.\n",
    "#\n",
    "# Input: two vectors p, q in R2 (as Points)\n",
    "# Output: the x3 component of p x q (when viewed as 3D vectors)\n",
    "def crossProd(p, q):\n",
    "    return 0 # TODO: Write this!\n",
    "\n",
    "# Find the square of the Euclideam distance between points p and q\n",
    "def sqrDist(p, q):\n",
    "    return 0 # TODO: Write this!\n",
    "    \n",
    "# Find where the point r is w.r.t. the line pq and return:\n",
    "# something > 0 if r is to the left of pq\n",
    "# something < 0 if r is to the right of pq\n",
    "# 0             if p,q,r are colinear\n",
    "def orientation(p, q, r):\n",
    "    return 0 # hint: use the right hand rule for the cross product"
   ]
  },
  {
   "cell_type": "markdown",
   "metadata": {},
   "source": [
    "## The Gift Wrapping Algorithm\n",
    "\n",
    "We will now use the gift wrapping algorithm to write a function `getConvexHullR2` which takes a single parameter $T$ (a list of Points), and returns the vertices of the convex hull in clockwise order.\n",
    "\n",
    "The algorithm goes as follows:\n",
    "1. Find the left-most point by minimizing over the $x_1$ coordinate and set it to `pointOnHull`.\n",
    "2. Initialize $i$ to 0.\n",
    "3. Initialize `Hull` as an empty list.\n",
    "4. Loop: \\\n",
    "      a. Set `Hull[i]` to `pointOnHull` \\\n",
    "      b. Set `endpoint` to $T[0]$ \\\n",
    "      c. For $j \\in \\{0,\\ldots,|T|-1\\}$:\n",
    "         i. If `endpoint == pointOnHull` or if $T[j]$ lies to the left of the line from $P[i]$ to `endpoint`, then set `endpoint` to $T[j]$.\n",
    "         ii. $i = i + 1$\n",
    "         iii. Set `pointOnHull` to `endpoint`\n",
    "      \n",
    "   continue Loop from line 4 until endpoint = `Hull[0]` (because we've wrapped around to the first point)\n",
    "   \n",
    "Take a moment to think about why this algorithm works (hint: it's similar to selection sort on lists of numbers). We recommend trying it out on a small example on paper.\n",
    "\n",
    "Now implement it!"
   ]
  },
  {
   "cell_type": "code",
   "execution_count": 22,
   "metadata": {},
   "outputs": [],
   "source": [
    "# Given a finite set T of points in R2, find the boundary polygon of conv(T).\n",
    "# Note that this solution is written slightly differently than the pseudocode above.\n",
    "#\n",
    "# Input: a set T of Points\n",
    "# Output: the vertices of the polygon clockwise\n",
    "def getConvexHullR2(T):\n",
    "    hull = []\n",
    "    return hull"
   ]
  },
  {
   "cell_type": "markdown",
   "metadata": {},
   "source": [
    "Let us now test the method we wrote by running it on a set of points and plotting the outcome."
   ]
  },
  {
   "cell_type": "code",
   "execution_count": 23,
   "metadata": {},
   "outputs": [],
   "source": [
    "# Create a list of N points\n",
    "N = 50 # pick an N\n",
    "T = [] # TODO: Generate a list of N points.\n",
    "       # We recommend generating random points (generating these by hand might not be ideal for large N)\n",
    "\n",
    "# Compute the convex hull\n",
    "hull = getConvexHullR2(T)"
   ]
  },
  {
   "cell_type": "code",
   "execution_count": 24,
   "metadata": {},
   "outputs": [
    {
     "data": {
      "image/png": "[encoded data removed]",
      "text/plain": [
       "<Figure size 576x576 with 1 Axes>"
      ]
     },
     "metadata": {
      "needs_background": "light"
     },
     "output_type": "display_data"
    }
   ],
   "source": [
    "# Plot the points and the hull\n",
    "# Feel free to play around with the visualization!\n",
    "plt.figure(figsize = (8,8))\n",
    "plt.axis('equal')\n",
    "plt.fill([p.x1 for p in hull], [p.x2 for p in hull], 'y')\n",
    "plt.plot([p.x1 for p in T], [p.x2 for p in T], 'or')\n",
    "plt.show()"
   ]
  }
 ],
 "metadata": {
  "kernelspec": {
   "display_name": "Python 3",
   "language": "python",
   "name": "python3"
  },
  "language_info": {
   "codemirror_mode": {
    "name": "ipython",
    "version": 3
   },
   "file_extension": ".py",
   "mimetype": "text/x-python",
   "name": "python",
   "nbconvert_exporter": "python",
   "pygments_lexer": "ipython3",
   "version": "3.7.6"
  }
 },
 "nbformat": 4,
 "nbformat_minor": 4
}
