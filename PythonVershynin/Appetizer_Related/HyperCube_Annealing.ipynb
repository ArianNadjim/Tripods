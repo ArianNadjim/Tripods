{
 "cells": [
  {
   "cell_type": "code",
   "execution_count": 129,
   "metadata": {},
   "outputs": [
    {
     "name": "stdout",
     "output_type": "stream",
     "text": [
      "[[1 1 0 1 0 1 0 0 0 0]\n",
      " [1 0 0 0 1 0 0 0 1 0]\n",
      " [1 0 0 0 1 1 0 0 1 0]\n",
      " [1 0 0 0 0 0 0 0 1 1]\n",
      " [1 1 1 1 1 1 1 0 1 1]\n",
      " [1 0 0 0 1 0 0 1 0 0]\n",
      " [1 1 0 1 0 0 1 0 1 1]\n",
      " [0 0 0 0 0 0 0 0 1 0]]\n",
      "Best :  0.7101586419527649\n"
     ]
    },
    {
     "data": {
      "image/png": "[encoded data removed]",
      "text/plain": [
       "<Figure size 432x288 with 1 Axes>"
      ]
     },
     "metadata": {
      "needs_background": "light"
     },
     "output_type": "display_data"
    }
   ],
   "source": [
    "import math\n",
    "import numpy as np\n",
    "import random as rand\n",
    "import matplotlib.pyplot as plt\n",
    "# Use simulated annealing\n",
    "\n",
    "# Problem Configuration\n",
    "n = 10;\n",
    "k = 8;\n",
    "x = np.array([rand.random() for i in range(n)]) # point of interest\n",
    "swapConst = 0.1; # like Boltzmann constant\n",
    "\n",
    "temp = 1000;\n",
    "coolRate = 0.01;\n",
    "\n",
    "# cost function for the problem \n",
    "# Cost of state w.r.t x\n",
    "def energy(state):\n",
    "    # Euclidean distance\n",
    "    return np.sqrt(np.sum((x - np.sum(state, axis = 0)/k)**2));\n",
    "\n",
    "def probability(E1, E2, temp):\n",
    "    return 1.0 if E2 < E1 else math.exp((E1-E2) / temp)\n",
    "\n",
    "\n",
    "def annealing():\n",
    "    temp = 1000;\n",
    "    coolRate = 0.001;\n",
    "    swapConst = 0.1;\n",
    "    \n",
    "    # for fit analysis\n",
    "    fit = []\n",
    "    # Give a first guess\n",
    "    current = np.array([[rand.randint(0,1) for j in range(n)] for i in range(k)])\n",
    "    # Best solution so-far \n",
    "    best = current;\n",
    "    while temp > .01:\n",
    "        neighbor = np.copy(current)\n",
    "        # this tells us how many strings undergo swaps\n",
    "#         swapNum = 1 + math.floor(k*math.exp((E1-E2) / (swapConst*temp)));\n",
    "\n",
    "#         posList = rand.sample(range(k), swapNum)\n",
    "#         for i in posList:\n",
    "#             a = rand.randint(0,n-1);\n",
    "#             neighbor[i][a] = 1 if neighbor[i][a] == 0 else 1;\n",
    "\n",
    "        a = rand.randint(0, k-1)\n",
    "        b = rand.randint(0, n-1)\n",
    "        neighbor[a][b] = 1 if neighbor[a][b] == 0 else 1\n",
    "            \n",
    "        curr_energy = energy(current)\n",
    "        neighbor_energy = energy(neighbor)\n",
    "        # accept on given probability\n",
    "        if (probability(curr_energy, neighbor_energy, temp) > rand.random()):\n",
    "            current = neighbor\n",
    "        \n",
    "        # Check if this solution is the best so-far\n",
    "        if (neighbor_energy < energy(best)):\n",
    "            best = current;\n",
    "            \n",
    "        fit.append(energy(current))\n",
    "        temp *= 1 - coolRate\n",
    "    \n",
    "    return best, fit\n",
    "        \n",
    "    \n",
    "best, fit = annealing()\n",
    "print(best)\n",
    "print(\"Best : \", energy(best))\n",
    "# plot the figure\n",
    "plt.figure()\n",
    "plt.plot(fit)\n",
    "plt.show()"
   ]
  },
  {
   "cell_type": "code",
   "execution_count": 86,
   "metadata": {},
   "outputs": [
    {
     "name": "stdout",
     "output_type": "stream",
     "text": [
      "10\n"
     ]
    }
   ],
   "source": [
    "E1 = 0.1\n",
    "E2 = 1\n",
    "temp = 90\n",
    "swapNum = 1 + math.floor(n*math.exp((E1-E2) / (0.1*temp)))                        \n",
    "print(swapNum);\n"
   ]
  },
  {
   "cell_type": "code",
   "execution_count": null,
   "metadata": {},
   "outputs": [],
   "source": []
  },
  {
   "cell_type": "code",
   "execution_count": null,
   "metadata": {},
   "outputs": [],
   "source": []
  }
 ],
 "metadata": {
  "kernelspec": {
   "display_name": "Python 3",
   "language": "python",
   "name": "python3"
  },
  "language_info": {
   "codemirror_mode": {
    "name": "ipython",
    "version": 3
   },
   "file_extension": ".py",
   "mimetype": "text/x-python",
   "name": "python",
   "nbconvert_exporter": "python",
   "pygments_lexer": "ipython3",
   "version": "3.7.6"
  }
 },
 "nbformat": 4,
 "nbformat_minor": 4
}
